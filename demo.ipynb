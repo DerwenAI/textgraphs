{
 "cells": [
  {
   "cell_type": "markdown",
   "id": "c8ff5d81-110c-42ae-8aa7-ed4fffea40c6",
   "metadata": {},
   "source": [
    "# demo: TextGraphs + LLMs to construct a 'lemma graph'"
   ]
  },
  {
   "cell_type": "markdown",
   "id": "1e847d0a-bc6c-470a-9fef-620ebbdbbbc3",
   "metadata": {},
   "source": [
    "_TextGraphs_ library is intended for iterating through a sequence of paragraphs."
   ]
  },
  {
   "cell_type": "markdown",
   "id": "330e6e0e-c0fb-4220-bc58-adddca9c5ba4",
   "metadata": {},
   "source": [
    "## intro"
   ]
  },
  {
   "cell_type": "code",
   "execution_count": 1,
   "id": "38ccf764-0547-4f5b-b0d4-fc5f371b14ac",
   "metadata": {
    "execution": {
     "iopub.execute_input": "2023-12-17T02:46:26.260368Z",
     "iopub.status.busy": "2023-12-17T02:46:26.259775Z",
     "iopub.status.idle": "2023-12-17T02:46:26.288419Z",
     "shell.execute_reply": "2023-12-17T02:46:26.287341Z",
     "shell.execute_reply.started": "2023-12-17T02:46:26.260329Z"
    }
   },
   "outputs": [
    {
     "data": {
      "text/html": [
       "<details>\n",
       "  <summary><strong>TL;DR</strong></summary>\n",
       "  <p>\n",
       "    Construct a <em>lemma graph</em>, then perform <em>entity linking</em> based on:\n",
       "    <code>spaCy</code>, <code>transformers</code>, <code>SpanMarkerNER</code>,\n",
       "    <code>spaCy-DBpedia-Spotlight</code>, <code>REBEL</code>, <code>OpenNRE</code>,\n",
       "    <code>spaCy fishing</code>, <code>qwikidata</code>, <code>pulp</code>\n",
       "  </p>\n",
       "  <p>\n",
       "    In other words, this hybrid approach integrates\n",
       "    <em>NLP parsing</em>, <em>LLMs</em>, <em>graph algorithms</em>, <em>semantic inference</em>, <em>operations research</em>,\n",
       "    and also provides UX affordances for including <em>human-in-the-loop</em> practices.\n",
       "    The following demo illustrates a small problem, and addresses a much broader class of AI problems in industry.\n",
       "  </p>\n",
       "  <p>\n",
       "    This step is a prelude before leveraging\n",
       "    <em>topological transforms</em>, <em>large language models</em>, <em>graph representation learning</em>,\n",
       "    plus <em>human-in-the-loop</em> domain expertise to infer\n",
       "    the nodes, edges, properties, and probabilities needed for the\n",
       "    semi-automated construction of a <em>knowledge graph</em> from\n",
       "    raw unstructured text sources.\n",
       "  </p>\n",
       "  <p>\n",
       "    In addition to providing a library for production use cases,\n",
       "    <code>TextGraphs</code> creates a \"playground\" or \"gym\"\n",
       "    in which to prototype and evaluate abstractions based on\n",
       "    <a href=\"https://blog.derwen.ai/graph-levels-of-detail-ea4226abba55\" target=\"_blank\">\"Graph Levels Of Detail\"</a>.\n",
       "  </p>\n",
       "  <ol>\n",
       "    <li>use <code>spaCy</code> to parse a document, with <code>SpanMarkerNER</code> LLM assist</li>\n",
       "    <li>add noun chunks in parallel to entities, as \"candidate\" phrases for subsequent HITL</li>\n",
       "    <li>perform <em>entity linking</em>: <code>spaCy-DBpedia-Spotlight</code>, <code>spaCy fishing</code></li>\n",
       "    <li>infer relations, plus graph inference: <code>REBEL</code>, <code>OpenNRE</code>, <code>qwikidata</code></li>\n",
       "    <li>build a <em>lemma graph</em> in <code>NetworkX</code> from the parse results</li>\n",
       "    <li>run a modified <code>textrank</code> algorithm plus graph analytics</li>\n",
       "    <li>approximate a <em>pareto archive</em> (hypervolume) to re-rank extracted entities with <code>pulp</code></li>\n",
       "    <li>visualize the <em>lemma graph</em> interactively in <code>PyVis</code></li>\n",
       "    <li>cluster communities within the <em>lemma graph</em>\n",
       "    <li>apply topological transforms to enhance embeddings (in progress)</li>\n",
       "    <li>run graph representation learning on the <em>graph of relations</em> (in progress)</li>\n",
       "  </ol>\n",
       "  <p>\n",
       "    ...\n",
       "  </p>\n",
       "  <ol start=\"13\">\n",
       "    <li>PROFIT!</li>\n",
       "  </ol>\n",
       "</details>\n",
       "\n",
       "\n",
       "<details>\n",
       "  <summary><strong>More details...</strong></summary>\n",
       "  <p>\n",
       "    Implementation of an LLM-augmented <code>textgraph</code> algorithm for\n",
       "    constructing a <em>lemma graph</em> from raw, unstructured text source.\n",
       "  </p>\n",
       "  <p>\n",
       "    The <code>TextGraphs</code> library is based on work developed by\n",
       "    <a href=\"https://derwen.ai/graph\" target=\"_blank\">Derwen</a>\n",
       "    in 2023 Q2 for customer apps and used in our <code>Cysoni</code>\n",
       "    product.\n",
       "    This demo integrates code from:\n",
       "  </p>\n",
       "  <ul>\n",
       "    <li>\n",
       "      <a href=\"https://github.com/tomaarsen/SpanMarkerNER/\" target=\"_blank\"><code>SpanMarkerNER</code></a>\n",
       "    </li>\n",
       "    <li>\n",
       "      <a href=\"https://github.com/MartinoMensio/spacy-dbpedia-spotlight\" target=\"_blank\"><code>spaCy-DBpedia-Spotlight</code></a>\n",
       "    </li>\n",
       "    <li>\n",
       "      <a href=\"https://github.com/Babelscape/rebel\" target=\"_blank\"><code>REBEL</code></a>\n",
       "    </li>\n",
       "    <li>\n",
       "      <a href=\"https://github.com/thunlp/OpenNRE/\" target=\"_blank\"><code>OpenNRE</code></a>\n",
       "    </li>\n",
       "    <li>\n",
       "      <a href=\"https://github.com/Lucaterre/spacyfishing\" target=\"_blank\"><code>spaCy fishing</code></a>\n",
       "    </li>\n",
       "    <li>\n",
       "      <a href=\"https://github.com/kensho-technologies/qwikidata\" target=\"_blank\"><code>qwikidata</code></a>\n",
       "    </li>\n",
       "    <li>\n",
       "      <a href=\"https://github.com/coin-or/pulp\" target=\"_blank\"><code>pulp</code></a>\n",
       "    </li>\n",
       "    <li>\n",
       "      <a href=\"https://spacy.io/\" target=\"_blank\"><code>spaCy</code></a>\n",
       "    </li>\n",
       "    <li>\n",
       "      <a href=\"https://huggingface.co/docs/transformers/index\" target=\"_blank\"><code>HF transformers</code></a>\n",
       "    </li>\n",
       "    <li>\n",
       "      <a href=\"https://github.com/DerwenAI/pytextrank/\" target=\"_blank\"><code>PyTextRank</code></a>\n",
       "    </li>\n",
       "  </ul>\n",
       "\n",
       "  <p>\n",
       "    For more details about this approach, see these talks:\n",
       "  </p>\n",
       "  <ul>\n",
       "    <li>\n",
       "      <a href=\"https://derwen.ai/s/mqqm\" target=\"_blank\">\"Language, Graphs, and AI in Industry\"</a>\n",
       "      <br/>\n",
       "      <strong>Paco Nathan</strong>, K1st World (2023-10-11)\n",
       "    </li>\n",
       "    <li>\n",
       "      <a href=\"https://derwen.ai/s/rhvg\" target=\"_blank\">\"Language Tools for Creators\"</a>\n",
       "      <br/>\n",
       "      <strong>Paco Nathan</strong>, FOSSY (2023-07-13)\n",
       "    </li>\n",
       "  </ul>\n",
       "\n",
       "  <p>\n",
       "    Other good tutorials (during 2023) which include related material:\n",
       "  </p>\n",
       "  <ul>\n",
       "    <li>\n",
       "      <a href=\"https://youtu.be/C9p7suS-NGk?si=7Ohq3BV654ia2Im4\" target=\"_blank\">\"Natural Intelligence is All You Need™\"</a>\n",
       "      <br/>\n",
       "      <strong>Vincent Warmerdam</strong>, PyData Amsterdam (2023-09-15)\n",
       "    </li>\n",
       "    <li>\n",
       "      <a href=\"https://towardsdatascience.com/how-to-convert-any-text-into-a-graph-of-concepts-110844f22a1a\" target=\"_blank\">\"How to Convert Any Text Into a Graph of Concepts\"</a>\n",
       "      <br/>\n",
       "      <strong>Rahul Nayak</strong>, <em>Towards Data Science</em> (2023-11-09)\n",
       "    </li>\n",
       "    <li>\n",
       "      <a href=\"https://medium.com/@nizami_muhammad/extracting-relation-from-sentence-using-llm-597d0c0310a8\" target=\"_blank\">\"Extracting Relation from Sentence using LLM\"</a>\n",
       "      <br/>\n",
       "      <strong>Muhammad Nizami</strong> <em>Medium</em> (2023-11-15)\n",
       "    <li>\n",
       "  </ul>\n",
       "</details>\n",
       "\n",
       "\n",
       "<details>\n",
       "  <summary><strong>Bibliography...</strong></summary>\n",
       "\n",
       "  <p>\n",
       "    \"Automatic generation of hypertext knowledge bases\"\n",
       "    <br/>\n",
       "    <strong>Udo Hahn</strong>, <strong>Ulrich Reimer</strong>\n",
       "    <br/>\n",
       "    <em>ACM SIGOIS</em> 9:2 (1988-04-01)\n",
       "    <br/>\n",
       "    <a href=\"https://doi.org/10.1145/966861.45429\" target=\"_blank\">https://doi.org/10.1145/966861.45429</a>\n",
       "  </p>\n",
       "  <blockquote>\n",
       "    The condensation process transforms the text representation structures resulting from the text parse into a more abstract thematic description of what the text is about, filtering out irrelevant knowledge structures and preserving only the most salient concepts.\n",
       "  </blockquote>\n",
       "\n",
       "  <p>\n",
       "    <em>Graph Representation Learning</em>\n",
       "    <br/>\n",
       "    <strong>William Hamilton</strong>\n",
       "    <br/>\n",
       "    Morgan and Claypool (pre-print 2020)\n",
       "    <br/>\n",
       "    <a href=\"https://www.cs.mcgill.ca/~wlh/grl_book/\" target=\"_blank\">https://www.cs.mcgill.ca/~wlh/grl_book/</a>\n",
       "  </p>\n",
       "  <blockquote>\n",
       "    A brief but comprehensive introduction to graph representation learning, including methods for embedding graph data, graph neural networks, and deep generative models of graphs.\n",
       "  </blockquote>\n",
       "\n",
       "  <p>\n",
       "    \"RED<sup>FM</sup>: a Filtered and Multilingual Relation Extraction Dataset\"\n",
       "    <br/>\n",
       "    <strong>Pere-Lluís Huguet Cabot</strong>, <strong>Simone Tedeschi</strong>, <strong>Axel-Cyrille Ngonga Ngomo</strong>, <strong>Roberto Navigli</strong>\n",
       "    <br/>\n",
       "    <em>ACL</em> (2023-06-19)\n",
       "    <br/>\n",
       "    <a href=\"https://arxiv.org/abs/2306.09802\" target=\"_blank\">https://arxiv.org/abs/2306.09802</a>\n",
       "  </p>\n",
       "  <blockquote>\n",
       "    Relation Extraction (RE) is a task that identifies relationships between entities in a text, enabling the acquisition of relational facts and bridging the gap between natural language and structured knowledge. However, current RE models often rely on small datasets with low coverage of relation types, particularly when working with languages other than English. In this paper, we address the above issue and provide two new resources that enable the training and evaluation of multilingual RE systems.\n",
       "  </blockquote>\n",
       "\n",
       "  <p>\n",
       "    \"InGram: Inductive Knowledge Graph Embedding via Relation Graphs\"\n",
       "    <br/>\n",
       "    <strong>Jaejun Lee</strong>, <strong>Chanyoung Chung</strong>, <strong>Joyce Jiyoung Whang</strong>\n",
       "    <br/>\n",
       "    <em>ICML</em> (2023–08–17)\n",
       "    <br/>\n",
       "    <a href=\"https://arxiv.org/abs/2305.19987\" target=\"_blank\">https://arxiv.org/abs/2305.19987</a>\n",
       "  </p>\n",
       "  <blockquote>\n",
       "    In this paper, we propose an INductive knowledge GRAph eMbedding method, InGram, that can generate embeddings of new relations as well as new entities at inference time.\n",
       "  </blockquote>\n",
       "\n",
       "  <p>\n",
       "    \"TextRank: Bringing Order into Text\"\n",
       "    <br/>\n",
       "    <strong>Rada Mihalcea</strong>, <strong>Paul Tarau</strong>\n",
       "    <br/>\n",
       "    <em>EMNLP</em> (2004-07-25)\n",
       "    <br/>\n",
       "    <a href=\"https://aclanthology.org/W04-3252\" target=\"_blank\">https://aclanthology.org/W04-3252</a>\n",
       "  </p>\n",
       "  <blockquote>\n",
       "    In this paper, the authors introduce TextRank, a graph-based ranking model for text processing, and show how this model can be successfully used in natural language applications.\n",
       "  </blockquote>\n",
       "\n",
       "</details>\n",
       "\n",
       "<hr/>\n"
      ],
      "text/plain": [
       "<IPython.core.display.HTML object>"
      ]
     },
     "metadata": {},
     "output_type": "display_data"
    }
   ],
   "source": [
    "import pathlib\n",
    "from IPython.display import display, HTML, Image\n",
    "display(HTML(pathlib.Path(\"docs/demo/blurb.1.html\").read_text(encoding = \"utf-8\")))"
   ]
  },
  {
   "cell_type": "markdown",
   "id": "1a04e3dc-57d8-43a4-a342-cc38b86fc6a6",
   "metadata": {},
   "source": [
    "## parse a document"
   ]
  },
  {
   "cell_type": "code",
   "execution_count": 2,
   "id": "22489527-2ad5-4e3c-be23-f511e6bcf69f",
   "metadata": {
    "execution": {
     "iopub.execute_input": "2023-12-17T02:46:26.294602Z",
     "iopub.status.busy": "2023-12-17T02:46:26.291571Z",
     "iopub.status.idle": "2023-12-17T02:46:35.491582Z",
     "shell.execute_reply": "2023-12-17T02:46:35.490762Z",
     "shell.execute_reply.started": "2023-12-17T02:46:26.294530Z"
    },
    "scrolled": true
   },
   "outputs": [],
   "source": [
    "from icecream import ic\n",
    "from pyinstrument import Profiler\n",
    "import matplotlib.pyplot as plt\n",
    "import pandas as pd\n",
    "import pyvis\n",
    "import spacy\n",
    "\n",
    "import textgraphs"
   ]
  },
  {
   "cell_type": "markdown",
   "id": "7c567afd-2f44-4391-899a-da6aba3d222e",
   "metadata": {},
   "source": [
    "provide the source text"
   ]
  },
  {
   "cell_type": "code",
   "execution_count": 3,
   "id": "630430c5-21dc-4897-9a4b-3b01baf3de17",
   "metadata": {
    "execution": {
     "iopub.execute_input": "2023-12-17T02:46:35.495043Z",
     "iopub.status.busy": "2023-12-17T02:46:35.494722Z",
     "iopub.status.idle": "2023-12-17T02:46:35.499691Z",
     "shell.execute_reply": "2023-12-17T02:46:35.498819Z",
     "shell.execute_reply.started": "2023-12-17T02:46:35.495005Z"
    }
   },
   "outputs": [],
   "source": [
    "SRC_TEXT: str = \"\"\"                                                                                                                      \n",
    "Werner Herzog is a remarkable filmmaker and an intellectual originally from Germany, the son of Dietrich Herzog.\n",
    "Although in fact Werner Herzog never really liked his father, as we all know.\n",
    "After the war, Werner fled to America to become famous.\n",
    "\"\"\""
   ]
  },
  {
   "cell_type": "markdown",
   "id": "01152885-f301-49b1-ab61-f5b19d81c036",
   "metadata": {},
   "source": [
    "set up the statistical stack profiling"
   ]
  },
  {
   "cell_type": "code",
   "execution_count": 4,
   "id": "2a289117-301d-4027-ae1b-200201fb5f93",
   "metadata": {
    "execution": {
     "iopub.execute_input": "2023-12-17T02:46:35.501245Z",
     "iopub.status.busy": "2023-12-17T02:46:35.500993Z",
     "iopub.status.idle": "2023-12-17T02:46:35.506196Z",
     "shell.execute_reply": "2023-12-17T02:46:35.504756Z",
     "shell.execute_reply.started": "2023-12-17T02:46:35.501214Z"
    }
   },
   "outputs": [],
   "source": [
    "profiler: Profiler = Profiler()\n",
    "profiler.start()"
   ]
  },
  {
   "cell_type": "markdown",
   "id": "bf9d4f99-b82b-4d11-a9a4-31d0337f4aa8",
   "metadata": {},
   "source": [
    "set up the `TextGraphs` pipeline"
   ]
  },
  {
   "cell_type": "code",
   "execution_count": 5,
   "id": "da6fcb0f-b2ac-4f74-af39-2c129c750cab",
   "metadata": {
    "execution": {
     "iopub.execute_input": "2023-12-17T02:46:35.510239Z",
     "iopub.status.busy": "2023-12-17T02:46:35.509573Z",
     "iopub.status.idle": "2023-12-17T02:46:53.195147Z",
     "shell.execute_reply": "2023-12-17T02:46:53.192814Z",
     "shell.execute_reply.started": "2023-12-17T02:46:35.510170Z"
    }
   },
   "outputs": [],
   "source": [
    "tg: textgraphs.TextGraphs = textgraphs.TextGraphs(\n",
    "    factory = textgraphs.PipelineFactory(\n",
    "        spacy_model = textgraphs.SPACY_MODEL,\n",
    "        ner_model = None,\n",
    "        kg = textgraphs.WikiDatum(\n",
    "            spotlight_api = textgraphs.DBPEDIA_SPOTLIGHT_API,\n",
    "            dbpedia_search_api = textgraphs.DBPEDIA_SEARCH_API,\n",
    "    \t\twikidata_api = textgraphs.WIKIDATA_API,\n",
    "        ),\n",
    "        infer_rels = [\n",
    "    \t\ttextgraphs.InferRel_OpenNRE(\n",
    "                model = textgraphs.OPENNRE_MODEL,\n",
    "                max_skip = textgraphs.MAX_SKIP,\n",
    "                min_prob = textgraphs.OPENNRE_MIN_PROB,\n",
    "    \t\t),\n",
    "            textgraphs.InferRel_Rebel(\n",
    "                lang = \"en_XX\",\n",
    "                mrebel_model = textgraphs.MREBEL_MODEL,\n",
    "            ),\n",
    "        ],\n",
    "    ),\n",
    ")\n",
    "\n",
    "pipe: textgraphs.Pipeline = tg.create_pipeline(\n",
    "    SRC_TEXT.strip(),\n",
    ")"
   ]
  },
  {
   "cell_type": "markdown",
   "id": "8b71b841-0cf5-4cc6-af4c-c85344b8f6c5",
   "metadata": {},
   "source": [
    "## visualize the parse results"
   ]
  },
  {
   "cell_type": "code",
   "execution_count": 6,
   "id": "00d5cc5d-d3e7-4363-99ac-fd3f739d176e",
   "metadata": {
    "execution": {
     "iopub.execute_input": "2023-12-17T02:46:53.198982Z",
     "iopub.status.busy": "2023-12-17T02:46:53.198537Z",
     "iopub.status.idle": "2023-12-17T02:46:53.209318Z",
     "shell.execute_reply": "2023-12-17T02:46:53.208595Z",
     "shell.execute_reply.started": "2023-12-17T02:46:53.198925Z"
    }
   },
   "outputs": [
    {
     "data": {
      "text/html": [
       "<span class=\"tex2jax_ignore\"><div class=\"entities\" style=\"line-height: 2.5; direction: ltr\">\n",
       "<mark class=\"entity\" style=\"background: #aa9cfc; padding: 0.45em 0.6em; margin: 0 0.25em; line-height: 1; border-radius: 0.35em;\">\n",
       "    Werner Herzog\n",
       "    <span style=\"font-size: 0.8em; font-weight: bold; line-height: 1; border-radius: 0.35em; vertical-align: middle; margin-left: 0.5rem\">PERSON</span>\n",
       "</mark>\n",
       " is a remarkable filmmaker and an intellectual originally from \n",
       "<mark class=\"entity\" style=\"background: #feca74; padding: 0.45em 0.6em; margin: 0 0.25em; line-height: 1; border-radius: 0.35em;\">\n",
       "    Germany\n",
       "    <span style=\"font-size: 0.8em; font-weight: bold; line-height: 1; border-radius: 0.35em; vertical-align: middle; margin-left: 0.5rem\">GPE</span>\n",
       "</mark>\n",
       ", the son of \n",
       "<mark class=\"entity\" style=\"background: #aa9cfc; padding: 0.45em 0.6em; margin: 0 0.25em; line-height: 1; border-radius: 0.35em;\">\n",
       "    Dietrich Herzog\n",
       "    <span style=\"font-size: 0.8em; font-weight: bold; line-height: 1; border-radius: 0.35em; vertical-align: middle; margin-left: 0.5rem\">PERSON</span>\n",
       "</mark>\n",
       ".<br>Although in fact \n",
       "<mark class=\"entity\" style=\"background: #aa9cfc; padding: 0.45em 0.6em; margin: 0 0.25em; line-height: 1; border-radius: 0.35em;\">\n",
       "    Werner Herzog\n",
       "    <span style=\"font-size: 0.8em; font-weight: bold; line-height: 1; border-radius: 0.35em; vertical-align: middle; margin-left: 0.5rem\">PERSON</span>\n",
       "</mark>\n",
       " never really liked his father, as we all know.<br>After the war, \n",
       "<mark class=\"entity\" style=\"background: #aa9cfc; padding: 0.45em 0.6em; margin: 0 0.25em; line-height: 1; border-radius: 0.35em;\">\n",
       "    Werner\n",
       "    <span style=\"font-size: 0.8em; font-weight: bold; line-height: 1; border-radius: 0.35em; vertical-align: middle; margin-left: 0.5rem\">PERSON</span>\n",
       "</mark>\n",
       " fled to \n",
       "<mark class=\"entity\" style=\"background: #feca74; padding: 0.45em 0.6em; margin: 0 0.25em; line-height: 1; border-radius: 0.35em;\">\n",
       "    America\n",
       "    <span style=\"font-size: 0.8em; font-weight: bold; line-height: 1; border-radius: 0.35em; vertical-align: middle; margin-left: 0.5rem\">GPE</span>\n",
       "</mark>\n",
       " to become famous.</div></span>"
      ],
      "text/plain": [
       "<IPython.core.display.HTML object>"
      ]
     },
     "metadata": {},
     "output_type": "display_data"
    }
   ],
   "source": [
    "spacy.displacy.render(\n",
    "    pipe.ent_doc,\n",
    "    style = \"ent\",\n",
    "    jupyter = True,\n",
    ")"
   ]
  },
  {
   "cell_type": "code",
   "execution_count": 7,
   "id": "ffc0863d-5ed4-4857-aee1-96f26472f1ef",
   "metadata": {
    "execution": {
     "iopub.execute_input": "2023-12-17T02:46:53.211414Z",
     "iopub.status.busy": "2023-12-17T02:46:53.211087Z",
     "iopub.status.idle": "2023-12-17T02:46:53.221344Z",
     "shell.execute_reply": "2023-12-17T02:46:53.220715Z",
     "shell.execute_reply.started": "2023-12-17T02:46:53.211380Z"
    }
   },
   "outputs": [
    {
     "data": {
      "text/html": [
       "<span class=\"tex2jax_ignore\"><svg xmlns=\"http://www.w3.org/2000/svg\" xmlns:xlink=\"http://www.w3.org/1999/xlink\" xml:lang=\"en\" id=\"8f49f129b16e40b39c0d5592f3d08748-0\" class=\"displacy\" width=\"7050\" height=\"574.5\" direction=\"ltr\" style=\"max-width: none; height: 574.5px; color: #000000; background: #ffffff; font-family: Arial; direction: ltr\">\n",
       "<text class=\"displacy-token\" fill=\"currentColor\" text-anchor=\"middle\" y=\"484.5\">\n",
       "    <tspan class=\"displacy-word\" fill=\"currentColor\" x=\"50\">Werner Herzog</tspan>\n",
       "    <tspan class=\"displacy-tag\" dy=\"2em\" fill=\"currentColor\" x=\"50\">PROPN</tspan>\n",
       "</text>\n",
       "\n",
       "<text class=\"displacy-token\" fill=\"currentColor\" text-anchor=\"middle\" y=\"484.5\">\n",
       "    <tspan class=\"displacy-word\" fill=\"currentColor\" x=\"225\">is</tspan>\n",
       "    <tspan class=\"displacy-tag\" dy=\"2em\" fill=\"currentColor\" x=\"225\">AUX</tspan>\n",
       "</text>\n",
       "\n",
       "<text class=\"displacy-token\" fill=\"currentColor\" text-anchor=\"middle\" y=\"484.5\">\n",
       "    <tspan class=\"displacy-word\" fill=\"currentColor\" x=\"400\">a</tspan>\n",
       "    <tspan class=\"displacy-tag\" dy=\"2em\" fill=\"currentColor\" x=\"400\">DET</tspan>\n",
       "</text>\n",
       "\n",
       "<text class=\"displacy-token\" fill=\"currentColor\" text-anchor=\"middle\" y=\"484.5\">\n",
       "    <tspan class=\"displacy-word\" fill=\"currentColor\" x=\"575\">remarkable</tspan>\n",
       "    <tspan class=\"displacy-tag\" dy=\"2em\" fill=\"currentColor\" x=\"575\">ADJ</tspan>\n",
       "</text>\n",
       "\n",
       "<text class=\"displacy-token\" fill=\"currentColor\" text-anchor=\"middle\" y=\"484.5\">\n",
       "    <tspan class=\"displacy-word\" fill=\"currentColor\" x=\"750\">filmmaker</tspan>\n",
       "    <tspan class=\"displacy-tag\" dy=\"2em\" fill=\"currentColor\" x=\"750\">NOUN</tspan>\n",
       "</text>\n",
       "\n",
       "<text class=\"displacy-token\" fill=\"currentColor\" text-anchor=\"middle\" y=\"484.5\">\n",
       "    <tspan class=\"displacy-word\" fill=\"currentColor\" x=\"925\">and</tspan>\n",
       "    <tspan class=\"displacy-tag\" dy=\"2em\" fill=\"currentColor\" x=\"925\">CCONJ</tspan>\n",
       "</text>\n",
       "\n",
       "<text class=\"displacy-token\" fill=\"currentColor\" text-anchor=\"middle\" y=\"484.5\">\n",
       "    <tspan class=\"displacy-word\" fill=\"currentColor\" x=\"1100\">an</tspan>\n",
       "    <tspan class=\"displacy-tag\" dy=\"2em\" fill=\"currentColor\" x=\"1100\">DET</tspan>\n",
       "</text>\n",
       "\n",
       "<text class=\"displacy-token\" fill=\"currentColor\" text-anchor=\"middle\" y=\"484.5\">\n",
       "    <tspan class=\"displacy-word\" fill=\"currentColor\" x=\"1275\">intellectual</tspan>\n",
       "    <tspan class=\"displacy-tag\" dy=\"2em\" fill=\"currentColor\" x=\"1275\">NOUN</tspan>\n",
       "</text>\n",
       "\n",
       "<text class=\"displacy-token\" fill=\"currentColor\" text-anchor=\"middle\" y=\"484.5\">\n",
       "    <tspan class=\"displacy-word\" fill=\"currentColor\" x=\"1450\">originally</tspan>\n",
       "    <tspan class=\"displacy-tag\" dy=\"2em\" fill=\"currentColor\" x=\"1450\">ADV</tspan>\n",
       "</text>\n",
       "\n",
       "<text class=\"displacy-token\" fill=\"currentColor\" text-anchor=\"middle\" y=\"484.5\">\n",
       "    <tspan class=\"displacy-word\" fill=\"currentColor\" x=\"1625\">from</tspan>\n",
       "    <tspan class=\"displacy-tag\" dy=\"2em\" fill=\"currentColor\" x=\"1625\">ADP</tspan>\n",
       "</text>\n",
       "\n",
       "<text class=\"displacy-token\" fill=\"currentColor\" text-anchor=\"middle\" y=\"484.5\">\n",
       "    <tspan class=\"displacy-word\" fill=\"currentColor\" x=\"1800\">Germany,</tspan>\n",
       "    <tspan class=\"displacy-tag\" dy=\"2em\" fill=\"currentColor\" x=\"1800\">PROPN</tspan>\n",
       "</text>\n",
       "\n",
       "<text class=\"displacy-token\" fill=\"currentColor\" text-anchor=\"middle\" y=\"484.5\">\n",
       "    <tspan class=\"displacy-word\" fill=\"currentColor\" x=\"1975\">the</tspan>\n",
       "    <tspan class=\"displacy-tag\" dy=\"2em\" fill=\"currentColor\" x=\"1975\">DET</tspan>\n",
       "</text>\n",
       "\n",
       "<text class=\"displacy-token\" fill=\"currentColor\" text-anchor=\"middle\" y=\"484.5\">\n",
       "    <tspan class=\"displacy-word\" fill=\"currentColor\" x=\"2150\">son</tspan>\n",
       "    <tspan class=\"displacy-tag\" dy=\"2em\" fill=\"currentColor\" x=\"2150\">NOUN</tspan>\n",
       "</text>\n",
       "\n",
       "<text class=\"displacy-token\" fill=\"currentColor\" text-anchor=\"middle\" y=\"484.5\">\n",
       "    <tspan class=\"displacy-word\" fill=\"currentColor\" x=\"2325\">of</tspan>\n",
       "    <tspan class=\"displacy-tag\" dy=\"2em\" fill=\"currentColor\" x=\"2325\">ADP</tspan>\n",
       "</text>\n",
       "\n",
       "<text class=\"displacy-token\" fill=\"currentColor\" text-anchor=\"middle\" y=\"484.5\">\n",
       "    <tspan class=\"displacy-word\" fill=\"currentColor\" x=\"2500\">Dietrich Herzog.</tspan>\n",
       "    <tspan class=\"displacy-tag\" dy=\"2em\" fill=\"currentColor\" x=\"2500\">PUNCT</tspan>\n",
       "</text>\n",
       "\n",
       "<text class=\"displacy-token\" fill=\"currentColor\" text-anchor=\"middle\" y=\"484.5\">\n",
       "    <tspan class=\"displacy-word\" fill=\"currentColor\" x=\"2675\">\n",
       "</tspan>\n",
       "    <tspan class=\"displacy-tag\" dy=\"2em\" fill=\"currentColor\" x=\"2675\">SPACE</tspan>\n",
       "</text>\n",
       "\n",
       "<text class=\"displacy-token\" fill=\"currentColor\" text-anchor=\"middle\" y=\"484.5\">\n",
       "    <tspan class=\"displacy-word\" fill=\"currentColor\" x=\"2850\">Although</tspan>\n",
       "    <tspan class=\"displacy-tag\" dy=\"2em\" fill=\"currentColor\" x=\"2850\">SCONJ</tspan>\n",
       "</text>\n",
       "\n",
       "<text class=\"displacy-token\" fill=\"currentColor\" text-anchor=\"middle\" y=\"484.5\">\n",
       "    <tspan class=\"displacy-word\" fill=\"currentColor\" x=\"3025\">in</tspan>\n",
       "    <tspan class=\"displacy-tag\" dy=\"2em\" fill=\"currentColor\" x=\"3025\">ADP</tspan>\n",
       "</text>\n",
       "\n",
       "<text class=\"displacy-token\" fill=\"currentColor\" text-anchor=\"middle\" y=\"484.5\">\n",
       "    <tspan class=\"displacy-word\" fill=\"currentColor\" x=\"3200\">fact</tspan>\n",
       "    <tspan class=\"displacy-tag\" dy=\"2em\" fill=\"currentColor\" x=\"3200\">NOUN</tspan>\n",
       "</text>\n",
       "\n",
       "<text class=\"displacy-token\" fill=\"currentColor\" text-anchor=\"middle\" y=\"484.5\">\n",
       "    <tspan class=\"displacy-word\" fill=\"currentColor\" x=\"3375\">Werner Herzog</tspan>\n",
       "    <tspan class=\"displacy-tag\" dy=\"2em\" fill=\"currentColor\" x=\"3375\">PROPN</tspan>\n",
       "</text>\n",
       "\n",
       "<text class=\"displacy-token\" fill=\"currentColor\" text-anchor=\"middle\" y=\"484.5\">\n",
       "    <tspan class=\"displacy-word\" fill=\"currentColor\" x=\"3550\">never</tspan>\n",
       "    <tspan class=\"displacy-tag\" dy=\"2em\" fill=\"currentColor\" x=\"3550\">ADV</tspan>\n",
       "</text>\n",
       "\n",
       "<text class=\"displacy-token\" fill=\"currentColor\" text-anchor=\"middle\" y=\"484.5\">\n",
       "    <tspan class=\"displacy-word\" fill=\"currentColor\" x=\"3725\">really</tspan>\n",
       "    <tspan class=\"displacy-tag\" dy=\"2em\" fill=\"currentColor\" x=\"3725\">ADV</tspan>\n",
       "</text>\n",
       "\n",
       "<text class=\"displacy-token\" fill=\"currentColor\" text-anchor=\"middle\" y=\"484.5\">\n",
       "    <tspan class=\"displacy-word\" fill=\"currentColor\" x=\"3900\">liked</tspan>\n",
       "    <tspan class=\"displacy-tag\" dy=\"2em\" fill=\"currentColor\" x=\"3900\">VERB</tspan>\n",
       "</text>\n",
       "\n",
       "<text class=\"displacy-token\" fill=\"currentColor\" text-anchor=\"middle\" y=\"484.5\">\n",
       "    <tspan class=\"displacy-word\" fill=\"currentColor\" x=\"4075\">his</tspan>\n",
       "    <tspan class=\"displacy-tag\" dy=\"2em\" fill=\"currentColor\" x=\"4075\">PRON</tspan>\n",
       "</text>\n",
       "\n",
       "<text class=\"displacy-token\" fill=\"currentColor\" text-anchor=\"middle\" y=\"484.5\">\n",
       "    <tspan class=\"displacy-word\" fill=\"currentColor\" x=\"4250\">father,</tspan>\n",
       "    <tspan class=\"displacy-tag\" dy=\"2em\" fill=\"currentColor\" x=\"4250\">NOUN</tspan>\n",
       "</text>\n",
       "\n",
       "<text class=\"displacy-token\" fill=\"currentColor\" text-anchor=\"middle\" y=\"484.5\">\n",
       "    <tspan class=\"displacy-word\" fill=\"currentColor\" x=\"4425\">as</tspan>\n",
       "    <tspan class=\"displacy-tag\" dy=\"2em\" fill=\"currentColor\" x=\"4425\">SCONJ</tspan>\n",
       "</text>\n",
       "\n",
       "<text class=\"displacy-token\" fill=\"currentColor\" text-anchor=\"middle\" y=\"484.5\">\n",
       "    <tspan class=\"displacy-word\" fill=\"currentColor\" x=\"4600\">we</tspan>\n",
       "    <tspan class=\"displacy-tag\" dy=\"2em\" fill=\"currentColor\" x=\"4600\">PRON</tspan>\n",
       "</text>\n",
       "\n",
       "<text class=\"displacy-token\" fill=\"currentColor\" text-anchor=\"middle\" y=\"484.5\">\n",
       "    <tspan class=\"displacy-word\" fill=\"currentColor\" x=\"4775\">all</tspan>\n",
       "    <tspan class=\"displacy-tag\" dy=\"2em\" fill=\"currentColor\" x=\"4775\">PRON</tspan>\n",
       "</text>\n",
       "\n",
       "<text class=\"displacy-token\" fill=\"currentColor\" text-anchor=\"middle\" y=\"484.5\">\n",
       "    <tspan class=\"displacy-word\" fill=\"currentColor\" x=\"4950\">know.</tspan>\n",
       "    <tspan class=\"displacy-tag\" dy=\"2em\" fill=\"currentColor\" x=\"4950\">VERB</tspan>\n",
       "</text>\n",
       "\n",
       "<text class=\"displacy-token\" fill=\"currentColor\" text-anchor=\"middle\" y=\"484.5\">\n",
       "    <tspan class=\"displacy-word\" fill=\"currentColor\" x=\"5125\">\n",
       "</tspan>\n",
       "    <tspan class=\"displacy-tag\" dy=\"2em\" fill=\"currentColor\" x=\"5125\">SPACE</tspan>\n",
       "</text>\n",
       "\n",
       "<text class=\"displacy-token\" fill=\"currentColor\" text-anchor=\"middle\" y=\"484.5\">\n",
       "    <tspan class=\"displacy-word\" fill=\"currentColor\" x=\"5300\">After</tspan>\n",
       "    <tspan class=\"displacy-tag\" dy=\"2em\" fill=\"currentColor\" x=\"5300\">ADP</tspan>\n",
       "</text>\n",
       "\n",
       "<text class=\"displacy-token\" fill=\"currentColor\" text-anchor=\"middle\" y=\"484.5\">\n",
       "    <tspan class=\"displacy-word\" fill=\"currentColor\" x=\"5475\">the</tspan>\n",
       "    <tspan class=\"displacy-tag\" dy=\"2em\" fill=\"currentColor\" x=\"5475\">DET</tspan>\n",
       "</text>\n",
       "\n",
       "<text class=\"displacy-token\" fill=\"currentColor\" text-anchor=\"middle\" y=\"484.5\">\n",
       "    <tspan class=\"displacy-word\" fill=\"currentColor\" x=\"5650\">war,</tspan>\n",
       "    <tspan class=\"displacy-tag\" dy=\"2em\" fill=\"currentColor\" x=\"5650\">NOUN</tspan>\n",
       "</text>\n",
       "\n",
       "<text class=\"displacy-token\" fill=\"currentColor\" text-anchor=\"middle\" y=\"484.5\">\n",
       "    <tspan class=\"displacy-word\" fill=\"currentColor\" x=\"5825\">Werner</tspan>\n",
       "    <tspan class=\"displacy-tag\" dy=\"2em\" fill=\"currentColor\" x=\"5825\">PROPN</tspan>\n",
       "</text>\n",
       "\n",
       "<text class=\"displacy-token\" fill=\"currentColor\" text-anchor=\"middle\" y=\"484.5\">\n",
       "    <tspan class=\"displacy-word\" fill=\"currentColor\" x=\"6000\">fled</tspan>\n",
       "    <tspan class=\"displacy-tag\" dy=\"2em\" fill=\"currentColor\" x=\"6000\">VERB</tspan>\n",
       "</text>\n",
       "\n",
       "<text class=\"displacy-token\" fill=\"currentColor\" text-anchor=\"middle\" y=\"484.5\">\n",
       "    <tspan class=\"displacy-word\" fill=\"currentColor\" x=\"6175\">to</tspan>\n",
       "    <tspan class=\"displacy-tag\" dy=\"2em\" fill=\"currentColor\" x=\"6175\">ADP</tspan>\n",
       "</text>\n",
       "\n",
       "<text class=\"displacy-token\" fill=\"currentColor\" text-anchor=\"middle\" y=\"484.5\">\n",
       "    <tspan class=\"displacy-word\" fill=\"currentColor\" x=\"6350\">America</tspan>\n",
       "    <tspan class=\"displacy-tag\" dy=\"2em\" fill=\"currentColor\" x=\"6350\">PROPN</tspan>\n",
       "</text>\n",
       "\n",
       "<text class=\"displacy-token\" fill=\"currentColor\" text-anchor=\"middle\" y=\"484.5\">\n",
       "    <tspan class=\"displacy-word\" fill=\"currentColor\" x=\"6525\">to</tspan>\n",
       "    <tspan class=\"displacy-tag\" dy=\"2em\" fill=\"currentColor\" x=\"6525\">PART</tspan>\n",
       "</text>\n",
       "\n",
       "<text class=\"displacy-token\" fill=\"currentColor\" text-anchor=\"middle\" y=\"484.5\">\n",
       "    <tspan class=\"displacy-word\" fill=\"currentColor\" x=\"6700\">become</tspan>\n",
       "    <tspan class=\"displacy-tag\" dy=\"2em\" fill=\"currentColor\" x=\"6700\">VERB</tspan>\n",
       "</text>\n",
       "\n",
       "<text class=\"displacy-token\" fill=\"currentColor\" text-anchor=\"middle\" y=\"484.5\">\n",
       "    <tspan class=\"displacy-word\" fill=\"currentColor\" x=\"6875\">famous.</tspan>\n",
       "    <tspan class=\"displacy-tag\" dy=\"2em\" fill=\"currentColor\" x=\"6875\">ADJ</tspan>\n",
       "</text>\n",
       "\n",
       "<g class=\"displacy-arrow\">\n",
       "    <path class=\"displacy-arc\" id=\"arrow-8f49f129b16e40b39c0d5592f3d08748-0-0\" stroke-width=\"2px\" d=\"M70,439.5 C70,352.0 205.0,352.0 205.0,439.5\" fill=\"none\" stroke=\"currentColor\"/>\n",
       "    <text dy=\"1.25em\" style=\"font-size: 0.8em; letter-spacing: 1px\">\n",
       "        <textPath xlink:href=\"#arrow-8f49f129b16e40b39c0d5592f3d08748-0-0\" class=\"displacy-label\" startOffset=\"50%\" side=\"left\" fill=\"currentColor\" text-anchor=\"middle\">nsubj</textPath>\n",
       "    </text>\n",
       "    <path class=\"displacy-arrowhead\" d=\"M70,441.5 L62,429.5 78,429.5\" fill=\"currentColor\"/>\n",
       "</g>\n",
       "\n",
       "<g class=\"displacy-arrow\">\n",
       "    <path class=\"displacy-arc\" id=\"arrow-8f49f129b16e40b39c0d5592f3d08748-0-1\" stroke-width=\"2px\" d=\"M420,439.5 C420,264.5 735.0,264.5 735.0,439.5\" fill=\"none\" stroke=\"currentColor\"/>\n",
       "    <text dy=\"1.25em\" style=\"font-size: 0.8em; letter-spacing: 1px\">\n",
       "        <textPath xlink:href=\"#arrow-8f49f129b16e40b39c0d5592f3d08748-0-1\" class=\"displacy-label\" startOffset=\"50%\" side=\"left\" fill=\"currentColor\" text-anchor=\"middle\">det</textPath>\n",
       "    </text>\n",
       "    <path class=\"displacy-arrowhead\" d=\"M420,441.5 L412,429.5 428,429.5\" fill=\"currentColor\"/>\n",
       "</g>\n",
       "\n",
       "<g class=\"displacy-arrow\">\n",
       "    <path class=\"displacy-arc\" id=\"arrow-8f49f129b16e40b39c0d5592f3d08748-0-2\" stroke-width=\"2px\" d=\"M595,439.5 C595,352.0 730.0,352.0 730.0,439.5\" fill=\"none\" stroke=\"currentColor\"/>\n",
       "    <text dy=\"1.25em\" style=\"font-size: 0.8em; letter-spacing: 1px\">\n",
       "        <textPath xlink:href=\"#arrow-8f49f129b16e40b39c0d5592f3d08748-0-2\" class=\"displacy-label\" startOffset=\"50%\" side=\"left\" fill=\"currentColor\" text-anchor=\"middle\">amod</textPath>\n",
       "    </text>\n",
       "    <path class=\"displacy-arrowhead\" d=\"M595,441.5 L587,429.5 603,429.5\" fill=\"currentColor\"/>\n",
       "</g>\n",
       "\n",
       "<g class=\"displacy-arrow\">\n",
       "    <path class=\"displacy-arc\" id=\"arrow-8f49f129b16e40b39c0d5592f3d08748-0-3\" stroke-width=\"2px\" d=\"M245,439.5 C245,177.0 740.0,177.0 740.0,439.5\" fill=\"none\" stroke=\"currentColor\"/>\n",
       "    <text dy=\"1.25em\" style=\"font-size: 0.8em; letter-spacing: 1px\">\n",
       "        <textPath xlink:href=\"#arrow-8f49f129b16e40b39c0d5592f3d08748-0-3\" class=\"displacy-label\" startOffset=\"50%\" side=\"left\" fill=\"currentColor\" text-anchor=\"middle\">attr</textPath>\n",
       "    </text>\n",
       "    <path class=\"displacy-arrowhead\" d=\"M740.0,441.5 L748.0,429.5 732.0,429.5\" fill=\"currentColor\"/>\n",
       "</g>\n",
       "\n",
       "<g class=\"displacy-arrow\">\n",
       "    <path class=\"displacy-arc\" id=\"arrow-8f49f129b16e40b39c0d5592f3d08748-0-4\" stroke-width=\"2px\" d=\"M770,439.5 C770,352.0 905.0,352.0 905.0,439.5\" fill=\"none\" stroke=\"currentColor\"/>\n",
       "    <text dy=\"1.25em\" style=\"font-size: 0.8em; letter-spacing: 1px\">\n",
       "        <textPath xlink:href=\"#arrow-8f49f129b16e40b39c0d5592f3d08748-0-4\" class=\"displacy-label\" startOffset=\"50%\" side=\"left\" fill=\"currentColor\" text-anchor=\"middle\">cc</textPath>\n",
       "    </text>\n",
       "    <path class=\"displacy-arrowhead\" d=\"M905.0,441.5 L913.0,429.5 897.0,429.5\" fill=\"currentColor\"/>\n",
       "</g>\n",
       "\n",
       "<g class=\"displacy-arrow\">\n",
       "    <path class=\"displacy-arc\" id=\"arrow-8f49f129b16e40b39c0d5592f3d08748-0-5\" stroke-width=\"2px\" d=\"M1120,439.5 C1120,352.0 1255.0,352.0 1255.0,439.5\" fill=\"none\" stroke=\"currentColor\"/>\n",
       "    <text dy=\"1.25em\" style=\"font-size: 0.8em; letter-spacing: 1px\">\n",
       "        <textPath xlink:href=\"#arrow-8f49f129b16e40b39c0d5592f3d08748-0-5\" class=\"displacy-label\" startOffset=\"50%\" side=\"left\" fill=\"currentColor\" text-anchor=\"middle\">det</textPath>\n",
       "    </text>\n",
       "    <path class=\"displacy-arrowhead\" d=\"M1120,441.5 L1112,429.5 1128,429.5\" fill=\"currentColor\"/>\n",
       "</g>\n",
       "\n",
       "<g class=\"displacy-arrow\">\n",
       "    <path class=\"displacy-arc\" id=\"arrow-8f49f129b16e40b39c0d5592f3d08748-0-6\" stroke-width=\"2px\" d=\"M770,439.5 C770,264.5 1260.0,264.5 1260.0,439.5\" fill=\"none\" stroke=\"currentColor\"/>\n",
       "    <text dy=\"1.25em\" style=\"font-size: 0.8em; letter-spacing: 1px\">\n",
       "        <textPath xlink:href=\"#arrow-8f49f129b16e40b39c0d5592f3d08748-0-6\" class=\"displacy-label\" startOffset=\"50%\" side=\"left\" fill=\"currentColor\" text-anchor=\"middle\">conj</textPath>\n",
       "    </text>\n",
       "    <path class=\"displacy-arrowhead\" d=\"M1260.0,441.5 L1268.0,429.5 1252.0,429.5\" fill=\"currentColor\"/>\n",
       "</g>\n",
       "\n",
       "<g class=\"displacy-arrow\">\n",
       "    <path class=\"displacy-arc\" id=\"arrow-8f49f129b16e40b39c0d5592f3d08748-0-7\" stroke-width=\"2px\" d=\"M1470,439.5 C1470,352.0 1605.0,352.0 1605.0,439.5\" fill=\"none\" stroke=\"currentColor\"/>\n",
       "    <text dy=\"1.25em\" style=\"font-size: 0.8em; letter-spacing: 1px\">\n",
       "        <textPath xlink:href=\"#arrow-8f49f129b16e40b39c0d5592f3d08748-0-7\" class=\"displacy-label\" startOffset=\"50%\" side=\"left\" fill=\"currentColor\" text-anchor=\"middle\">advmod</textPath>\n",
       "    </text>\n",
       "    <path class=\"displacy-arrowhead\" d=\"M1470,441.5 L1462,429.5 1478,429.5\" fill=\"currentColor\"/>\n",
       "</g>\n",
       "\n",
       "<g class=\"displacy-arrow\">\n",
       "    <path class=\"displacy-arc\" id=\"arrow-8f49f129b16e40b39c0d5592f3d08748-0-8\" stroke-width=\"2px\" d=\"M1295,439.5 C1295,264.5 1610.0,264.5 1610.0,439.5\" fill=\"none\" stroke=\"currentColor\"/>\n",
       "    <text dy=\"1.25em\" style=\"font-size: 0.8em; letter-spacing: 1px\">\n",
       "        <textPath xlink:href=\"#arrow-8f49f129b16e40b39c0d5592f3d08748-0-8\" class=\"displacy-label\" startOffset=\"50%\" side=\"left\" fill=\"currentColor\" text-anchor=\"middle\">prep</textPath>\n",
       "    </text>\n",
       "    <path class=\"displacy-arrowhead\" d=\"M1610.0,441.5 L1618.0,429.5 1602.0,429.5\" fill=\"currentColor\"/>\n",
       "</g>\n",
       "\n",
       "<g class=\"displacy-arrow\">\n",
       "    <path class=\"displacy-arc\" id=\"arrow-8f49f129b16e40b39c0d5592f3d08748-0-9\" stroke-width=\"2px\" d=\"M1645,439.5 C1645,352.0 1780.0,352.0 1780.0,439.5\" fill=\"none\" stroke=\"currentColor\"/>\n",
       "    <text dy=\"1.25em\" style=\"font-size: 0.8em; letter-spacing: 1px\">\n",
       "        <textPath xlink:href=\"#arrow-8f49f129b16e40b39c0d5592f3d08748-0-9\" class=\"displacy-label\" startOffset=\"50%\" side=\"left\" fill=\"currentColor\" text-anchor=\"middle\">pobj</textPath>\n",
       "    </text>\n",
       "    <path class=\"displacy-arrowhead\" d=\"M1780.0,441.5 L1788.0,429.5 1772.0,429.5\" fill=\"currentColor\"/>\n",
       "</g>\n",
       "\n",
       "<g class=\"displacy-arrow\">\n",
       "    <path class=\"displacy-arc\" id=\"arrow-8f49f129b16e40b39c0d5592f3d08748-0-10\" stroke-width=\"2px\" d=\"M1995,439.5 C1995,352.0 2130.0,352.0 2130.0,439.5\" fill=\"none\" stroke=\"currentColor\"/>\n",
       "    <text dy=\"1.25em\" style=\"font-size: 0.8em; letter-spacing: 1px\">\n",
       "        <textPath xlink:href=\"#arrow-8f49f129b16e40b39c0d5592f3d08748-0-10\" class=\"displacy-label\" startOffset=\"50%\" side=\"left\" fill=\"currentColor\" text-anchor=\"middle\">det</textPath>\n",
       "    </text>\n",
       "    <path class=\"displacy-arrowhead\" d=\"M1995,441.5 L1987,429.5 2003,429.5\" fill=\"currentColor\"/>\n",
       "</g>\n",
       "\n",
       "<g class=\"displacy-arrow\">\n",
       "    <path class=\"displacy-arc\" id=\"arrow-8f49f129b16e40b39c0d5592f3d08748-0-11\" stroke-width=\"2px\" d=\"M1820,439.5 C1820,264.5 2135.0,264.5 2135.0,439.5\" fill=\"none\" stroke=\"currentColor\"/>\n",
       "    <text dy=\"1.25em\" style=\"font-size: 0.8em; letter-spacing: 1px\">\n",
       "        <textPath xlink:href=\"#arrow-8f49f129b16e40b39c0d5592f3d08748-0-11\" class=\"displacy-label\" startOffset=\"50%\" side=\"left\" fill=\"currentColor\" text-anchor=\"middle\">appos</textPath>\n",
       "    </text>\n",
       "    <path class=\"displacy-arrowhead\" d=\"M2135.0,441.5 L2143.0,429.5 2127.0,429.5\" fill=\"currentColor\"/>\n",
       "</g>\n",
       "\n",
       "<g class=\"displacy-arrow\">\n",
       "    <path class=\"displacy-arc\" id=\"arrow-8f49f129b16e40b39c0d5592f3d08748-0-12\" stroke-width=\"2px\" d=\"M2170,439.5 C2170,352.0 2305.0,352.0 2305.0,439.5\" fill=\"none\" stroke=\"currentColor\"/>\n",
       "    <text dy=\"1.25em\" style=\"font-size: 0.8em; letter-spacing: 1px\">\n",
       "        <textPath xlink:href=\"#arrow-8f49f129b16e40b39c0d5592f3d08748-0-12\" class=\"displacy-label\" startOffset=\"50%\" side=\"left\" fill=\"currentColor\" text-anchor=\"middle\">prep</textPath>\n",
       "    </text>\n",
       "    <path class=\"displacy-arrowhead\" d=\"M2305.0,441.5 L2313.0,429.5 2297.0,429.5\" fill=\"currentColor\"/>\n",
       "</g>\n",
       "\n",
       "<g class=\"displacy-arrow\">\n",
       "    <path class=\"displacy-arc\" id=\"arrow-8f49f129b16e40b39c0d5592f3d08748-0-13\" stroke-width=\"2px\" d=\"M245,439.5 C245,89.5 2495.0,89.5 2495.0,439.5\" fill=\"none\" stroke=\"currentColor\"/>\n",
       "    <text dy=\"1.25em\" style=\"font-size: 0.8em; letter-spacing: 1px\">\n",
       "        <textPath xlink:href=\"#arrow-8f49f129b16e40b39c0d5592f3d08748-0-13\" class=\"displacy-label\" startOffset=\"50%\" side=\"left\" fill=\"currentColor\" text-anchor=\"middle\">punct</textPath>\n",
       "    </text>\n",
       "    <path class=\"displacy-arrowhead\" d=\"M2495.0,441.5 L2503.0,429.5 2487.0,429.5\" fill=\"currentColor\"/>\n",
       "</g>\n",
       "\n",
       "<g class=\"displacy-arrow\">\n",
       "    <path class=\"displacy-arc\" id=\"arrow-8f49f129b16e40b39c0d5592f3d08748-0-14\" stroke-width=\"2px\" d=\"M2520,439.5 C2520,352.0 2655.0,352.0 2655.0,439.5\" fill=\"none\" stroke=\"currentColor\"/>\n",
       "    <text dy=\"1.25em\" style=\"font-size: 0.8em; letter-spacing: 1px\">\n",
       "        <textPath xlink:href=\"#arrow-8f49f129b16e40b39c0d5592f3d08748-0-14\" class=\"displacy-label\" startOffset=\"50%\" side=\"left\" fill=\"currentColor\" text-anchor=\"middle\">dep</textPath>\n",
       "    </text>\n",
       "    <path class=\"displacy-arrowhead\" d=\"M2655.0,441.5 L2663.0,429.5 2647.0,429.5\" fill=\"currentColor\"/>\n",
       "</g>\n",
       "\n",
       "<g class=\"displacy-arrow\">\n",
       "    <path class=\"displacy-arc\" id=\"arrow-8f49f129b16e40b39c0d5592f3d08748-0-15\" stroke-width=\"2px\" d=\"M2870,439.5 C2870,2.0 3900.0,2.0 3900.0,439.5\" fill=\"none\" stroke=\"currentColor\"/>\n",
       "    <text dy=\"1.25em\" style=\"font-size: 0.8em; letter-spacing: 1px\">\n",
       "        <textPath xlink:href=\"#arrow-8f49f129b16e40b39c0d5592f3d08748-0-15\" class=\"displacy-label\" startOffset=\"50%\" side=\"left\" fill=\"currentColor\" text-anchor=\"middle\">mark</textPath>\n",
       "    </text>\n",
       "    <path class=\"displacy-arrowhead\" d=\"M2870,441.5 L2862,429.5 2878,429.5\" fill=\"currentColor\"/>\n",
       "</g>\n",
       "\n",
       "<g class=\"displacy-arrow\">\n",
       "    <path class=\"displacy-arc\" id=\"arrow-8f49f129b16e40b39c0d5592f3d08748-0-16\" stroke-width=\"2px\" d=\"M3045,439.5 C3045,89.5 3895.0,89.5 3895.0,439.5\" fill=\"none\" stroke=\"currentColor\"/>\n",
       "    <text dy=\"1.25em\" style=\"font-size: 0.8em; letter-spacing: 1px\">\n",
       "        <textPath xlink:href=\"#arrow-8f49f129b16e40b39c0d5592f3d08748-0-16\" class=\"displacy-label\" startOffset=\"50%\" side=\"left\" fill=\"currentColor\" text-anchor=\"middle\">prep</textPath>\n",
       "    </text>\n",
       "    <path class=\"displacy-arrowhead\" d=\"M3045,441.5 L3037,429.5 3053,429.5\" fill=\"currentColor\"/>\n",
       "</g>\n",
       "\n",
       "<g class=\"displacy-arrow\">\n",
       "    <path class=\"displacy-arc\" id=\"arrow-8f49f129b16e40b39c0d5592f3d08748-0-17\" stroke-width=\"2px\" d=\"M3045,439.5 C3045,352.0 3180.0,352.0 3180.0,439.5\" fill=\"none\" stroke=\"currentColor\"/>\n",
       "    <text dy=\"1.25em\" style=\"font-size: 0.8em; letter-spacing: 1px\">\n",
       "        <textPath xlink:href=\"#arrow-8f49f129b16e40b39c0d5592f3d08748-0-17\" class=\"displacy-label\" startOffset=\"50%\" side=\"left\" fill=\"currentColor\" text-anchor=\"middle\">pobj</textPath>\n",
       "    </text>\n",
       "    <path class=\"displacy-arrowhead\" d=\"M3180.0,441.5 L3188.0,429.5 3172.0,429.5\" fill=\"currentColor\"/>\n",
       "</g>\n",
       "\n",
       "<g class=\"displacy-arrow\">\n",
       "    <path class=\"displacy-arc\" id=\"arrow-8f49f129b16e40b39c0d5592f3d08748-0-18\" stroke-width=\"2px\" d=\"M3395,439.5 C3395,177.0 3890.0,177.0 3890.0,439.5\" fill=\"none\" stroke=\"currentColor\"/>\n",
       "    <text dy=\"1.25em\" style=\"font-size: 0.8em; letter-spacing: 1px\">\n",
       "        <textPath xlink:href=\"#arrow-8f49f129b16e40b39c0d5592f3d08748-0-18\" class=\"displacy-label\" startOffset=\"50%\" side=\"left\" fill=\"currentColor\" text-anchor=\"middle\">nsubj</textPath>\n",
       "    </text>\n",
       "    <path class=\"displacy-arrowhead\" d=\"M3395,441.5 L3387,429.5 3403,429.5\" fill=\"currentColor\"/>\n",
       "</g>\n",
       "\n",
       "<g class=\"displacy-arrow\">\n",
       "    <path class=\"displacy-arc\" id=\"arrow-8f49f129b16e40b39c0d5592f3d08748-0-19\" stroke-width=\"2px\" d=\"M3570,439.5 C3570,264.5 3885.0,264.5 3885.0,439.5\" fill=\"none\" stroke=\"currentColor\"/>\n",
       "    <text dy=\"1.25em\" style=\"font-size: 0.8em; letter-spacing: 1px\">\n",
       "        <textPath xlink:href=\"#arrow-8f49f129b16e40b39c0d5592f3d08748-0-19\" class=\"displacy-label\" startOffset=\"50%\" side=\"left\" fill=\"currentColor\" text-anchor=\"middle\">neg</textPath>\n",
       "    </text>\n",
       "    <path class=\"displacy-arrowhead\" d=\"M3570,441.5 L3562,429.5 3578,429.5\" fill=\"currentColor\"/>\n",
       "</g>\n",
       "\n",
       "<g class=\"displacy-arrow\">\n",
       "    <path class=\"displacy-arc\" id=\"arrow-8f49f129b16e40b39c0d5592f3d08748-0-20\" stroke-width=\"2px\" d=\"M3745,439.5 C3745,352.0 3880.0,352.0 3880.0,439.5\" fill=\"none\" stroke=\"currentColor\"/>\n",
       "    <text dy=\"1.25em\" style=\"font-size: 0.8em; letter-spacing: 1px\">\n",
       "        <textPath xlink:href=\"#arrow-8f49f129b16e40b39c0d5592f3d08748-0-20\" class=\"displacy-label\" startOffset=\"50%\" side=\"left\" fill=\"currentColor\" text-anchor=\"middle\">advmod</textPath>\n",
       "    </text>\n",
       "    <path class=\"displacy-arrowhead\" d=\"M3745,441.5 L3737,429.5 3753,429.5\" fill=\"currentColor\"/>\n",
       "</g>\n",
       "\n",
       "<g class=\"displacy-arrow\">\n",
       "    <path class=\"displacy-arc\" id=\"arrow-8f49f129b16e40b39c0d5592f3d08748-0-21\" stroke-width=\"2px\" d=\"M4095,439.5 C4095,352.0 4230.0,352.0 4230.0,439.5\" fill=\"none\" stroke=\"currentColor\"/>\n",
       "    <text dy=\"1.25em\" style=\"font-size: 0.8em; letter-spacing: 1px\">\n",
       "        <textPath xlink:href=\"#arrow-8f49f129b16e40b39c0d5592f3d08748-0-21\" class=\"displacy-label\" startOffset=\"50%\" side=\"left\" fill=\"currentColor\" text-anchor=\"middle\">poss</textPath>\n",
       "    </text>\n",
       "    <path class=\"displacy-arrowhead\" d=\"M4095,441.5 L4087,429.5 4103,429.5\" fill=\"currentColor\"/>\n",
       "</g>\n",
       "\n",
       "<g class=\"displacy-arrow\">\n",
       "    <path class=\"displacy-arc\" id=\"arrow-8f49f129b16e40b39c0d5592f3d08748-0-22\" stroke-width=\"2px\" d=\"M3920,439.5 C3920,264.5 4235.0,264.5 4235.0,439.5\" fill=\"none\" stroke=\"currentColor\"/>\n",
       "    <text dy=\"1.25em\" style=\"font-size: 0.8em; letter-spacing: 1px\">\n",
       "        <textPath xlink:href=\"#arrow-8f49f129b16e40b39c0d5592f3d08748-0-22\" class=\"displacy-label\" startOffset=\"50%\" side=\"left\" fill=\"currentColor\" text-anchor=\"middle\">dobj</textPath>\n",
       "    </text>\n",
       "    <path class=\"displacy-arrowhead\" d=\"M4235.0,441.5 L4243.0,429.5 4227.0,429.5\" fill=\"currentColor\"/>\n",
       "</g>\n",
       "\n",
       "<g class=\"displacy-arrow\">\n",
       "    <path class=\"displacy-arc\" id=\"arrow-8f49f129b16e40b39c0d5592f3d08748-0-23\" stroke-width=\"2px\" d=\"M4445,439.5 C4445,177.0 4940.0,177.0 4940.0,439.5\" fill=\"none\" stroke=\"currentColor\"/>\n",
       "    <text dy=\"1.25em\" style=\"font-size: 0.8em; letter-spacing: 1px\">\n",
       "        <textPath xlink:href=\"#arrow-8f49f129b16e40b39c0d5592f3d08748-0-23\" class=\"displacy-label\" startOffset=\"50%\" side=\"left\" fill=\"currentColor\" text-anchor=\"middle\">mark</textPath>\n",
       "    </text>\n",
       "    <path class=\"displacy-arrowhead\" d=\"M4445,441.5 L4437,429.5 4453,429.5\" fill=\"currentColor\"/>\n",
       "</g>\n",
       "\n",
       "<g class=\"displacy-arrow\">\n",
       "    <path class=\"displacy-arc\" id=\"arrow-8f49f129b16e40b39c0d5592f3d08748-0-24\" stroke-width=\"2px\" d=\"M4620,439.5 C4620,264.5 4935.0,264.5 4935.0,439.5\" fill=\"none\" stroke=\"currentColor\"/>\n",
       "    <text dy=\"1.25em\" style=\"font-size: 0.8em; letter-spacing: 1px\">\n",
       "        <textPath xlink:href=\"#arrow-8f49f129b16e40b39c0d5592f3d08748-0-24\" class=\"displacy-label\" startOffset=\"50%\" side=\"left\" fill=\"currentColor\" text-anchor=\"middle\">nsubj</textPath>\n",
       "    </text>\n",
       "    <path class=\"displacy-arrowhead\" d=\"M4620,441.5 L4612,429.5 4628,429.5\" fill=\"currentColor\"/>\n",
       "</g>\n",
       "\n",
       "<g class=\"displacy-arrow\">\n",
       "    <path class=\"displacy-arc\" id=\"arrow-8f49f129b16e40b39c0d5592f3d08748-0-25\" stroke-width=\"2px\" d=\"M4620,439.5 C4620,352.0 4755.0,352.0 4755.0,439.5\" fill=\"none\" stroke=\"currentColor\"/>\n",
       "    <text dy=\"1.25em\" style=\"font-size: 0.8em; letter-spacing: 1px\">\n",
       "        <textPath xlink:href=\"#arrow-8f49f129b16e40b39c0d5592f3d08748-0-25\" class=\"displacy-label\" startOffset=\"50%\" side=\"left\" fill=\"currentColor\" text-anchor=\"middle\">appos</textPath>\n",
       "    </text>\n",
       "    <path class=\"displacy-arrowhead\" d=\"M4755.0,441.5 L4763.0,429.5 4747.0,429.5\" fill=\"currentColor\"/>\n",
       "</g>\n",
       "\n",
       "<g class=\"displacy-arrow\">\n",
       "    <path class=\"displacy-arc\" id=\"arrow-8f49f129b16e40b39c0d5592f3d08748-0-26\" stroke-width=\"2px\" d=\"M3920,439.5 C3920,89.5 4945.0,89.5 4945.0,439.5\" fill=\"none\" stroke=\"currentColor\"/>\n",
       "    <text dy=\"1.25em\" style=\"font-size: 0.8em; letter-spacing: 1px\">\n",
       "        <textPath xlink:href=\"#arrow-8f49f129b16e40b39c0d5592f3d08748-0-26\" class=\"displacy-label\" startOffset=\"50%\" side=\"left\" fill=\"currentColor\" text-anchor=\"middle\">advcl</textPath>\n",
       "    </text>\n",
       "    <path class=\"displacy-arrowhead\" d=\"M4945.0,441.5 L4953.0,429.5 4937.0,429.5\" fill=\"currentColor\"/>\n",
       "</g>\n",
       "\n",
       "<g class=\"displacy-arrow\">\n",
       "    <path class=\"displacy-arc\" id=\"arrow-8f49f129b16e40b39c0d5592f3d08748-0-27\" stroke-width=\"2px\" d=\"M4970,439.5 C4970,352.0 5105.0,352.0 5105.0,439.5\" fill=\"none\" stroke=\"currentColor\"/>\n",
       "    <text dy=\"1.25em\" style=\"font-size: 0.8em; letter-spacing: 1px\">\n",
       "        <textPath xlink:href=\"#arrow-8f49f129b16e40b39c0d5592f3d08748-0-27\" class=\"displacy-label\" startOffset=\"50%\" side=\"left\" fill=\"currentColor\" text-anchor=\"middle\">dep</textPath>\n",
       "    </text>\n",
       "    <path class=\"displacy-arrowhead\" d=\"M5105.0,441.5 L5113.0,429.5 5097.0,429.5\" fill=\"currentColor\"/>\n",
       "</g>\n",
       "\n",
       "<g class=\"displacy-arrow\">\n",
       "    <path class=\"displacy-arc\" id=\"arrow-8f49f129b16e40b39c0d5592f3d08748-0-28\" stroke-width=\"2px\" d=\"M5320,439.5 C5320,177.0 5990.0,177.0 5990.0,439.5\" fill=\"none\" stroke=\"currentColor\"/>\n",
       "    <text dy=\"1.25em\" style=\"font-size: 0.8em; letter-spacing: 1px\">\n",
       "        <textPath xlink:href=\"#arrow-8f49f129b16e40b39c0d5592f3d08748-0-28\" class=\"displacy-label\" startOffset=\"50%\" side=\"left\" fill=\"currentColor\" text-anchor=\"middle\">prep</textPath>\n",
       "    </text>\n",
       "    <path class=\"displacy-arrowhead\" d=\"M5320,441.5 L5312,429.5 5328,429.5\" fill=\"currentColor\"/>\n",
       "</g>\n",
       "\n",
       "<g class=\"displacy-arrow\">\n",
       "    <path class=\"displacy-arc\" id=\"arrow-8f49f129b16e40b39c0d5592f3d08748-0-29\" stroke-width=\"2px\" d=\"M5495,439.5 C5495,352.0 5630.0,352.0 5630.0,439.5\" fill=\"none\" stroke=\"currentColor\"/>\n",
       "    <text dy=\"1.25em\" style=\"font-size: 0.8em; letter-spacing: 1px\">\n",
       "        <textPath xlink:href=\"#arrow-8f49f129b16e40b39c0d5592f3d08748-0-29\" class=\"displacy-label\" startOffset=\"50%\" side=\"left\" fill=\"currentColor\" text-anchor=\"middle\">det</textPath>\n",
       "    </text>\n",
       "    <path class=\"displacy-arrowhead\" d=\"M5495,441.5 L5487,429.5 5503,429.5\" fill=\"currentColor\"/>\n",
       "</g>\n",
       "\n",
       "<g class=\"displacy-arrow\">\n",
       "    <path class=\"displacy-arc\" id=\"arrow-8f49f129b16e40b39c0d5592f3d08748-0-30\" stroke-width=\"2px\" d=\"M5320,439.5 C5320,264.5 5635.0,264.5 5635.0,439.5\" fill=\"none\" stroke=\"currentColor\"/>\n",
       "    <text dy=\"1.25em\" style=\"font-size: 0.8em; letter-spacing: 1px\">\n",
       "        <textPath xlink:href=\"#arrow-8f49f129b16e40b39c0d5592f3d08748-0-30\" class=\"displacy-label\" startOffset=\"50%\" side=\"left\" fill=\"currentColor\" text-anchor=\"middle\">pobj</textPath>\n",
       "    </text>\n",
       "    <path class=\"displacy-arrowhead\" d=\"M5635.0,441.5 L5643.0,429.5 5627.0,429.5\" fill=\"currentColor\"/>\n",
       "</g>\n",
       "\n",
       "<g class=\"displacy-arrow\">\n",
       "    <path class=\"displacy-arc\" id=\"arrow-8f49f129b16e40b39c0d5592f3d08748-0-31\" stroke-width=\"2px\" d=\"M5845,439.5 C5845,352.0 5980.0,352.0 5980.0,439.5\" fill=\"none\" stroke=\"currentColor\"/>\n",
       "    <text dy=\"1.25em\" style=\"font-size: 0.8em; letter-spacing: 1px\">\n",
       "        <textPath xlink:href=\"#arrow-8f49f129b16e40b39c0d5592f3d08748-0-31\" class=\"displacy-label\" startOffset=\"50%\" side=\"left\" fill=\"currentColor\" text-anchor=\"middle\">nsubj</textPath>\n",
       "    </text>\n",
       "    <path class=\"displacy-arrowhead\" d=\"M5845,441.5 L5837,429.5 5853,429.5\" fill=\"currentColor\"/>\n",
       "</g>\n",
       "\n",
       "<g class=\"displacy-arrow\">\n",
       "    <path class=\"displacy-arc\" id=\"arrow-8f49f129b16e40b39c0d5592f3d08748-0-32\" stroke-width=\"2px\" d=\"M6020,439.5 C6020,352.0 6155.0,352.0 6155.0,439.5\" fill=\"none\" stroke=\"currentColor\"/>\n",
       "    <text dy=\"1.25em\" style=\"font-size: 0.8em; letter-spacing: 1px\">\n",
       "        <textPath xlink:href=\"#arrow-8f49f129b16e40b39c0d5592f3d08748-0-32\" class=\"displacy-label\" startOffset=\"50%\" side=\"left\" fill=\"currentColor\" text-anchor=\"middle\">prep</textPath>\n",
       "    </text>\n",
       "    <path class=\"displacy-arrowhead\" d=\"M6155.0,441.5 L6163.0,429.5 6147.0,429.5\" fill=\"currentColor\"/>\n",
       "</g>\n",
       "\n",
       "<g class=\"displacy-arrow\">\n",
       "    <path class=\"displacy-arc\" id=\"arrow-8f49f129b16e40b39c0d5592f3d08748-0-33\" stroke-width=\"2px\" d=\"M6195,439.5 C6195,352.0 6330.0,352.0 6330.0,439.5\" fill=\"none\" stroke=\"currentColor\"/>\n",
       "    <text dy=\"1.25em\" style=\"font-size: 0.8em; letter-spacing: 1px\">\n",
       "        <textPath xlink:href=\"#arrow-8f49f129b16e40b39c0d5592f3d08748-0-33\" class=\"displacy-label\" startOffset=\"50%\" side=\"left\" fill=\"currentColor\" text-anchor=\"middle\">pobj</textPath>\n",
       "    </text>\n",
       "    <path class=\"displacy-arrowhead\" d=\"M6330.0,441.5 L6338.0,429.5 6322.0,429.5\" fill=\"currentColor\"/>\n",
       "</g>\n",
       "\n",
       "<g class=\"displacy-arrow\">\n",
       "    <path class=\"displacy-arc\" id=\"arrow-8f49f129b16e40b39c0d5592f3d08748-0-34\" stroke-width=\"2px\" d=\"M6545,439.5 C6545,352.0 6680.0,352.0 6680.0,439.5\" fill=\"none\" stroke=\"currentColor\"/>\n",
       "    <text dy=\"1.25em\" style=\"font-size: 0.8em; letter-spacing: 1px\">\n",
       "        <textPath xlink:href=\"#arrow-8f49f129b16e40b39c0d5592f3d08748-0-34\" class=\"displacy-label\" startOffset=\"50%\" side=\"left\" fill=\"currentColor\" text-anchor=\"middle\">aux</textPath>\n",
       "    </text>\n",
       "    <path class=\"displacy-arrowhead\" d=\"M6545,441.5 L6537,429.5 6553,429.5\" fill=\"currentColor\"/>\n",
       "</g>\n",
       "\n",
       "<g class=\"displacy-arrow\">\n",
       "    <path class=\"displacy-arc\" id=\"arrow-8f49f129b16e40b39c0d5592f3d08748-0-35\" stroke-width=\"2px\" d=\"M6020,439.5 C6020,264.5 6685.0,264.5 6685.0,439.5\" fill=\"none\" stroke=\"currentColor\"/>\n",
       "    <text dy=\"1.25em\" style=\"font-size: 0.8em; letter-spacing: 1px\">\n",
       "        <textPath xlink:href=\"#arrow-8f49f129b16e40b39c0d5592f3d08748-0-35\" class=\"displacy-label\" startOffset=\"50%\" side=\"left\" fill=\"currentColor\" text-anchor=\"middle\">advcl</textPath>\n",
       "    </text>\n",
       "    <path class=\"displacy-arrowhead\" d=\"M6685.0,441.5 L6693.0,429.5 6677.0,429.5\" fill=\"currentColor\"/>\n",
       "</g>\n",
       "\n",
       "<g class=\"displacy-arrow\">\n",
       "    <path class=\"displacy-arc\" id=\"arrow-8f49f129b16e40b39c0d5592f3d08748-0-36\" stroke-width=\"2px\" d=\"M6720,439.5 C6720,352.0 6855.0,352.0 6855.0,439.5\" fill=\"none\" stroke=\"currentColor\"/>\n",
       "    <text dy=\"1.25em\" style=\"font-size: 0.8em; letter-spacing: 1px\">\n",
       "        <textPath xlink:href=\"#arrow-8f49f129b16e40b39c0d5592f3d08748-0-36\" class=\"displacy-label\" startOffset=\"50%\" side=\"left\" fill=\"currentColor\" text-anchor=\"middle\">acomp</textPath>\n",
       "    </text>\n",
       "    <path class=\"displacy-arrowhead\" d=\"M6855.0,441.5 L6863.0,429.5 6847.0,429.5\" fill=\"currentColor\"/>\n",
       "</g>\n",
       "</svg></span>"
      ],
      "text/plain": [
       "<IPython.core.display.HTML object>"
      ]
     },
     "metadata": {},
     "output_type": "display_data"
    }
   ],
   "source": [
    "spacy.displacy.render(\n",
    "    pipe.ent_doc,\n",
    "    style = \"dep\",\n",
    "    jupyter = True,\n",
    ")"
   ]
  },
  {
   "cell_type": "markdown",
   "id": "5e9de8e0-5a79-45f9-8c9d-6c68c560040e",
   "metadata": {},
   "source": [
    "## collect graph elements from the parse"
   ]
  },
  {
   "cell_type": "code",
   "execution_count": 8,
   "id": "4d5abe40-d483-44f5-a747-92e0ac9c8b0d",
   "metadata": {
    "execution": {
     "iopub.execute_input": "2023-12-17T02:46:53.223094Z",
     "iopub.status.busy": "2023-12-17T02:46:53.222840Z",
     "iopub.status.idle": "2023-12-17T02:46:53.230552Z",
     "shell.execute_reply": "2023-12-17T02:46:53.229869Z",
     "shell.execute_reply.started": "2023-12-17T02:46:53.223060Z"
    }
   },
   "outputs": [],
   "source": [
    "tg.collect_graph_elements(\n",
    "    pipe,\n",
    "    debug = False,\n",
    ")"
   ]
  },
  {
   "cell_type": "code",
   "execution_count": 9,
   "id": "7c440db4-fc01-44ff-8d8d-03517cc1f1e4",
   "metadata": {
    "execution": {
     "iopub.execute_input": "2023-12-17T02:46:53.236015Z",
     "iopub.status.busy": "2023-12-17T02:46:53.235718Z",
     "iopub.status.idle": "2023-12-17T02:46:53.864340Z",
     "shell.execute_reply": "2023-12-17T02:46:53.863655Z",
     "shell.execute_reply.started": "2023-12-17T02:46:53.235945Z"
    },
    "scrolled": true
   },
   "outputs": [
    {
     "name": "stderr",
     "output_type": "stream",
     "text": [
      "ic| len(tg.nodes.values()): 50\n",
      "ic| len(tg.edges.values()): 54\n"
     ]
    }
   ],
   "source": [
    "ic(len(tg.nodes.values()));\n",
    "ic(len(tg.edges.values()));"
   ]
  },
  {
   "cell_type": "markdown",
   "id": "76caa0e6-351a-48e8-9e1f-94a31d612ee4",
   "metadata": {},
   "source": [
    "## perform entity linking"
   ]
  },
  {
   "cell_type": "code",
   "execution_count": 10,
   "id": "6d23e215-9d8c-4e03-8040-fa9398fad62b",
   "metadata": {
    "execution": {
     "iopub.execute_input": "2023-12-17T02:46:53.866464Z",
     "iopub.status.busy": "2023-12-17T02:46:53.866104Z",
     "iopub.status.idle": "2023-12-17T02:47:13.142769Z",
     "shell.execute_reply": "2023-12-17T02:47:13.141417Z",
     "shell.execute_reply.started": "2023-12-17T02:46:53.866427Z"
    }
   },
   "outputs": [],
   "source": [
    "tg.perform_entity_linking(\n",
    "    pipe,\n",
    "\tmin_alias = textgraphs.DBPEDIA_MIN_ALIAS,\n",
    "    min_similarity = textgraphs.DBPEDIA_MIN_SIM,\n",
    "    debug = False,\n",
    ")"
   ]
  },
  {
   "cell_type": "markdown",
   "id": "76fa3fcb-6432-4ed5-80d1-569be4253e6e",
   "metadata": {},
   "source": [
    "## construct a lemma graph"
   ]
  },
  {
   "cell_type": "code",
   "execution_count": 11,
   "id": "79efb0d1-dfc4-4f45-8c4e-b42a080832e7",
   "metadata": {
    "execution": {
     "iopub.execute_input": "2023-12-17T02:47:13.144307Z",
     "iopub.status.busy": "2023-12-17T02:47:13.144103Z",
     "iopub.status.idle": "2023-12-17T02:47:13.151953Z",
     "shell.execute_reply": "2023-12-17T02:47:13.151171Z",
     "shell.execute_reply.started": "2023-12-17T02:47:13.144273Z"
    }
   },
   "outputs": [],
   "source": [
    "tg.construct_lemma_graph(\n",
    "    debug = False,\n",
    ")"
   ]
  },
  {
   "cell_type": "markdown",
   "id": "f7e31cf4-0f49-4fef-affa-04c9833a6236",
   "metadata": {},
   "source": [
    "## infer relations"
   ]
  },
  {
   "cell_type": "code",
   "execution_count": 22,
   "id": "32bb75af-e806-4334-a876-127f2704ffbf",
   "metadata": {
    "execution": {
     "iopub.execute_input": "2023-12-17T02:47:27.752579Z",
     "iopub.status.busy": "2023-12-17T02:47:27.752115Z",
     "iopub.status.idle": "2023-12-17T02:47:46.686973Z",
     "shell.execute_reply": "2023-12-17T02:47:46.685447Z",
     "shell.execute_reply.started": "2023-12-17T02:47:27.752517Z"
    }
   },
   "outputs": [
    {
     "data": {
      "text/plain": [
       "[Edge(src_node=0, dst_node=10, kind=<RelEnum.INF: 2>, rel='https://schema.org/nationality', prob=1.0, count=2),\n",
       " Edge(src_node=0, dst_node=10, kind=<RelEnum.INF: 2>, rel='https://schema.org/nationality', prob=1.0, count=2),\n",
       " Edge(src_node=15, dst_node=0, kind=<RelEnum.INF: 2>, rel='https://schema.org/children', prob=1.0, count=1),\n",
       " Edge(src_node=25, dst_node=0, kind=<RelEnum.INF: 2>, rel='https://schema.org/children', prob=1.0, count=1),\n",
       " Edge(src_node=40, dst_node=35, kind=<RelEnum.INF: 2>, rel='https://schema.org/event', prob=1.0, count=1)]"
      ]
     },
     "execution_count": 22,
     "metadata": {},
     "output_type": "execute_result"
    }
   ],
   "source": [
    "inferred_edges: list = await tg.infer_relations(\n",
    "    pipe,\n",
    "    debug = False,\n",
    ")\n",
    "\n",
    "inferred_edges"
   ]
  },
  {
   "cell_type": "markdown",
   "id": "84a4b0c6-ebd5-4794-ac2d-ee191ab7ed0b",
   "metadata": {},
   "source": [
    "## extract ranked entities"
   ]
  },
  {
   "cell_type": "code",
   "execution_count": 13,
   "id": "70134eb6-c1b4-474e-81cd-12b6b7f38afd",
   "metadata": {
    "execution": {
     "iopub.execute_input": "2023-12-17T02:47:13.181346Z",
     "iopub.status.busy": "2023-12-17T02:47:13.180526Z",
     "iopub.status.idle": "2023-12-17T02:47:13.406651Z",
     "shell.execute_reply": "2023-12-17T02:47:13.405062Z",
     "shell.execute_reply.started": "2023-12-17T02:47:13.181295Z"
    },
    "scrolled": true
   },
   "outputs": [],
   "source": [
    "tg.calc_phrase_ranks(\n",
    "    pr_alpha = textgraphs.PAGERANK_ALPHA,\n",
    "    debug = False,\n",
    ")"
   ]
  },
  {
   "cell_type": "markdown",
   "id": "1ba5b734-665a-4bc0-9eca-11b2ba074fed",
   "metadata": {},
   "source": [
    "show the resulting entities extracted from the document"
   ]
  },
  {
   "cell_type": "code",
   "execution_count": 14,
   "id": "a77a0ede-2225-47c1-8ea8-4ae2220aa086",
   "metadata": {
    "execution": {
     "iopub.execute_input": "2023-12-17T02:47:13.411730Z",
     "iopub.status.busy": "2023-12-17T02:47:13.410254Z",
     "iopub.status.idle": "2023-12-17T02:47:13.449054Z",
     "shell.execute_reply": "2023-12-17T02:47:13.447858Z",
     "shell.execute_reply.started": "2023-12-17T02:47:13.411644Z"
    },
    "scrolled": true
   },
   "outputs": [
    {
     "data": {
      "text/html": [
       "<div>\n",
       "<style scoped>\n",
       "    .dataframe tbody tr th:only-of-type {\n",
       "        vertical-align: middle;\n",
       "    }\n",
       "\n",
       "    .dataframe tbody tr th {\n",
       "        vertical-align: top;\n",
       "    }\n",
       "\n",
       "    .dataframe thead th {\n",
       "        text-align: right;\n",
       "    }\n",
       "</style>\n",
       "<table border=\"1\" class=\"dataframe\">\n",
       "  <thead>\n",
       "    <tr style=\"text-align: right;\">\n",
       "      <th></th>\n",
       "      <th>node_id</th>\n",
       "      <th>text</th>\n",
       "      <th>pos</th>\n",
       "      <th>label</th>\n",
       "      <th>count</th>\n",
       "      <th>weight</th>\n",
       "    </tr>\n",
       "  </thead>\n",
       "  <tbody>\n",
       "    <tr>\n",
       "      <th>0</th>\n",
       "      <td>0</td>\n",
       "      <td>Werner Herzog</td>\n",
       "      <td>PROPN</td>\n",
       "      <td>dbr:Werner_Herzog</td>\n",
       "      <td>2</td>\n",
       "      <td>0.067458</td>\n",
       "    </tr>\n",
       "    <tr>\n",
       "      <th>1</th>\n",
       "      <td>10</td>\n",
       "      <td>Germany</td>\n",
       "      <td>PROPN</td>\n",
       "      <td>dbr:Germany</td>\n",
       "      <td>1</td>\n",
       "      <td>0.066208</td>\n",
       "    </tr>\n",
       "    <tr>\n",
       "      <th>2</th>\n",
       "      <td>15</td>\n",
       "      <td>Dietrich Herzog</td>\n",
       "      <td>PROPN</td>\n",
       "      <td>dbo:Person</td>\n",
       "      <td>1</td>\n",
       "      <td>0.062909</td>\n",
       "    </tr>\n",
       "    <tr>\n",
       "      <th>3</th>\n",
       "      <td>20</td>\n",
       "      <td>fact</td>\n",
       "      <td>NOUN</td>\n",
       "      <td>None</td>\n",
       "      <td>1</td>\n",
       "      <td>0.062909</td>\n",
       "    </tr>\n",
       "    <tr>\n",
       "      <th>4</th>\n",
       "      <td>35</td>\n",
       "      <td>war</td>\n",
       "      <td>NOUN</td>\n",
       "      <td>None</td>\n",
       "      <td>1</td>\n",
       "      <td>0.062909</td>\n",
       "    </tr>\n",
       "    <tr>\n",
       "      <th>5</th>\n",
       "      <td>37</td>\n",
       "      <td>Werner</td>\n",
       "      <td>PROPN</td>\n",
       "      <td>dbo:Person</td>\n",
       "      <td>1</td>\n",
       "      <td>0.062909</td>\n",
       "    </tr>\n",
       "    <tr>\n",
       "      <th>6</th>\n",
       "      <td>40</td>\n",
       "      <td>America</td>\n",
       "      <td>PROPN</td>\n",
       "      <td>dbo:Country</td>\n",
       "      <td>1</td>\n",
       "      <td>0.062909</td>\n",
       "    </tr>\n",
       "    <tr>\n",
       "      <th>7</th>\n",
       "      <td>45</td>\n",
       "      <td>a remarkable filmmaker</td>\n",
       "      <td>noun_chunk</td>\n",
       "      <td>None</td>\n",
       "      <td>1</td>\n",
       "      <td>0.062909</td>\n",
       "    </tr>\n",
       "    <tr>\n",
       "      <th>8</th>\n",
       "      <td>4</td>\n",
       "      <td>filmmaker</td>\n",
       "      <td>NOUN</td>\n",
       "      <td>None</td>\n",
       "      <td>1</td>\n",
       "      <td>0.061828</td>\n",
       "    </tr>\n",
       "    <tr>\n",
       "      <th>9</th>\n",
       "      <td>46</td>\n",
       "      <td>an intellectual</td>\n",
       "      <td>noun_chunk</td>\n",
       "      <td>None</td>\n",
       "      <td>1</td>\n",
       "      <td>0.061654</td>\n",
       "    </tr>\n",
       "    <tr>\n",
       "      <th>10</th>\n",
       "      <td>47</td>\n",
       "      <td>the son</td>\n",
       "      <td>noun_chunk</td>\n",
       "      <td>None</td>\n",
       "      <td>1</td>\n",
       "      <td>0.061654</td>\n",
       "    </tr>\n",
       "    <tr>\n",
       "      <th>11</th>\n",
       "      <td>48</td>\n",
       "      <td>his father</td>\n",
       "      <td>noun_chunk</td>\n",
       "      <td>None</td>\n",
       "      <td>1</td>\n",
       "      <td>0.061654</td>\n",
       "    </tr>\n",
       "    <tr>\n",
       "      <th>12</th>\n",
       "      <td>49</td>\n",
       "      <td>the war</td>\n",
       "      <td>noun_chunk</td>\n",
       "      <td>None</td>\n",
       "      <td>1</td>\n",
       "      <td>0.061654</td>\n",
       "    </tr>\n",
       "    <tr>\n",
       "      <th>13</th>\n",
       "      <td>7</td>\n",
       "      <td>intellectual</td>\n",
       "      <td>NOUN</td>\n",
       "      <td>None</td>\n",
       "      <td>1</td>\n",
       "      <td>0.060551</td>\n",
       "    </tr>\n",
       "    <tr>\n",
       "      <th>14</th>\n",
       "      <td>13</td>\n",
       "      <td>son</td>\n",
       "      <td>NOUN</td>\n",
       "      <td>None</td>\n",
       "      <td>1</td>\n",
       "      <td>0.060551</td>\n",
       "    </tr>\n",
       "    <tr>\n",
       "      <th>15</th>\n",
       "      <td>25</td>\n",
       "      <td>father</td>\n",
       "      <td>NOUN</td>\n",
       "      <td>None</td>\n",
       "      <td>1</td>\n",
       "      <td>0.059336</td>\n",
       "    </tr>\n",
       "  </tbody>\n",
       "</table>\n",
       "</div>"
      ],
      "text/plain": [
       "    node_id                    text         pos              label  count  \\\n",
       "0         0           Werner Herzog       PROPN  dbr:Werner_Herzog      2   \n",
       "1        10                 Germany       PROPN        dbr:Germany      1   \n",
       "2        15         Dietrich Herzog       PROPN         dbo:Person      1   \n",
       "3        20                    fact        NOUN               None      1   \n",
       "4        35                     war        NOUN               None      1   \n",
       "5        37                  Werner       PROPN         dbo:Person      1   \n",
       "6        40                 America       PROPN        dbo:Country      1   \n",
       "7        45  a remarkable filmmaker  noun_chunk               None      1   \n",
       "8         4               filmmaker        NOUN               None      1   \n",
       "9        46         an intellectual  noun_chunk               None      1   \n",
       "10       47                 the son  noun_chunk               None      1   \n",
       "11       48              his father  noun_chunk               None      1   \n",
       "12       49                 the war  noun_chunk               None      1   \n",
       "13        7            intellectual        NOUN               None      1   \n",
       "14       13                     son        NOUN               None      1   \n",
       "15       25                  father        NOUN               None      1   \n",
       "\n",
       "      weight  \n",
       "0   0.067458  \n",
       "1   0.066208  \n",
       "2   0.062909  \n",
       "3   0.062909  \n",
       "4   0.062909  \n",
       "5   0.062909  \n",
       "6   0.062909  \n",
       "7   0.062909  \n",
       "8   0.061828  \n",
       "9   0.061654  \n",
       "10  0.061654  \n",
       "11  0.061654  \n",
       "12  0.061654  \n",
       "13  0.060551  \n",
       "14  0.060551  \n",
       "15  0.059336  "
      ]
     },
     "execution_count": 14,
     "metadata": {},
     "output_type": "execute_result"
    }
   ],
   "source": [
    "df: pd.DataFrame = tg.get_phrases_as_df(pipe)\n",
    "df"
   ]
  },
  {
   "cell_type": "markdown",
   "id": "3143955c-446a-4e6c-834c-583ab173f446",
   "metadata": {},
   "source": [
    "## visualize the lemma graph"
   ]
  },
  {
   "cell_type": "code",
   "execution_count": 15,
   "id": "05b409af-14df-4158-9709-ffe2d79e864b",
   "metadata": {
    "execution": {
     "iopub.execute_input": "2023-12-17T02:47:13.451723Z",
     "iopub.status.busy": "2023-12-17T02:47:13.450988Z",
     "iopub.status.idle": "2023-12-17T02:47:13.471112Z",
     "shell.execute_reply": "2023-12-17T02:47:13.469657Z",
     "shell.execute_reply.started": "2023-12-17T02:47:13.451650Z"
    },
    "scrolled": true
   },
   "outputs": [],
   "source": [
    "render: textgraphs.RenderPyVis = textgraphs.RenderPyVis(\n",
    "    tg.nodes,\n",
    "    tg.edges,\n",
    "    tg.lemma_graph,\n",
    ")\n",
    "\n",
    "pv_graph: pyvis.network.Network = render.render_lemma_graph(\n",
    "    pipe,\n",
    "    debug = False,\n",
    ")"
   ]
  },
  {
   "cell_type": "markdown",
   "id": "7b5d3e88-6669-4df1-a20a-587cc6a7db12",
   "metadata": {},
   "source": [
    "initialize the layout parameters"
   ]
  },
  {
   "cell_type": "code",
   "execution_count": 16,
   "id": "b212f5ed-03d6-439f-92ae-f2cbedb18609",
   "metadata": {
    "execution": {
     "iopub.execute_input": "2023-12-17T02:47:13.477322Z",
     "iopub.status.busy": "2023-12-17T02:47:13.475903Z",
     "iopub.status.idle": "2023-12-17T02:47:13.486204Z",
     "shell.execute_reply": "2023-12-17T02:47:13.485092Z",
     "shell.execute_reply.started": "2023-12-17T02:47:13.477243Z"
    }
   },
   "outputs": [],
   "source": [
    "pv_graph.force_atlas_2based(\n",
    "    gravity = -38,\n",
    "    central_gravity = 0.01,\n",
    "    spring_length = 231,\n",
    "    spring_strength = 0.7,\n",
    "    damping = 0.8,\n",
    "    overlap = 0,\n",
    ")\n",
    "\n",
    "pv_graph.show_buttons(filter_ = [ \"physics\" ])\n",
    "pv_graph.toggle_physics(True)"
   ]
  },
  {
   "cell_type": "code",
   "execution_count": 17,
   "id": "2f952a7c-3130-49c9-b659-fb941e9e0bfe",
   "metadata": {
    "execution": {
     "iopub.execute_input": "2023-12-17T02:47:13.489645Z",
     "iopub.status.busy": "2023-12-17T02:47:13.488591Z",
     "iopub.status.idle": "2023-12-17T02:47:13.573263Z",
     "shell.execute_reply": "2023-12-17T02:47:13.571295Z",
     "shell.execute_reply.started": "2023-12-17T02:47:13.489505Z"
    }
   },
   "outputs": [
    {
     "name": "stdout",
     "output_type": "stream",
     "text": [
      "vis.html\n"
     ]
    },
    {
     "data": {
      "text/html": [
       "\n",
       "        <iframe\n",
       "            width=\"100%\"\n",
       "            height=\"600px\"\n",
       "            src=\"vis.html\"\n",
       "            frameborder=\"0\"\n",
       "            allowfullscreen\n",
       "            \n",
       "        ></iframe>\n",
       "        "
      ],
      "text/plain": [
       "<IPython.lib.display.IFrame at 0x7fc8a93660a0>"
      ]
     },
     "execution_count": 17,
     "metadata": {},
     "output_type": "execute_result"
    }
   ],
   "source": [
    "pv_graph.prep_notebook()\n",
    "pv_graph.show(\"vis.html\")"
   ]
  },
  {
   "cell_type": "markdown",
   "id": "dc6654c8-0a4c-4e62-8cfc-f49e33f81064",
   "metadata": {},
   "source": [
    "## generate a word cloud"
   ]
  },
  {
   "cell_type": "code",
   "execution_count": 18,
   "id": "ba9543cd-b1e9-4f0a-930c-7a0a6ccb7f0a",
   "metadata": {
    "execution": {
     "iopub.execute_input": "2023-12-17T02:47:13.577213Z",
     "iopub.status.busy": "2023-12-17T02:47:13.576495Z",
     "iopub.status.idle": "2023-12-17T02:47:13.783400Z",
     "shell.execute_reply": "2023-12-17T02:47:13.782225Z",
     "shell.execute_reply.started": "2023-12-17T02:47:13.577126Z"
    }
   },
   "outputs": [
    {
     "data": {
      "image/jpeg": "[encoded data removed]",
      "image/png": "[encoded data removed]",
      "text/plain": [
       "<PIL.Image.Image image mode=RGB size=400x200>"
      ]
     },
     "metadata": {},
     "output_type": "display_data"
    }
   ],
   "source": [
    "wordcloud = render.generate_wordcloud()\n",
    "display(wordcloud.to_image())"
   ]
  },
  {
   "cell_type": "markdown",
   "id": "9e55b207-16d2-488a-b89b-b6ea8aed0ad9",
   "metadata": {},
   "source": [
    "## cluster communities in the lemma graph"
   ]
  },
  {
   "cell_type": "markdown",
   "id": "9bdcbe84-ae83-4fa6-91ad-3069b212dc72",
   "metadata": {},
   "source": [
    "In the tutorial\n",
    "<a href=\"https://towardsdatascience.com/how-to-convert-any-text-into-a-graph-of-concepts-110844f22a1a\" target=\"_blank\">\"How to Convert Any Text Into a Graph of Concepts\"</a>, \n",
    "Rahul Nayak uses the\n",
    "<a href=\"https://en.wikipedia.org/wiki/Girvan%E2%80%93Newman_algorithm\"><em>girvan-newman</em></a>\n",
    "algorithm to split the graph into communities, then clusters on those communities.\n",
    "His approach works well for unsupervised clustering of key phrases which have been extracted from many documents.\n",
    "In contrast, Nayak was working with entities extracted from \"chunks\" of text, not with a text graph."
   ]
  },
  {
   "cell_type": "code",
   "execution_count": 19,
   "id": "cd2d2f21-966e-40d6-8335-20dbfd8316ed",
   "metadata": {
    "execution": {
     "iopub.execute_input": "2023-12-17T02:47:13.785822Z",
     "iopub.status.busy": "2023-12-17T02:47:13.785465Z",
     "iopub.status.idle": "2023-12-17T02:47:15.069359Z",
     "shell.execute_reply": "2023-12-17T02:47:15.068238Z",
     "shell.execute_reply.started": "2023-12-17T02:47:13.785784Z"
    }
   },
   "outputs": [
    {
     "data": {
      "image/png": "[encoded data removed]",
      "text/plain": [
       "<Figure size 640x480 with 1 Axes>"
      ]
     },
     "metadata": {},
     "output_type": "display_data"
    }
   ],
   "source": [
    "render.draw_communities();"
   ]
  },
  {
   "cell_type": "markdown",
   "id": "ff49fe28-e75f-4590-8b87-0d8962928cba",
   "metadata": {},
   "source": [
    "## statistical stack profile instrumentation"
   ]
  },
  {
   "cell_type": "code",
   "execution_count": 20,
   "id": "af4ecb06-370f-4077-9899-29a1673e4768",
   "metadata": {
    "execution": {
     "iopub.execute_input": "2023-12-17T02:47:15.071317Z",
     "iopub.status.busy": "2023-12-17T02:47:15.071028Z",
     "iopub.status.idle": "2023-12-17T02:47:15.078866Z",
     "shell.execute_reply": "2023-12-17T02:47:15.078164Z",
     "shell.execute_reply.started": "2023-12-17T02:47:15.071283Z"
    }
   },
   "outputs": [
    {
     "data": {
      "text/plain": [
       "<pyinstrument.session.Session at 0x7fc9ba120220>"
      ]
     },
     "execution_count": 20,
     "metadata": {},
     "output_type": "execute_result"
    }
   ],
   "source": [
    "profiler.stop()"
   ]
  },
  {
   "cell_type": "code",
   "execution_count": 21,
   "id": "d5ac2ce6-15b1-41ad-8215-8a5f76036cf1",
   "metadata": {
    "execution": {
     "iopub.execute_input": "2023-12-17T02:47:15.080822Z",
     "iopub.status.busy": "2023-12-17T02:47:15.080539Z",
     "iopub.status.idle": "2023-12-17T02:47:15.836132Z",
     "shell.execute_reply": "2023-12-17T02:47:15.835378Z",
     "shell.execute_reply.started": "2023-12-17T02:47:15.080794Z"
    }
   },
   "outputs": [
    {
     "name": "stdout",
     "output_type": "stream",
     "text": [
      "\n",
      "  _     ._   __/__   _ _  _  _ _/_   Recorded: 18:46:35  Samples:  5821\n",
      " /_//_/// /_\\ / //_// / //_'/ //     Duration: 39.570    CPU time: 21.575\n",
      "/   _/                      v4.6.1\n",
      "\n",
      "Program: /Users/paco/src/textgraphs/venv/lib/python3.9/site-packages/ipykernel_launcher.py -f /Users/paco/Library/Jupyter/runtime/kernel-b6d20dd1-912f-45cf-8dab-fb080c7db540.json\n",
      "\n",
      "39.571 _UnixSelectorEventLoop._run_once  asyncio/base_events.py:1815\n",
      "└─ 39.569 Handle._run  asyncio/events.py:78\n",
      "      [35 frames hidden]  asyncio, ipykernel, IPython, matplotlib\n",
      "         38.411 ZMQInteractiveShell.run_ast_nodes  IPython/core/interactiveshell.py:3391\n",
      "         ├─ 19.272 <module>  ../ipykernel_58623/2495973708.py:1\n",
      "         │  └─ 19.272 TextGraphs.perform_entity_linking  textgraphs/doc.py:523\n",
      "         │     ├─ 10.744 Pipeline.link_dbpedia_search_entities  textgraphs/pipe.py:244\n",
      "         │     │  └─ 10.737 WikiDatum.dbpedia_search_entity  textgraphs/kg.py:251\n",
      "         │     │     └─ 10.662 get  requests/api.py:62\n",
      "         │     │           [37 frames hidden]  requests, urllib3, http, socket, ssl,...\n",
      "         │     └─ 8.528 Pipeline.link_spotlight_entities  textgraphs/pipe.py:171\n",
      "         │        └─ 8.522 WikiDatum.dbpedia_search_entity  textgraphs/kg.py:251\n",
      "         │           └─ 8.453 get  requests/api.py:62\n",
      "         │                 [37 frames hidden]  requests, urllib3, http, socket, ssl,...\n",
      "         ├─ 16.901 <module>  ../ipykernel_58623/1417434912.py:1\n",
      "         │  ├─ 12.691 InferRel_Rebel.__init__  textgraphs/rel.py:90\n",
      "         │  │  └─ 12.613 pipeline  transformers/pipelines/__init__.py:531\n",
      "         │  │        [35 frames hidden]  transformers, torch, <built-in>\n",
      "         │  ├─ 3.566 PipelineFactory.__init__  textgraphs/pipe.py:333\n",
      "         │  │  └─ 3.541 load  spacy/__init__.py:27\n",
      "         │  │        [22 frames hidden]  spacy, en_core_web_sm, catalogue, imp...\n",
      "         │  └─ 0.641 InferRel_OpenNRE.__init__  textgraphs/rel.py:33\n",
      "         │     └─ 0.635 get_model  opennre/pretrain.py:126\n",
      "         ├─ 0.766 <module>  ../ipykernel_58623/1417434912.py:24\n",
      "         │  └─ 0.766 TextGraphs.create_pipeline  textgraphs/doc.py:87\n",
      "         │     └─ 0.766 PipelineFactory.create_pipeline  textgraphs/pipe.py:416\n",
      "         │        └─ 0.766 Pipeline.__init__  textgraphs/pipe.py:59\n",
      "         │           └─ 0.766 English.__call__  spacy/language.py:1016\n",
      "         │                 [13 frames hidden]  spacy, spacy_dbpedia_spotlight, reque...\n",
      "         └─ 0.585 <module>  ../ipykernel_58623/644158021.py:1\n",
      "            └─ 0.585 IceCreamDebugger.__call__  icecream/icecream.py:204\n",
      "                  [7 frames hidden]  icecream, inspect\n",
      "\n",
      "\n"
     ]
    }
   ],
   "source": [
    "profiler.print()"
   ]
  },
  {
   "cell_type": "markdown",
   "id": "c47bcfd2-2bd6-49a5-8f1a-102d90edde39",
   "metadata": {
    "jp-MarkdownHeadingCollapsed": true
   },
   "source": [
    "## outro"
   ]
  },
  {
   "cell_type": "markdown",
   "id": "68bea4f9-aec2-4b28-8f08-a4034851d066",
   "metadata": {},
   "source": [
    "_\\[ more parts are in progress, getting added to this demo \\]_"
   ]
  }
 ],
 "metadata": {
  "kernelspec": {
   "display_name": "Python 3 (ipykernel)",
   "language": "python",
   "name": "python3"
  },
  "language_info": {
   "codemirror_mode": {
    "name": "ipython",
    "version": 3
   },
   "file_extension": ".py",
   "mimetype": "text/x-python",
   "name": "python",
   "nbconvert_exporter": "python",
   "pygments_lexer": "ipython3",
   "version": "3.9.0"
  }
 },
 "nbformat": 4,
 "nbformat_minor": 5
}
