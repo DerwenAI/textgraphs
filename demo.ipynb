{
 "cells": [
  {
   "cell_type": "markdown",
   "id": "c8ff5d81-110c-42ae-8aa7-ed4fffea40c6",
   "metadata": {},
   "source": [
    "# demo: textgraph"
   ]
  },
  {
   "cell_type": "markdown",
   "id": "3a4c3b5a-9c0d-45d0-b012-4e8c8252bb3f",
   "metadata": {},
   "source": [
    "Implementation of an LLM-augmented `textgraph` algorithm for constructing a _knowledge graph_ from raw, unstructured text source.\n",
    "\n",
    "This code is based on work developed by [Derwen](https://derwen.ai/graph) in early 2023 for enterprise customer sample apps and our _Cysoni_ product. It integrates code from:\n",
    "\n",
    "  * <https://github.com/tomaarsen/SpanMarkerNER/>\n",
    "  * <https://github.com/thunlp/OpenNRE/>\n",
    "  * <https://github.com/DerwenAI/pytextrank/>\n",
    "  * [_Create a spaCy Visualizer with Streamlit_](https://medium.com/@groxli/create-a-spacy-visualizer-with-streamlit-8b9b41b36745)\n",
    "\n",
    "Our approach was presented in the talks:\n",
    "\n",
    "  * [\"Language, Graphs, and AI in Industry\"](https://derwen.ai/s/mqqm), **Paco Nathan**, K1st World (2023-10-11)\n",
    "  * [\"Language Tools for Creators\"](https://derwen.ai/s/rhvg), **Paco Nathan**, FOSSY (2023-07-13)\n",
    "\n",
    "Two tutorials also from 2023 which include related material:\n",
    "\n",
    "  * [\"Natural Intelligence is All You Need \\[tm\\]\"](https://youtu.be/C9p7suS-NGk?si=7Ohq3BV654ia2Im4), **Vincent Warmerdam**, PyData Amsterdam (2023-09-15)\n",
    "\n",
    "  * [\"How to Convert Any Text Into a Graph of Concepts\"](https://towardsdatascience.com/how-to-convert-any-text-into-a-graph-of-concepts-110844f22a1a), **Rahul Nayak**, _Towards Data Science_ (2023-11-09)"
   ]
  },
  {
   "cell_type": "markdown",
   "id": "1a04e3dc-57d8-43a4-a342-cc38b86fc6a6",
   "metadata": {},
   "source": [
    "## parse a document"
   ]
  },
  {
   "cell_type": "code",
   "execution_count": 1,
   "id": "22489527-2ad5-4e3c-be23-f511e6bcf69f",
   "metadata": {},
   "outputs": [
    {
     "name": "stderr",
     "output_type": "stream",
     "text": [
      "/Users/paco/src/textgraph/venv/lib/python3.9/site-packages/tqdm/auto.py:21: TqdmWarning: IProgress not found. Please update jupyter and ipywidgets. See https://ipywidgets.readthedocs.io/en/stable/user_install.html\n",
      "  from .autonotebook import tqdm as notebook_tqdm\n"
     ]
    }
   ],
   "source": [
    "from icecream import ic\n",
    "from textgraph import Node, Edge, RelEnum, TextGraph\n",
    "import spacy"
   ]
  },
  {
   "cell_type": "code",
   "execution_count": 2,
   "id": "630430c5-21dc-4897-9a4b-3b01baf3de17",
   "metadata": {},
   "outputs": [],
   "source": [
    "SRC_TEXT: str = \"\"\"                                                                                                                      \n",
    "Werner Herzog is a remarkable filmmaker and an intellectual originally from Germany, the son of Dietrich Herzog.                                \n",
    "\"\"\""
   ]
  },
  {
   "cell_type": "code",
   "execution_count": 3,
   "id": "da6fcb0f-b2ac-4f74-af39-2c129c750cab",
   "metadata": {},
   "outputs": [
    {
     "name": "stderr",
     "output_type": "stream",
     "text": [
      "2023-11-25 13:57:04,840 - root - INFO - Initializing word embedding with word2vec.\n"
     ]
    }
   ],
   "source": [
    "tg: TextGraph = TextGraph()\n",
    "\n",
    "sample_doc: spacy.tokens.doc.Doc = tg.build_doc(\n",
    "    SRC_TEXT.strip(),\n",
    "    use_llm = False,\n",
    ")"
   ]
  },
  {
   "cell_type": "code",
   "execution_count": 4,
   "id": "00d5cc5d-d3e7-4363-99ac-fd3f739d176e",
   "metadata": {},
   "outputs": [
    {
     "data": {
      "text/html": [
       "<span class=\"tex2jax_ignore\"><div class=\"entities\" style=\"line-height: 2.5; direction: ltr\">\n",
       "<mark class=\"entity\" style=\"background: #aa9cfc; padding: 0.45em 0.6em; margin: 0 0.25em; line-height: 1; border-radius: 0.35em;\">\n",
       "    Werner Herzog\n",
       "    <span style=\"font-size: 0.8em; font-weight: bold; line-height: 1; border-radius: 0.35em; vertical-align: middle; margin-left: 0.5rem\">PERSON</span>\n",
       "</mark>\n",
       " is a remarkable filmmaker and an intellectual originally from \n",
       "<mark class=\"entity\" style=\"background: #feca74; padding: 0.45em 0.6em; margin: 0 0.25em; line-height: 1; border-radius: 0.35em;\">\n",
       "    Germany\n",
       "    <span style=\"font-size: 0.8em; font-weight: bold; line-height: 1; border-radius: 0.35em; vertical-align: middle; margin-left: 0.5rem\">GPE</span>\n",
       "</mark>\n",
       ", the son of \n",
       "<mark class=\"entity\" style=\"background: #aa9cfc; padding: 0.45em 0.6em; margin: 0 0.25em; line-height: 1; border-radius: 0.35em;\">\n",
       "    Dietrich Herzog\n",
       "    <span style=\"font-size: 0.8em; font-weight: bold; line-height: 1; border-radius: 0.35em; vertical-align: middle; margin-left: 0.5rem\">PERSON</span>\n",
       "</mark>\n",
       ".</div></span>"
      ],
      "text/plain": [
       "<IPython.core.display.HTML object>"
      ]
     },
     "metadata": {},
     "output_type": "display_data"
    }
   ],
   "source": [
    "spacy.displacy.render(\n",
    "    sample_doc,\n",
    "    style = \"ent\",\n",
    "    jupyter = True,\n",
    ")"
   ]
  },
  {
   "cell_type": "code",
   "execution_count": 5,
   "id": "ffc0863d-5ed4-4857-aee1-96f26472f1ef",
   "metadata": {},
   "outputs": [
    {
     "data": {
      "text/html": [
       "<span class=\"tex2jax_ignore\"><svg xmlns=\"http://www.w3.org/2000/svg\" xmlns:xlink=\"http://www.w3.org/1999/xlink\" xml:lang=\"en\" id=\"06d5bc80eddc46db98834c9156464b3d-0\" class=\"displacy\" width=\"2675\" height=\"399.5\" direction=\"ltr\" style=\"max-width: none; height: 399.5px; color: #000000; background: #ffffff; font-family: Arial; direction: ltr\">\n",
       "<text class=\"displacy-token\" fill=\"currentColor\" text-anchor=\"middle\" y=\"309.5\">\n",
       "    <tspan class=\"displacy-word\" fill=\"currentColor\" x=\"50\">Werner Herzog</tspan>\n",
       "    <tspan class=\"displacy-tag\" dy=\"2em\" fill=\"currentColor\" x=\"50\">PROPN</tspan>\n",
       "</text>\n",
       "\n",
       "<text class=\"displacy-token\" fill=\"currentColor\" text-anchor=\"middle\" y=\"309.5\">\n",
       "    <tspan class=\"displacy-word\" fill=\"currentColor\" x=\"225\">is</tspan>\n",
       "    <tspan class=\"displacy-tag\" dy=\"2em\" fill=\"currentColor\" x=\"225\">AUX</tspan>\n",
       "</text>\n",
       "\n",
       "<text class=\"displacy-token\" fill=\"currentColor\" text-anchor=\"middle\" y=\"309.5\">\n",
       "    <tspan class=\"displacy-word\" fill=\"currentColor\" x=\"400\">a</tspan>\n",
       "    <tspan class=\"displacy-tag\" dy=\"2em\" fill=\"currentColor\" x=\"400\">DET</tspan>\n",
       "</text>\n",
       "\n",
       "<text class=\"displacy-token\" fill=\"currentColor\" text-anchor=\"middle\" y=\"309.5\">\n",
       "    <tspan class=\"displacy-word\" fill=\"currentColor\" x=\"575\">remarkable</tspan>\n",
       "    <tspan class=\"displacy-tag\" dy=\"2em\" fill=\"currentColor\" x=\"575\">ADJ</tspan>\n",
       "</text>\n",
       "\n",
       "<text class=\"displacy-token\" fill=\"currentColor\" text-anchor=\"middle\" y=\"309.5\">\n",
       "    <tspan class=\"displacy-word\" fill=\"currentColor\" x=\"750\">filmmaker</tspan>\n",
       "    <tspan class=\"displacy-tag\" dy=\"2em\" fill=\"currentColor\" x=\"750\">NOUN</tspan>\n",
       "</text>\n",
       "\n",
       "<text class=\"displacy-token\" fill=\"currentColor\" text-anchor=\"middle\" y=\"309.5\">\n",
       "    <tspan class=\"displacy-word\" fill=\"currentColor\" x=\"925\">and</tspan>\n",
       "    <tspan class=\"displacy-tag\" dy=\"2em\" fill=\"currentColor\" x=\"925\">CCONJ</tspan>\n",
       "</text>\n",
       "\n",
       "<text class=\"displacy-token\" fill=\"currentColor\" text-anchor=\"middle\" y=\"309.5\">\n",
       "    <tspan class=\"displacy-word\" fill=\"currentColor\" x=\"1100\">an</tspan>\n",
       "    <tspan class=\"displacy-tag\" dy=\"2em\" fill=\"currentColor\" x=\"1100\">DET</tspan>\n",
       "</text>\n",
       "\n",
       "<text class=\"displacy-token\" fill=\"currentColor\" text-anchor=\"middle\" y=\"309.5\">\n",
       "    <tspan class=\"displacy-word\" fill=\"currentColor\" x=\"1275\">intellectual</tspan>\n",
       "    <tspan class=\"displacy-tag\" dy=\"2em\" fill=\"currentColor\" x=\"1275\">NOUN</tspan>\n",
       "</text>\n",
       "\n",
       "<text class=\"displacy-token\" fill=\"currentColor\" text-anchor=\"middle\" y=\"309.5\">\n",
       "    <tspan class=\"displacy-word\" fill=\"currentColor\" x=\"1450\">originally</tspan>\n",
       "    <tspan class=\"displacy-tag\" dy=\"2em\" fill=\"currentColor\" x=\"1450\">ADV</tspan>\n",
       "</text>\n",
       "\n",
       "<text class=\"displacy-token\" fill=\"currentColor\" text-anchor=\"middle\" y=\"309.5\">\n",
       "    <tspan class=\"displacy-word\" fill=\"currentColor\" x=\"1625\">from</tspan>\n",
       "    <tspan class=\"displacy-tag\" dy=\"2em\" fill=\"currentColor\" x=\"1625\">ADP</tspan>\n",
       "</text>\n",
       "\n",
       "<text class=\"displacy-token\" fill=\"currentColor\" text-anchor=\"middle\" y=\"309.5\">\n",
       "    <tspan class=\"displacy-word\" fill=\"currentColor\" x=\"1800\">Germany,</tspan>\n",
       "    <tspan class=\"displacy-tag\" dy=\"2em\" fill=\"currentColor\" x=\"1800\">PROPN</tspan>\n",
       "</text>\n",
       "\n",
       "<text class=\"displacy-token\" fill=\"currentColor\" text-anchor=\"middle\" y=\"309.5\">\n",
       "    <tspan class=\"displacy-word\" fill=\"currentColor\" x=\"1975\">the</tspan>\n",
       "    <tspan class=\"displacy-tag\" dy=\"2em\" fill=\"currentColor\" x=\"1975\">DET</tspan>\n",
       "</text>\n",
       "\n",
       "<text class=\"displacy-token\" fill=\"currentColor\" text-anchor=\"middle\" y=\"309.5\">\n",
       "    <tspan class=\"displacy-word\" fill=\"currentColor\" x=\"2150\">son</tspan>\n",
       "    <tspan class=\"displacy-tag\" dy=\"2em\" fill=\"currentColor\" x=\"2150\">NOUN</tspan>\n",
       "</text>\n",
       "\n",
       "<text class=\"displacy-token\" fill=\"currentColor\" text-anchor=\"middle\" y=\"309.5\">\n",
       "    <tspan class=\"displacy-word\" fill=\"currentColor\" x=\"2325\">of</tspan>\n",
       "    <tspan class=\"displacy-tag\" dy=\"2em\" fill=\"currentColor\" x=\"2325\">ADP</tspan>\n",
       "</text>\n",
       "\n",
       "<text class=\"displacy-token\" fill=\"currentColor\" text-anchor=\"middle\" y=\"309.5\">\n",
       "    <tspan class=\"displacy-word\" fill=\"currentColor\" x=\"2500\">Dietrich Herzog.</tspan>\n",
       "    <tspan class=\"displacy-tag\" dy=\"2em\" fill=\"currentColor\" x=\"2500\">PROPN</tspan>\n",
       "</text>\n",
       "\n",
       "<g class=\"displacy-arrow\">\n",
       "    <path class=\"displacy-arc\" id=\"arrow-06d5bc80eddc46db98834c9156464b3d-0-0\" stroke-width=\"2px\" d=\"M70,264.5 C70,177.0 215.0,177.0 215.0,264.5\" fill=\"none\" stroke=\"currentColor\"/>\n",
       "    <text dy=\"1.25em\" style=\"font-size: 0.8em; letter-spacing: 1px\">\n",
       "        <textPath xlink:href=\"#arrow-06d5bc80eddc46db98834c9156464b3d-0-0\" class=\"displacy-label\" startOffset=\"50%\" side=\"left\" fill=\"currentColor\" text-anchor=\"middle\">nsubj</textPath>\n",
       "    </text>\n",
       "    <path class=\"displacy-arrowhead\" d=\"M70,266.5 L62,254.5 78,254.5\" fill=\"currentColor\"/>\n",
       "</g>\n",
       "\n",
       "<g class=\"displacy-arrow\">\n",
       "    <path class=\"displacy-arc\" id=\"arrow-06d5bc80eddc46db98834c9156464b3d-0-1\" stroke-width=\"2px\" d=\"M420,264.5 C420,89.5 745.0,89.5 745.0,264.5\" fill=\"none\" stroke=\"currentColor\"/>\n",
       "    <text dy=\"1.25em\" style=\"font-size: 0.8em; letter-spacing: 1px\">\n",
       "        <textPath xlink:href=\"#arrow-06d5bc80eddc46db98834c9156464b3d-0-1\" class=\"displacy-label\" startOffset=\"50%\" side=\"left\" fill=\"currentColor\" text-anchor=\"middle\">det</textPath>\n",
       "    </text>\n",
       "    <path class=\"displacy-arrowhead\" d=\"M420,266.5 L412,254.5 428,254.5\" fill=\"currentColor\"/>\n",
       "</g>\n",
       "\n",
       "<g class=\"displacy-arrow\">\n",
       "    <path class=\"displacy-arc\" id=\"arrow-06d5bc80eddc46db98834c9156464b3d-0-2\" stroke-width=\"2px\" d=\"M595,264.5 C595,177.0 740.0,177.0 740.0,264.5\" fill=\"none\" stroke=\"currentColor\"/>\n",
       "    <text dy=\"1.25em\" style=\"font-size: 0.8em; letter-spacing: 1px\">\n",
       "        <textPath xlink:href=\"#arrow-06d5bc80eddc46db98834c9156464b3d-0-2\" class=\"displacy-label\" startOffset=\"50%\" side=\"left\" fill=\"currentColor\" text-anchor=\"middle\">amod</textPath>\n",
       "    </text>\n",
       "    <path class=\"displacy-arrowhead\" d=\"M595,266.5 L587,254.5 603,254.5\" fill=\"currentColor\"/>\n",
       "</g>\n",
       "\n",
       "<g class=\"displacy-arrow\">\n",
       "    <path class=\"displacy-arc\" id=\"arrow-06d5bc80eddc46db98834c9156464b3d-0-3\" stroke-width=\"2px\" d=\"M245,264.5 C245,2.0 750.0,2.0 750.0,264.5\" fill=\"none\" stroke=\"currentColor\"/>\n",
       "    <text dy=\"1.25em\" style=\"font-size: 0.8em; letter-spacing: 1px\">\n",
       "        <textPath xlink:href=\"#arrow-06d5bc80eddc46db98834c9156464b3d-0-3\" class=\"displacy-label\" startOffset=\"50%\" side=\"left\" fill=\"currentColor\" text-anchor=\"middle\">attr</textPath>\n",
       "    </text>\n",
       "    <path class=\"displacy-arrowhead\" d=\"M750.0,266.5 L758.0,254.5 742.0,254.5\" fill=\"currentColor\"/>\n",
       "</g>\n",
       "\n",
       "<g class=\"displacy-arrow\">\n",
       "    <path class=\"displacy-arc\" id=\"arrow-06d5bc80eddc46db98834c9156464b3d-0-4\" stroke-width=\"2px\" d=\"M770,264.5 C770,177.0 915.0,177.0 915.0,264.5\" fill=\"none\" stroke=\"currentColor\"/>\n",
       "    <text dy=\"1.25em\" style=\"font-size: 0.8em; letter-spacing: 1px\">\n",
       "        <textPath xlink:href=\"#arrow-06d5bc80eddc46db98834c9156464b3d-0-4\" class=\"displacy-label\" startOffset=\"50%\" side=\"left\" fill=\"currentColor\" text-anchor=\"middle\">cc</textPath>\n",
       "    </text>\n",
       "    <path class=\"displacy-arrowhead\" d=\"M915.0,266.5 L923.0,254.5 907.0,254.5\" fill=\"currentColor\"/>\n",
       "</g>\n",
       "\n",
       "<g class=\"displacy-arrow\">\n",
       "    <path class=\"displacy-arc\" id=\"arrow-06d5bc80eddc46db98834c9156464b3d-0-5\" stroke-width=\"2px\" d=\"M1120,264.5 C1120,177.0 1265.0,177.0 1265.0,264.5\" fill=\"none\" stroke=\"currentColor\"/>\n",
       "    <text dy=\"1.25em\" style=\"font-size: 0.8em; letter-spacing: 1px\">\n",
       "        <textPath xlink:href=\"#arrow-06d5bc80eddc46db98834c9156464b3d-0-5\" class=\"displacy-label\" startOffset=\"50%\" side=\"left\" fill=\"currentColor\" text-anchor=\"middle\">det</textPath>\n",
       "    </text>\n",
       "    <path class=\"displacy-arrowhead\" d=\"M1120,266.5 L1112,254.5 1128,254.5\" fill=\"currentColor\"/>\n",
       "</g>\n",
       "\n",
       "<g class=\"displacy-arrow\">\n",
       "    <path class=\"displacy-arc\" id=\"arrow-06d5bc80eddc46db98834c9156464b3d-0-6\" stroke-width=\"2px\" d=\"M770,264.5 C770,89.5 1270.0,89.5 1270.0,264.5\" fill=\"none\" stroke=\"currentColor\"/>\n",
       "    <text dy=\"1.25em\" style=\"font-size: 0.8em; letter-spacing: 1px\">\n",
       "        <textPath xlink:href=\"#arrow-06d5bc80eddc46db98834c9156464b3d-0-6\" class=\"displacy-label\" startOffset=\"50%\" side=\"left\" fill=\"currentColor\" text-anchor=\"middle\">conj</textPath>\n",
       "    </text>\n",
       "    <path class=\"displacy-arrowhead\" d=\"M1270.0,266.5 L1278.0,254.5 1262.0,254.5\" fill=\"currentColor\"/>\n",
       "</g>\n",
       "\n",
       "<g class=\"displacy-arrow\">\n",
       "    <path class=\"displacy-arc\" id=\"arrow-06d5bc80eddc46db98834c9156464b3d-0-7\" stroke-width=\"2px\" d=\"M1470,264.5 C1470,177.0 1615.0,177.0 1615.0,264.5\" fill=\"none\" stroke=\"currentColor\"/>\n",
       "    <text dy=\"1.25em\" style=\"font-size: 0.8em; letter-spacing: 1px\">\n",
       "        <textPath xlink:href=\"#arrow-06d5bc80eddc46db98834c9156464b3d-0-7\" class=\"displacy-label\" startOffset=\"50%\" side=\"left\" fill=\"currentColor\" text-anchor=\"middle\">advmod</textPath>\n",
       "    </text>\n",
       "    <path class=\"displacy-arrowhead\" d=\"M1470,266.5 L1462,254.5 1478,254.5\" fill=\"currentColor\"/>\n",
       "</g>\n",
       "\n",
       "<g class=\"displacy-arrow\">\n",
       "    <path class=\"displacy-arc\" id=\"arrow-06d5bc80eddc46db98834c9156464b3d-0-8\" stroke-width=\"2px\" d=\"M1295,264.5 C1295,89.5 1620.0,89.5 1620.0,264.5\" fill=\"none\" stroke=\"currentColor\"/>\n",
       "    <text dy=\"1.25em\" style=\"font-size: 0.8em; letter-spacing: 1px\">\n",
       "        <textPath xlink:href=\"#arrow-06d5bc80eddc46db98834c9156464b3d-0-8\" class=\"displacy-label\" startOffset=\"50%\" side=\"left\" fill=\"currentColor\" text-anchor=\"middle\">prep</textPath>\n",
       "    </text>\n",
       "    <path class=\"displacy-arrowhead\" d=\"M1620.0,266.5 L1628.0,254.5 1612.0,254.5\" fill=\"currentColor\"/>\n",
       "</g>\n",
       "\n",
       "<g class=\"displacy-arrow\">\n",
       "    <path class=\"displacy-arc\" id=\"arrow-06d5bc80eddc46db98834c9156464b3d-0-9\" stroke-width=\"2px\" d=\"M1645,264.5 C1645,177.0 1790.0,177.0 1790.0,264.5\" fill=\"none\" stroke=\"currentColor\"/>\n",
       "    <text dy=\"1.25em\" style=\"font-size: 0.8em; letter-spacing: 1px\">\n",
       "        <textPath xlink:href=\"#arrow-06d5bc80eddc46db98834c9156464b3d-0-9\" class=\"displacy-label\" startOffset=\"50%\" side=\"left\" fill=\"currentColor\" text-anchor=\"middle\">pobj</textPath>\n",
       "    </text>\n",
       "    <path class=\"displacy-arrowhead\" d=\"M1790.0,266.5 L1798.0,254.5 1782.0,254.5\" fill=\"currentColor\"/>\n",
       "</g>\n",
       "\n",
       "<g class=\"displacy-arrow\">\n",
       "    <path class=\"displacy-arc\" id=\"arrow-06d5bc80eddc46db98834c9156464b3d-0-10\" stroke-width=\"2px\" d=\"M1995,264.5 C1995,177.0 2140.0,177.0 2140.0,264.5\" fill=\"none\" stroke=\"currentColor\"/>\n",
       "    <text dy=\"1.25em\" style=\"font-size: 0.8em; letter-spacing: 1px\">\n",
       "        <textPath xlink:href=\"#arrow-06d5bc80eddc46db98834c9156464b3d-0-10\" class=\"displacy-label\" startOffset=\"50%\" side=\"left\" fill=\"currentColor\" text-anchor=\"middle\">det</textPath>\n",
       "    </text>\n",
       "    <path class=\"displacy-arrowhead\" d=\"M1995,266.5 L1987,254.5 2003,254.5\" fill=\"currentColor\"/>\n",
       "</g>\n",
       "\n",
       "<g class=\"displacy-arrow\">\n",
       "    <path class=\"displacy-arc\" id=\"arrow-06d5bc80eddc46db98834c9156464b3d-0-11\" stroke-width=\"2px\" d=\"M1820,264.5 C1820,89.5 2145.0,89.5 2145.0,264.5\" fill=\"none\" stroke=\"currentColor\"/>\n",
       "    <text dy=\"1.25em\" style=\"font-size: 0.8em; letter-spacing: 1px\">\n",
       "        <textPath xlink:href=\"#arrow-06d5bc80eddc46db98834c9156464b3d-0-11\" class=\"displacy-label\" startOffset=\"50%\" side=\"left\" fill=\"currentColor\" text-anchor=\"middle\">appos</textPath>\n",
       "    </text>\n",
       "    <path class=\"displacy-arrowhead\" d=\"M2145.0,266.5 L2153.0,254.5 2137.0,254.5\" fill=\"currentColor\"/>\n",
       "</g>\n",
       "\n",
       "<g class=\"displacy-arrow\">\n",
       "    <path class=\"displacy-arc\" id=\"arrow-06d5bc80eddc46db98834c9156464b3d-0-12\" stroke-width=\"2px\" d=\"M2170,264.5 C2170,177.0 2315.0,177.0 2315.0,264.5\" fill=\"none\" stroke=\"currentColor\"/>\n",
       "    <text dy=\"1.25em\" style=\"font-size: 0.8em; letter-spacing: 1px\">\n",
       "        <textPath xlink:href=\"#arrow-06d5bc80eddc46db98834c9156464b3d-0-12\" class=\"displacy-label\" startOffset=\"50%\" side=\"left\" fill=\"currentColor\" text-anchor=\"middle\">prep</textPath>\n",
       "    </text>\n",
       "    <path class=\"displacy-arrowhead\" d=\"M2315.0,266.5 L2323.0,254.5 2307.0,254.5\" fill=\"currentColor\"/>\n",
       "</g>\n",
       "\n",
       "<g class=\"displacy-arrow\">\n",
       "    <path class=\"displacy-arc\" id=\"arrow-06d5bc80eddc46db98834c9156464b3d-0-13\" stroke-width=\"2px\" d=\"M2345,264.5 C2345,177.0 2490.0,177.0 2490.0,264.5\" fill=\"none\" stroke=\"currentColor\"/>\n",
       "    <text dy=\"1.25em\" style=\"font-size: 0.8em; letter-spacing: 1px\">\n",
       "        <textPath xlink:href=\"#arrow-06d5bc80eddc46db98834c9156464b3d-0-13\" class=\"displacy-label\" startOffset=\"50%\" side=\"left\" fill=\"currentColor\" text-anchor=\"middle\">pobj</textPath>\n",
       "    </text>\n",
       "    <path class=\"displacy-arrowhead\" d=\"M2490.0,266.5 L2498.0,254.5 2482.0,254.5\" fill=\"currentColor\"/>\n",
       "</g>\n",
       "</svg></span>"
      ],
      "text/plain": [
       "<IPython.core.display.HTML object>"
      ]
     },
     "metadata": {},
     "output_type": "display_data"
    }
   ],
   "source": [
    "spacy.displacy.render(\n",
    "    sample_doc,\n",
    "    style = \"dep\",\n",
    "    jupyter = True,\n",
    ")"
   ]
  },
  {
   "cell_type": "markdown",
   "id": "5e9de8e0-5a79-45f9-8c9d-6c68c560040e",
   "metadata": {},
   "source": [
    "## build a lemma graph from the document"
   ]
  },
  {
   "cell_type": "code",
   "execution_count": 6,
   "id": "7c440db4-fc01-44ff-8d8d-03517cc1f1e4",
   "metadata": {
    "scrolled": true
   },
   "outputs": [
    {
     "name": "stderr",
     "output_type": "stream",
     "text": [
      "ic| sent: Werner Herzog is a remarkable filmmaker and an intellectual originally from Germany, the son of Dietrich Herzog.\n"
     ]
    }
   ],
   "source": [
    "tg.build_graph_embeddings(\n",
    "    sample_doc,\n",
    "    debug = True,\n",
    ")"
   ]
  },
  {
   "cell_type": "code",
   "execution_count": 7,
   "id": "d6def8b0-fec4-4e91-98a2-3b145bed88cf",
   "metadata": {
    "scrolled": true
   },
   "outputs": [
    {
     "name": "stderr",
     "output_type": "stream",
     "text": [
      "ic| src.node_id: 0, dst.node_id: 10, path: [0, 1, 4, 7, 9, 10]\n",
      "ic| rel: 'country of citizenship', prob: 0.9073653221130371\n",
      "ic| src.node_id: 0\n",
      "    dst.node_id: 15\n",
      "    path: [0, 1, 4, 7, 9, 10, 13, 14, 15]\n",
      "ic| rel: 'father', prob: 0.5981622934341431\n",
      "ic| src.node_id: 10, dst.node_id: 0, path: [10, 9, 7, 4, 1, 0]\n",
      "ic| rel: 'father', prob: 0.46716827154159546\n",
      "ic| src.node_id: 10, dst.node_id: 15, path: [10, 13, 14, 15]\n",
      "ic| rel: 'father', prob: 0.6251675486564636\n",
      "ic| src.node_id: 15\n",
      "    dst.node_id: 0\n",
      "    path: [15, 14, 13, 10, 9, 7, 4, 1, 0]\n",
      "ic| rel: 'father', prob: 0.41431477665901184\n",
      "ic| src.node_id: 15, dst.node_id: 10, path: [15, 14, 13, 10]\n",
      "ic| rel: 'country of citizenship', prob: 0.8607672452926636\n"
     ]
    }
   ],
   "source": [
    "tg.infer_relations(\n",
    "    SRC_TEXT.strip(),\n",
    "    debug = True,\n",
    ")"
   ]
  },
  {
   "cell_type": "code",
   "execution_count": 8,
   "id": "70134eb6-c1b4-474e-81cd-12b6b7f38afd",
   "metadata": {
    "scrolled": true
   },
   "outputs": [
    {
     "name": "stderr",
     "output_type": "stream",
     "text": [
      "ic| tg.edges: {'0.1.nsubj.0': Edge(src_node=0, dst_node=1, kind=<RelEnum.DEP: 0>, rel='nsubj', prob=1.0, count=1),\n",
      "               '0.10.country_of_citizenship.1': Edge(src_node=0, dst_node=10, kind=<RelEnum.INF: 1>, rel='country of citizenship', prob=0.9073653221130371, count=1),\n",
      "               '0.15.father.1': Edge(src_node=0, dst_node=15, kind=<RelEnum.INF: 1>, rel='father', prob=0.5981622934341431, count=1),\n",
      "               '10.0.father.1': Edge(src_node=10, dst_node=0, kind=<RelEnum.INF: 1>, rel='father', prob=0.46716827154159546, count=1),\n",
      "               '10.15.father.1': Edge(src_node=10, dst_node=15, kind=<RelEnum.INF: 1>, rel='father', prob=0.6251675486564636, count=1),\n",
      "               '10.9.pobj.0': Edge(src_node=10, dst_node=9, kind=<RelEnum.DEP: 0>, rel='pobj', prob=1.0, count=1),\n",
      "               '11.10.punct.0': Edge(src_node=11, dst_node=10, kind=<RelEnum.DEP: 0>, rel='punct', prob=1.0, count=1),\n",
      "               '12.13.det.0': Edge(src_node=12, dst_node=13, kind=<RelEnum.DEP: 0>, rel='det', prob=1.0, count=1),\n",
      "               '13.10.appos.0': Edge(src_node=13, dst_node=10, kind=<RelEnum.DEP: 0>, rel='appos', prob=1.0, count=1),\n",
      "               '14.13.prep.0': Edge(src_node=14, dst_node=13, kind=<RelEnum.DEP: 0>, rel='prep', prob=1.0, count=1),\n",
      "               '15.0.father.1': Edge(src_node=15, dst_node=0, kind=<RelEnum.INF: 1>, rel='father', prob=0.41431477665901184, count=1),\n",
      "               '15.10.country_of_citizenship.1': Edge(src_node=15, dst_node=10, kind=<RelEnum.INF: 1>, rel='country of citizenship', prob=0.8607672452926636, count=1),\n",
      "               '15.14.pobj.0': Edge(src_node=15, dst_node=14, kind=<RelEnum.DEP: 0>, rel='pobj', prob=1.0, count=1),\n",
      "               '16.1.punct.0': Edge(src_node=16, dst_node=1, kind=<RelEnum.DEP: 0>, rel='punct', prob=1.0, count=1),\n",
      "               '2.4.det.0': Edge(src_node=2, dst_node=4, kind=<RelEnum.DEP: 0>, rel='det', prob=1.0, count=1),\n",
      "               '3.4.amod.0': Edge(src_node=3, dst_node=4, kind=<RelEnum.DEP: 0>, rel='amod', prob=1.0, count=1),\n",
      "               '4.1.attr.0': Edge(src_node=4, dst_node=1, kind=<RelEnum.DEP: 0>, rel='attr', prob=1.0, count=1),\n",
      "               '5.4.cc.0': Edge(src_node=5, dst_node=4, kind=<RelEnum.DEP: 0>, rel='cc', prob=1.0, count=1),\n",
      "               '6.7.det.0': Edge(src_node=6, dst_node=7, kind=<RelEnum.DEP: 0>, rel='det', prob=1.0, count=1),\n",
      "               '7.4.conj.0': Edge(src_node=7, dst_node=4, kind=<RelEnum.DEP: 0>, rel='conj', prob=1.0, count=1),\n",
      "               '8.9.advmod.0': Edge(src_node=8, dst_node=9, kind=<RelEnum.DEP: 0>, rel='advmod', prob=1.0, count=1),\n",
      "               '9.7.prep.0': Edge(src_node=9, dst_node=7, kind=<RelEnum.DEP: 0>, rel='prep', prob=1.0, count=1)}\n"
     ]
    }
   ],
   "source": [
    "tg.calc_phrase_ranks()\n",
    "\n",
    "ic(tg.edges);"
   ]
  },
  {
   "cell_type": "markdown",
   "id": "1ba5b734-665a-4bc0-9eca-11b2ba074fed",
   "metadata": {},
   "source": [
    "show the resulting entities extracted from the document"
   ]
  },
  {
   "cell_type": "code",
   "execution_count": 9,
   "id": "a77a0ede-2225-47c1-8ea8-4ae2220aa086",
   "metadata": {},
   "outputs": [
    {
     "name": "stderr",
     "output_type": "stream",
     "text": [
      "ic| node: Node(node_id=10, span=Germany, text='Germany', pos='PROPN', kind='GPE', count=1, weight=0.21223930373896718)\n",
      "ic| node: Node(node_id=0, span=Werner Herzog, text='Werner Herzog', pos='PROPN', kind='PERSON', count=1, weight=0.19256602205245993)\n",
      "ic| node: Node(node_id=15, span=Dietrich Herzog, text='Dietrich Herzog', pos='PROPN', kind='PERSON', count=1, weight=0.19256602205245993)\n",
      "ic| node: Node(node_id=4, span=filmmaker, text='filmmaker', pos='NOUN', kind=None, count=1, weight=0.14093430663797185)\n",
      "ic| node: Node(node_id=7, span=intellectual, text='intellectual', pos='NOUN', kind=None, count=1, weight=0.13407290293982194)\n",
      "ic| node: Node(node_id=13, span=son, text='son', pos='NOUN', kind=None, count=1, weight=0.12762144257831917)\n"
     ]
    }
   ],
   "source": [
    "for node in tg.get_phrases():\n",
    "    ic(node)"
   ]
  },
  {
   "cell_type": "markdown",
   "id": "c47bcfd2-2bd6-49a5-8f1a-102d90edde39",
   "metadata": {},
   "source": [
    "## outro"
   ]
  },
  {
   "cell_type": "markdown",
   "id": "68bea4f9-aec2-4b28-8f08-a4034851d066",
   "metadata": {},
   "source": [
    "_\\[ more parts are getting added to this demo \\]_"
   ]
  }
 ],
 "metadata": {
  "kernelspec": {
   "display_name": "Python 3 (ipykernel)",
   "language": "python",
   "name": "python3"
  },
  "language_info": {
   "codemirror_mode": {
    "name": "ipython",
    "version": 3
   },
   "file_extension": ".py",
   "mimetype": "text/x-python",
   "name": "python",
   "nbconvert_exporter": "python",
   "pygments_lexer": "ipython3",
   "version": "3.9.0"
  }
 },
 "nbformat": 4,
 "nbformat_minor": 5
}
