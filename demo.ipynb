{
 "cells": [
  {
   "cell_type": "markdown",
   "id": "c8ff5d81-110c-42ae-8aa7-ed4fffea40c6",
   "metadata": {},
   "source": [
    "# demo: TextGraph + LLMs to construct a 'lemma graph'"
   ]
  },
  {
   "cell_type": "markdown",
   "id": "1e847d0a-bc6c-470a-9fef-620ebbdbbbc3",
   "metadata": {},
   "source": [
    "_TextGraph_ library is intended for iterating through a sequence of paragraphs."
   ]
  },
  {
   "cell_type": "markdown",
   "id": "330e6e0e-c0fb-4220-bc58-adddca9c5ba4",
   "metadata": {},
   "source": [
    "## intro"
   ]
  },
  {
   "cell_type": "code",
   "execution_count": 1,
   "id": "38ccf764-0547-4f5b-b0d4-fc5f371b14ac",
   "metadata": {
    "execution": {
     "iopub.execute_input": "2023-12-12T20:22:14.535070Z",
     "iopub.status.busy": "2023-12-12T20:22:14.533991Z",
     "iopub.status.idle": "2023-12-12T20:22:14.560152Z",
     "shell.execute_reply": "2023-12-12T20:22:14.557867Z",
     "shell.execute_reply.started": "2023-12-12T20:22:14.535004Z"
    }
   },
   "outputs": [
    {
     "data": {
      "text/html": [
       "<details>\n",
       "  <summary><strong>TL;DR</strong></summary>\n",
       "  <p>\n",
       "    Construct a <em>lemma graph</em>, then perform <em>entity linking</em> based on:\n",
       "    <code>spaCy</code>, <code>transformers</code>, <code>SpanMarkerNER</code>,\n",
       "    <code>spaCy-DBpedia-Spotlight</code>, <code>REBEL</code>, <code>OpenNRE</code>,\n",
       "    <code>spaCy fishing</code>, <code>qwikidata</code>, <code>pulp</code>\n",
       "  </p>\n",
       "  <p>\n",
       "    In other words, this hybrid approach integrates\n",
       "    <em>NLP parsing</em>, <em>LLMs</em>, <em>graph algorithms</em>, <em>semantic inference</em>, <em>operations research</em>,\n",
       "    and also provides UX affordances for including <em>human-in-the-loop</em> practices.\n",
       "    The following demo illustrates a small problem, and addresses a much broader class of AI problems in industry.\n",
       "  </p>\n",
       "  <p>\n",
       "    This is a prelude step before leveraging\n",
       "    <em>topological transforms</em>, <em>large language models</em>, <em>graph representation learning</em>,\n",
       "    plus <em>human-in-the-loop</em> domain expertise to infer\n",
       "    the nodes, edges, properties, and probabilities needed for the\n",
       "    semi-automated construction of a <em>knowledge graph</em> from\n",
       "    raw unstructured text sources.\n",
       "  </p>\n",
       "  <p>\n",
       "    In addition to providing a library for production use cases,\n",
       "    <code>TextGraph</code> creates a \"playground\" or \"gym\"\n",
       "    in which to prototype and evaluate abstractions based on\n",
       "    <a href=\"https://blog.derwen.ai/graph-levels-of-detail-ea4226abba55\" target=\"_blank\">\"Graph Levels Of Detail\"</a>.\n",
       "  </p>\n",
       "  <ol>\n",
       "    <li>use <code>spaCy</code> to parse a document, with <code>SpanMarkerNER</code> LLM assist</li>\n",
       "    <li>add noun chunks in parallel to entities, as \"candidate\" phrases for subsequent HITL</li>\n",
       "    <li>perform <em>entity linking</em>: <code>spaCy-DBpedia-Spotlight</code>, <code>spaCy fishing</code></li>\n",
       "    <li>infer relations, plus graph inference: <code>REBEL</code>, <code>OpenNRE</code>, <code>qwikidata</code></li>\n",
       "    <li>build a <em>lemma graph</em> in <code>NetworkX</code> from the parse results</li>\n",
       "    <li>run a modified <code>textrank</code> algorithm plus graph analytics</li>\n",
       "    <li>approximate a <em>pareto archive</em> (hypervolume) to re-rank extracted entities with <code>pulp</code></li>\n",
       "    <li>visualize the <em>lemma graph</em> interactively in <code>PyVis</code></li>\n",
       "    <li>cluster communities within the <em>lemma graph</em>\n",
       "    <li>apply topological transforms to enhance embeddings (in progress)</li>\n",
       "    <li>run graph representation learning on the <em>graph of relations</em> (in progress)</li>\n",
       "  </ol>\n",
       "  <p>\n",
       "    ...\n",
       "  </p>\n",
       "  <ol start=\"13\">\n",
       "    <li>PROFIT!</li>\n",
       "  </ol>\n",
       "</details>\n",
       "\n",
       "\n",
       "<details>\n",
       "  <summary><strong>More details...</strong></summary>\n",
       "  <p>\n",
       "    Implementation of an LLM-augmented <code>textgraph</code> algorithm for\n",
       "    constructing a <em>lemma graph</em> from raw, unstructured text source.\n",
       "  </p>\n",
       "  <p>\n",
       "    The <code>textgraph</code> library is based on work developed by\n",
       "    <a href=\"https://derwen.ai/graph\" target=\"_blank\">Derwen</a>\n",
       "    in 2023 Q2 for customer apps and used in our <code>Cysoni</code>\n",
       "    product.\n",
       "    This demo integrates code from:\n",
       "  </p>\n",
       "  <ul>\n",
       "    <li>\n",
       "      <a href=\"https://github.com/tomaarsen/SpanMarkerNER/\" target=\"_blank\"><code>SpanMarkerNER</code></a>\n",
       "    </li>\n",
       "    <li>\n",
       "      <a href=\"https://github.com/MartinoMensio/spacy-dbpedia-spotlight\" target=\"_blank\"><code>spaCy-DBpedia-Spotlight</code></a>\n",
       "    </li>\n",
       "    <li>\n",
       "      <a href=\"https://github.com/Babelscape/rebel\" target=\"_blank\"><code>REBEL</code></a>\n",
       "    </li>\n",
       "    <li>\n",
       "      <a href=\"https://github.com/thunlp/OpenNRE/\" target=\"_blank\"><code>OpenNRE</code></a>\n",
       "    </li>\n",
       "    <li>\n",
       "      <a href=\"https://github.com/Lucaterre/spacyfishing\" target=\"_blank\"><code>spaCy fishing</code></a>\n",
       "    </li>\n",
       "    <li>\n",
       "      <a href=\"https://github.com/kensho-technologies/qwikidata\" target=\"_blank\"><code>qwikidata</code></a>\n",
       "    </li>\n",
       "    <li>\n",
       "      <a href=\"https://github.com/coin-or/pulp\" target=\"_blank\"><code>pulp</code></a>\n",
       "    </li>\n",
       "    <li>\n",
       "      <a href=\"https://spacy.io/\" target=\"_blank\"><code>spaCy</code></a>\n",
       "    </li>\n",
       "    <li>\n",
       "      <a href=\"https://huggingface.co/docs/transformers/index\" target=\"_blank\"><code>HF transformers</code></a>\n",
       "    </li>\n",
       "    <li>\n",
       "      <a href=\"https://github.com/DerwenAI/pytextrank/\" target=\"_blank\"><code>PyTextRank</code></a>\n",
       "    </li>\n",
       "  </ul>\n",
       "\n",
       "  <p>\n",
       "    For more details about this approach, see these talks:\n",
       "  </p>\n",
       "  <ul>\n",
       "    <li>\n",
       "      <a href=\"https://derwen.ai/s/mqqm\" target=\"_blank\">\"Language, Graphs, and AI in Industry\"</a>\n",
       "      <br/>\n",
       "      <strong>Paco Nathan</strong>, K1st World (2023-10-11)\n",
       "    </li>\n",
       "    <li>\n",
       "      <a href=\"https://derwen.ai/s/rhvg\" target=\"_blank\">\"Language Tools for Creators\"</a>\n",
       "      <br/>\n",
       "      <strong>Paco Nathan</strong>, FOSSY (2023-07-13)\n",
       "    </li>\n",
       "  </ul>\n",
       "\n",
       "  <p>\n",
       "    Other good tutorials (during 2023) which include related material:\n",
       "  </p>\n",
       "  <ul>\n",
       "    <li>\n",
       "      <a href=\"https://youtu.be/C9p7suS-NGk?si=7Ohq3BV654ia2Im4\" target=\"_blank\">\"Natural Intelligence is All You Need™\"</a>\n",
       "      <br/>\n",
       "      <strong>Vincent Warmerdam</strong>, PyData Amsterdam (2023-09-15)\n",
       "    </li>\n",
       "    <li>\n",
       "      <a href=\"https://towardsdatascience.com/how-to-convert-any-text-into-a-graph-of-concepts-110844f22a1a\" target=\"_blank\">\"How to Convert Any Text Into a Graph of Concepts\"</a>\n",
       "      <br/>\n",
       "      <strong>Rahul Nayak</strong>, <em>Towards Data Science</em> (2023-11-09)\n",
       "    </li>\n",
       "    <li>\n",
       "      <a href=\"https://medium.com/@nizami_muhammad/extracting-relation-from-sentence-using-llm-597d0c0310a8\" target=\"_blank\">\"Extracting Relation from Sentence using LLM\"</a>\n",
       "      <br/>\n",
       "      <strong>Muhammad Nizami</strong> <em>Medium</em> (2023-11-15)\n",
       "    <li>\n",
       "  </ul>\n",
       "</details>\n",
       "\n",
       "\n",
       "<details>\n",
       "  <summary><strong>Bibliography...</strong></summary>\n",
       "\n",
       "  <p>\n",
       "    \"Automatic generation of hypertext knowledge bases\"\n",
       "    <br/>\n",
       "    <strong>Udo Hahn</strong>, <strong>Ulrich Reimer</strong>\n",
       "    <br/>\n",
       "    <em>ACM SIGOIS</em> 9:2 (1988-04-01)\n",
       "    <br/>\n",
       "    <a href=\"https://doi.org/10.1145/966861.45429\" target=\"_blank\">https://doi.org/10.1145/966861.45429</a>\n",
       "  </p>\n",
       "  <blockquote>\n",
       "    The condensation process transforms the text representation structures resulting from the text parse into a more abstract thematic description of what the text is about, filtering out irrelevant knowledge structures and preserving only the most salient concepts.\n",
       "  </blockquote>\n",
       "\n",
       "  <p>\n",
       "    <em>Graph Representation Learning</em>\n",
       "    <br/>\n",
       "    <strong>William Hamilton</strong>\n",
       "    <br/>\n",
       "    Morgan and Claypool (pre-print 2020)\n",
       "    <br/>\n",
       "    <a href=\"https://www.cs.mcgill.ca/~wlh/grl_book/\" target=\"_blank\">https://www.cs.mcgill.ca/~wlh/grl_book/</a>\n",
       "  </p>\n",
       "  <blockquote>\n",
       "    A brief but comprehensive introduction to graph representation learning, including methods for embedding graph data, graph neural networks, and deep generative models of graphs.\n",
       "  </blockquote>\n",
       "\n",
       "  <p>\n",
       "    \"RED<sup>FM</sup>: a Filtered and Multilingual Relation Extraction Dataset\"\n",
       "    <br/>\n",
       "    <strong>Pere-Lluís Huguet Cabot</strong>, <strong>Simone Tedeschi</strong>, <strong>Axel-Cyrille Ngonga Ngomo</strong>, <strong>Roberto Navigli</strong>\n",
       "    <br/>\n",
       "    <em>ACL</em> (2023-06-19)\n",
       "    <br/>\n",
       "    <a href=\"https://arxiv.org/abs/2306.09802\" target=\"_blank\">https://arxiv.org/abs/2306.09802</a>\n",
       "  </p>\n",
       "  <blockquote>\n",
       "    Relation Extraction (RE) is a task that identifies relationships between entities in a text, enabling the acquisition of relational facts and bridging the gap between natural language and structured knowledge. However, current RE models often rely on small datasets with low coverage of relation types, particularly when working with languages other than English. In this paper, we address the above issue and provide two new resources that enable the training and evaluation of multilingual RE systems.\n",
       "  </blockquote>\n",
       "\n",
       "  <p>\n",
       "    \"InGram: Inductive Knowledge Graph Embedding via Relation Graphs\"\n",
       "    <br/>\n",
       "    <strong>Jaejun Lee</strong>, <strong>Chanyoung Chung</strong>, <strong>Joyce Jiyoung Whang</strong>\n",
       "    <br/>\n",
       "    <em>ICML</em> (2023–08–17)\n",
       "    <br/>\n",
       "    <a href=\"https://arxiv.org/abs/2305.19987\" target=\"_blank\">https://arxiv.org/abs/2305.19987</a>\n",
       "  </p>\n",
       "  <blockquote>\n",
       "    In this paper, we propose an INductive knowledge GRAph eMbedding method, InGram, that can generate embeddings of new relations as well as new entities at inference time.\n",
       "  </blockquote>\n",
       "\n",
       "  <p>\n",
       "    \"TextRank: Bringing Order into Text\"\n",
       "    <br/>\n",
       "    <strong>Rada Mihalcea</strong>, <strong>Paul Tarau</strong>\n",
       "    <br/>\n",
       "    <em>EMNLP</em> (2004-07-25)\n",
       "    <br/>\n",
       "    <a href=\"https://aclanthology.org/W04-3252\" target=\"_blank\">https://aclanthology.org/W04-3252</a>\n",
       "  </p>\n",
       "  <blockquote>\n",
       "    In this paper, the authors introduce TextRank, a graph-based ranking model for text processing, and show how this model can be successfully used in natural language applications.\n",
       "  </blockquote>\n",
       "\n",
       "</details>\n",
       "\n",
       "<hr/>\n"
      ],
      "text/plain": [
       "<IPython.core.display.HTML object>"
      ]
     },
     "metadata": {},
     "output_type": "display_data"
    }
   ],
   "source": [
    "import pathlib\n",
    "from IPython.display import display, HTML, Image\n",
    "display(HTML(pathlib.Path(\"docs/demo/blurb.1.html\").read_text(encoding = \"utf-8\")))"
   ]
  },
  {
   "cell_type": "markdown",
   "id": "1a04e3dc-57d8-43a4-a342-cc38b86fc6a6",
   "metadata": {},
   "source": [
    "## parse a document"
   ]
  },
  {
   "cell_type": "code",
   "execution_count": 2,
   "id": "22489527-2ad5-4e3c-be23-f511e6bcf69f",
   "metadata": {
    "execution": {
     "iopub.execute_input": "2023-12-12T20:22:14.568935Z",
     "iopub.status.busy": "2023-12-12T20:22:14.567917Z",
     "iopub.status.idle": "2023-12-12T20:22:23.960900Z",
     "shell.execute_reply": "2023-12-12T20:22:23.959361Z",
     "shell.execute_reply.started": "2023-12-12T20:22:14.568864Z"
    },
    "scrolled": true
   },
   "outputs": [],
   "source": [
    "from icecream import ic\n",
    "from pyinstrument import Profiler\n",
    "import matplotlib.pyplot as plt\n",
    "import pandas as pd\n",
    "import pyvis\n",
    "import spacy\n",
    "\n",
    "import textgraph"
   ]
  },
  {
   "cell_type": "markdown",
   "id": "7c567afd-2f44-4391-899a-da6aba3d222e",
   "metadata": {},
   "source": [
    "provide the source text"
   ]
  },
  {
   "cell_type": "code",
   "execution_count": 3,
   "id": "630430c5-21dc-4897-9a4b-3b01baf3de17",
   "metadata": {
    "execution": {
     "iopub.execute_input": "2023-12-12T20:22:23.963911Z",
     "iopub.status.busy": "2023-12-12T20:22:23.963066Z",
     "iopub.status.idle": "2023-12-12T20:22:23.969140Z",
     "shell.execute_reply": "2023-12-12T20:22:23.967984Z",
     "shell.execute_reply.started": "2023-12-12T20:22:23.963873Z"
    }
   },
   "outputs": [],
   "source": [
    "SRC_TEXT: str = \"\"\"                                                                                                                      \n",
    "Werner Herzog is a remarkable filmmaker and an intellectual originally from Germany, the son of Dietrich Herzog.\n",
    "Although in fact Werner Herzog never really liked his father, as we all know.\n",
    "After the war, Werner fled to America to become famous.\n",
    "\"\"\""
   ]
  },
  {
   "cell_type": "markdown",
   "id": "01152885-f301-49b1-ab61-f5b19d81c036",
   "metadata": {},
   "source": [
    "set up the statistical stack profiling"
   ]
  },
  {
   "cell_type": "code",
   "execution_count": 4,
   "id": "2a289117-301d-4027-ae1b-200201fb5f93",
   "metadata": {
    "execution": {
     "iopub.execute_input": "2023-12-12T20:22:23.971211Z",
     "iopub.status.busy": "2023-12-12T20:22:23.970522Z",
     "iopub.status.idle": "2023-12-12T20:22:23.977689Z",
     "shell.execute_reply": "2023-12-12T20:22:23.975929Z",
     "shell.execute_reply.started": "2023-12-12T20:22:23.971129Z"
    }
   },
   "outputs": [],
   "source": [
    "profiler: Profiler = Profiler()\n",
    "profiler.start()"
   ]
  },
  {
   "cell_type": "markdown",
   "id": "bf9d4f99-b82b-4d11-a9a4-31d0337f4aa8",
   "metadata": {},
   "source": [
    "set up the `TextRank` pipeline"
   ]
  },
  {
   "cell_type": "code",
   "execution_count": 6,
   "id": "da6fcb0f-b2ac-4f74-af39-2c129c750cab",
   "metadata": {
    "execution": {
     "iopub.execute_input": "2023-12-12T20:22:48.944960Z",
     "iopub.status.busy": "2023-12-12T20:22:48.944219Z",
     "iopub.status.idle": "2023-12-12T20:22:52.686541Z",
     "shell.execute_reply": "2023-12-12T20:22:52.685202Z",
     "shell.execute_reply.started": "2023-12-12T20:22:48.944909Z"
    }
   },
   "outputs": [
    {
     "name": "stderr",
     "output_type": "stream",
     "text": [
      "2023-12-12 12:22:49,579 - root - INFO - Initializing word embedding with word2vec.\n"
     ]
    }
   ],
   "source": [
    "tg: textgraph.TextGraph = textgraph.TextGraph(\n",
    "    factory = textgraph.PipelineFactory(\n",
    "        spacy_model = textgraph.SPACY_MODEL,\n",
    "        ner_model = None,\n",
    "        nre_model = textgraph.NRE_MODEL,\n",
    "        dbpedia_spotlight_api = textgraph.DBPEDIA_SPOTLIGHT_API,\n",
    "    ),\n",
    ")\n",
    "\n",
    "pipe: textgraph.Pipeline = tg.create_pipeline(\n",
    "    SRC_TEXT.strip(),\n",
    ")"
   ]
  },
  {
   "cell_type": "markdown",
   "id": "8b71b841-0cf5-4cc6-af4c-c85344b8f6c5",
   "metadata": {},
   "source": [
    "## visualize the parse results"
   ]
  },
  {
   "cell_type": "code",
   "execution_count": 7,
   "id": "00d5cc5d-d3e7-4363-99ac-fd3f739d176e",
   "metadata": {
    "execution": {
     "iopub.execute_input": "2023-12-12T20:22:57.066237Z",
     "iopub.status.busy": "2023-12-12T20:22:57.064526Z",
     "iopub.status.idle": "2023-12-12T20:22:57.078937Z",
     "shell.execute_reply": "2023-12-12T20:22:57.077636Z",
     "shell.execute_reply.started": "2023-12-12T20:22:57.066128Z"
    }
   },
   "outputs": [
    {
     "data": {
      "text/html": [
       "<span class=\"tex2jax_ignore\"><div class=\"entities\" style=\"line-height: 2.5; direction: ltr\">\n",
       "<mark class=\"entity\" style=\"background: #aa9cfc; padding: 0.45em 0.6em; margin: 0 0.25em; line-height: 1; border-radius: 0.35em;\">\n",
       "    Werner Herzog\n",
       "    <span style=\"font-size: 0.8em; font-weight: bold; line-height: 1; border-radius: 0.35em; vertical-align: middle; margin-left: 0.5rem\">PERSON</span>\n",
       "</mark>\n",
       " is a remarkable filmmaker and an intellectual originally from \n",
       "<mark class=\"entity\" style=\"background: #feca74; padding: 0.45em 0.6em; margin: 0 0.25em; line-height: 1; border-radius: 0.35em;\">\n",
       "    Germany\n",
       "    <span style=\"font-size: 0.8em; font-weight: bold; line-height: 1; border-radius: 0.35em; vertical-align: middle; margin-left: 0.5rem\">GPE</span>\n",
       "</mark>\n",
       ", the son of \n",
       "<mark class=\"entity\" style=\"background: #aa9cfc; padding: 0.45em 0.6em; margin: 0 0.25em; line-height: 1; border-radius: 0.35em;\">\n",
       "    Dietrich Herzog\n",
       "    <span style=\"font-size: 0.8em; font-weight: bold; line-height: 1; border-radius: 0.35em; vertical-align: middle; margin-left: 0.5rem\">PERSON</span>\n",
       "</mark>\n",
       ".<br>Although in fact \n",
       "<mark class=\"entity\" style=\"background: #aa9cfc; padding: 0.45em 0.6em; margin: 0 0.25em; line-height: 1; border-radius: 0.35em;\">\n",
       "    Werner Herzog\n",
       "    <span style=\"font-size: 0.8em; font-weight: bold; line-height: 1; border-radius: 0.35em; vertical-align: middle; margin-left: 0.5rem\">PERSON</span>\n",
       "</mark>\n",
       " never really liked his father, as we all know.<br>After the war, \n",
       "<mark class=\"entity\" style=\"background: #aa9cfc; padding: 0.45em 0.6em; margin: 0 0.25em; line-height: 1; border-radius: 0.35em;\">\n",
       "    Werner\n",
       "    <span style=\"font-size: 0.8em; font-weight: bold; line-height: 1; border-radius: 0.35em; vertical-align: middle; margin-left: 0.5rem\">PERSON</span>\n",
       "</mark>\n",
       " fled to \n",
       "<mark class=\"entity\" style=\"background: #feca74; padding: 0.45em 0.6em; margin: 0 0.25em; line-height: 1; border-radius: 0.35em;\">\n",
       "    America\n",
       "    <span style=\"font-size: 0.8em; font-weight: bold; line-height: 1; border-radius: 0.35em; vertical-align: middle; margin-left: 0.5rem\">GPE</span>\n",
       "</mark>\n",
       " to become famous.</div></span>"
      ],
      "text/plain": [
       "<IPython.core.display.HTML object>"
      ]
     },
     "metadata": {},
     "output_type": "display_data"
    }
   ],
   "source": [
    "spacy.displacy.render(\n",
    "    pipe.ent_doc,\n",
    "    style = \"ent\",\n",
    "    jupyter = True,\n",
    ")"
   ]
  },
  {
   "cell_type": "code",
   "execution_count": 8,
   "id": "ffc0863d-5ed4-4857-aee1-96f26472f1ef",
   "metadata": {
    "execution": {
     "iopub.execute_input": "2023-12-12T20:22:58.327543Z",
     "iopub.status.busy": "2023-12-12T20:22:58.326770Z",
     "iopub.status.idle": "2023-12-12T20:22:58.373543Z",
     "shell.execute_reply": "2023-12-12T20:22:58.372252Z",
     "shell.execute_reply.started": "2023-12-12T20:22:58.327477Z"
    }
   },
   "outputs": [
    {
     "data": {
      "text/html": [
       "<span class=\"tex2jax_ignore\"><svg xmlns=\"http://www.w3.org/2000/svg\" xmlns:xlink=\"http://www.w3.org/1999/xlink\" xml:lang=\"en\" id=\"7d7122b2de174f2d8b31c462ed8cbc58-0\" class=\"displacy\" width=\"7050\" height=\"574.5\" direction=\"ltr\" style=\"max-width: none; height: 574.5px; color: #000000; background: #ffffff; font-family: Arial; direction: ltr\">\n",
       "<text class=\"displacy-token\" fill=\"currentColor\" text-anchor=\"middle\" y=\"484.5\">\n",
       "    <tspan class=\"displacy-word\" fill=\"currentColor\" x=\"50\">Werner Herzog</tspan>\n",
       "    <tspan class=\"displacy-tag\" dy=\"2em\" fill=\"currentColor\" x=\"50\">PROPN</tspan>\n",
       "</text>\n",
       "\n",
       "<text class=\"displacy-token\" fill=\"currentColor\" text-anchor=\"middle\" y=\"484.5\">\n",
       "    <tspan class=\"displacy-word\" fill=\"currentColor\" x=\"225\">is</tspan>\n",
       "    <tspan class=\"displacy-tag\" dy=\"2em\" fill=\"currentColor\" x=\"225\">AUX</tspan>\n",
       "</text>\n",
       "\n",
       "<text class=\"displacy-token\" fill=\"currentColor\" text-anchor=\"middle\" y=\"484.5\">\n",
       "    <tspan class=\"displacy-word\" fill=\"currentColor\" x=\"400\">a</tspan>\n",
       "    <tspan class=\"displacy-tag\" dy=\"2em\" fill=\"currentColor\" x=\"400\">DET</tspan>\n",
       "</text>\n",
       "\n",
       "<text class=\"displacy-token\" fill=\"currentColor\" text-anchor=\"middle\" y=\"484.5\">\n",
       "    <tspan class=\"displacy-word\" fill=\"currentColor\" x=\"575\">remarkable</tspan>\n",
       "    <tspan class=\"displacy-tag\" dy=\"2em\" fill=\"currentColor\" x=\"575\">ADJ</tspan>\n",
       "</text>\n",
       "\n",
       "<text class=\"displacy-token\" fill=\"currentColor\" text-anchor=\"middle\" y=\"484.5\">\n",
       "    <tspan class=\"displacy-word\" fill=\"currentColor\" x=\"750\">filmmaker</tspan>\n",
       "    <tspan class=\"displacy-tag\" dy=\"2em\" fill=\"currentColor\" x=\"750\">NOUN</tspan>\n",
       "</text>\n",
       "\n",
       "<text class=\"displacy-token\" fill=\"currentColor\" text-anchor=\"middle\" y=\"484.5\">\n",
       "    <tspan class=\"displacy-word\" fill=\"currentColor\" x=\"925\">and</tspan>\n",
       "    <tspan class=\"displacy-tag\" dy=\"2em\" fill=\"currentColor\" x=\"925\">CCONJ</tspan>\n",
       "</text>\n",
       "\n",
       "<text class=\"displacy-token\" fill=\"currentColor\" text-anchor=\"middle\" y=\"484.5\">\n",
       "    <tspan class=\"displacy-word\" fill=\"currentColor\" x=\"1100\">an</tspan>\n",
       "    <tspan class=\"displacy-tag\" dy=\"2em\" fill=\"currentColor\" x=\"1100\">DET</tspan>\n",
       "</text>\n",
       "\n",
       "<text class=\"displacy-token\" fill=\"currentColor\" text-anchor=\"middle\" y=\"484.5\">\n",
       "    <tspan class=\"displacy-word\" fill=\"currentColor\" x=\"1275\">intellectual</tspan>\n",
       "    <tspan class=\"displacy-tag\" dy=\"2em\" fill=\"currentColor\" x=\"1275\">NOUN</tspan>\n",
       "</text>\n",
       "\n",
       "<text class=\"displacy-token\" fill=\"currentColor\" text-anchor=\"middle\" y=\"484.5\">\n",
       "    <tspan class=\"displacy-word\" fill=\"currentColor\" x=\"1450\">originally</tspan>\n",
       "    <tspan class=\"displacy-tag\" dy=\"2em\" fill=\"currentColor\" x=\"1450\">ADV</tspan>\n",
       "</text>\n",
       "\n",
       "<text class=\"displacy-token\" fill=\"currentColor\" text-anchor=\"middle\" y=\"484.5\">\n",
       "    <tspan class=\"displacy-word\" fill=\"currentColor\" x=\"1625\">from</tspan>\n",
       "    <tspan class=\"displacy-tag\" dy=\"2em\" fill=\"currentColor\" x=\"1625\">ADP</tspan>\n",
       "</text>\n",
       "\n",
       "<text class=\"displacy-token\" fill=\"currentColor\" text-anchor=\"middle\" y=\"484.5\">\n",
       "    <tspan class=\"displacy-word\" fill=\"currentColor\" x=\"1800\">Germany,</tspan>\n",
       "    <tspan class=\"displacy-tag\" dy=\"2em\" fill=\"currentColor\" x=\"1800\">PROPN</tspan>\n",
       "</text>\n",
       "\n",
       "<text class=\"displacy-token\" fill=\"currentColor\" text-anchor=\"middle\" y=\"484.5\">\n",
       "    <tspan class=\"displacy-word\" fill=\"currentColor\" x=\"1975\">the</tspan>\n",
       "    <tspan class=\"displacy-tag\" dy=\"2em\" fill=\"currentColor\" x=\"1975\">DET</tspan>\n",
       "</text>\n",
       "\n",
       "<text class=\"displacy-token\" fill=\"currentColor\" text-anchor=\"middle\" y=\"484.5\">\n",
       "    <tspan class=\"displacy-word\" fill=\"currentColor\" x=\"2150\">son</tspan>\n",
       "    <tspan class=\"displacy-tag\" dy=\"2em\" fill=\"currentColor\" x=\"2150\">NOUN</tspan>\n",
       "</text>\n",
       "\n",
       "<text class=\"displacy-token\" fill=\"currentColor\" text-anchor=\"middle\" y=\"484.5\">\n",
       "    <tspan class=\"displacy-word\" fill=\"currentColor\" x=\"2325\">of</tspan>\n",
       "    <tspan class=\"displacy-tag\" dy=\"2em\" fill=\"currentColor\" x=\"2325\">ADP</tspan>\n",
       "</text>\n",
       "\n",
       "<text class=\"displacy-token\" fill=\"currentColor\" text-anchor=\"middle\" y=\"484.5\">\n",
       "    <tspan class=\"displacy-word\" fill=\"currentColor\" x=\"2500\">Dietrich Herzog.</tspan>\n",
       "    <tspan class=\"displacy-tag\" dy=\"2em\" fill=\"currentColor\" x=\"2500\">PUNCT</tspan>\n",
       "</text>\n",
       "\n",
       "<text class=\"displacy-token\" fill=\"currentColor\" text-anchor=\"middle\" y=\"484.5\">\n",
       "    <tspan class=\"displacy-word\" fill=\"currentColor\" x=\"2675\">\n",
       "</tspan>\n",
       "    <tspan class=\"displacy-tag\" dy=\"2em\" fill=\"currentColor\" x=\"2675\">SPACE</tspan>\n",
       "</text>\n",
       "\n",
       "<text class=\"displacy-token\" fill=\"currentColor\" text-anchor=\"middle\" y=\"484.5\">\n",
       "    <tspan class=\"displacy-word\" fill=\"currentColor\" x=\"2850\">Although</tspan>\n",
       "    <tspan class=\"displacy-tag\" dy=\"2em\" fill=\"currentColor\" x=\"2850\">SCONJ</tspan>\n",
       "</text>\n",
       "\n",
       "<text class=\"displacy-token\" fill=\"currentColor\" text-anchor=\"middle\" y=\"484.5\">\n",
       "    <tspan class=\"displacy-word\" fill=\"currentColor\" x=\"3025\">in</tspan>\n",
       "    <tspan class=\"displacy-tag\" dy=\"2em\" fill=\"currentColor\" x=\"3025\">ADP</tspan>\n",
       "</text>\n",
       "\n",
       "<text class=\"displacy-token\" fill=\"currentColor\" text-anchor=\"middle\" y=\"484.5\">\n",
       "    <tspan class=\"displacy-word\" fill=\"currentColor\" x=\"3200\">fact</tspan>\n",
       "    <tspan class=\"displacy-tag\" dy=\"2em\" fill=\"currentColor\" x=\"3200\">NOUN</tspan>\n",
       "</text>\n",
       "\n",
       "<text class=\"displacy-token\" fill=\"currentColor\" text-anchor=\"middle\" y=\"484.5\">\n",
       "    <tspan class=\"displacy-word\" fill=\"currentColor\" x=\"3375\">Werner Herzog</tspan>\n",
       "    <tspan class=\"displacy-tag\" dy=\"2em\" fill=\"currentColor\" x=\"3375\">PROPN</tspan>\n",
       "</text>\n",
       "\n",
       "<text class=\"displacy-token\" fill=\"currentColor\" text-anchor=\"middle\" y=\"484.5\">\n",
       "    <tspan class=\"displacy-word\" fill=\"currentColor\" x=\"3550\">never</tspan>\n",
       "    <tspan class=\"displacy-tag\" dy=\"2em\" fill=\"currentColor\" x=\"3550\">ADV</tspan>\n",
       "</text>\n",
       "\n",
       "<text class=\"displacy-token\" fill=\"currentColor\" text-anchor=\"middle\" y=\"484.5\">\n",
       "    <tspan class=\"displacy-word\" fill=\"currentColor\" x=\"3725\">really</tspan>\n",
       "    <tspan class=\"displacy-tag\" dy=\"2em\" fill=\"currentColor\" x=\"3725\">ADV</tspan>\n",
       "</text>\n",
       "\n",
       "<text class=\"displacy-token\" fill=\"currentColor\" text-anchor=\"middle\" y=\"484.5\">\n",
       "    <tspan class=\"displacy-word\" fill=\"currentColor\" x=\"3900\">liked</tspan>\n",
       "    <tspan class=\"displacy-tag\" dy=\"2em\" fill=\"currentColor\" x=\"3900\">VERB</tspan>\n",
       "</text>\n",
       "\n",
       "<text class=\"displacy-token\" fill=\"currentColor\" text-anchor=\"middle\" y=\"484.5\">\n",
       "    <tspan class=\"displacy-word\" fill=\"currentColor\" x=\"4075\">his</tspan>\n",
       "    <tspan class=\"displacy-tag\" dy=\"2em\" fill=\"currentColor\" x=\"4075\">PRON</tspan>\n",
       "</text>\n",
       "\n",
       "<text class=\"displacy-token\" fill=\"currentColor\" text-anchor=\"middle\" y=\"484.5\">\n",
       "    <tspan class=\"displacy-word\" fill=\"currentColor\" x=\"4250\">father,</tspan>\n",
       "    <tspan class=\"displacy-tag\" dy=\"2em\" fill=\"currentColor\" x=\"4250\">NOUN</tspan>\n",
       "</text>\n",
       "\n",
       "<text class=\"displacy-token\" fill=\"currentColor\" text-anchor=\"middle\" y=\"484.5\">\n",
       "    <tspan class=\"displacy-word\" fill=\"currentColor\" x=\"4425\">as</tspan>\n",
       "    <tspan class=\"displacy-tag\" dy=\"2em\" fill=\"currentColor\" x=\"4425\">SCONJ</tspan>\n",
       "</text>\n",
       "\n",
       "<text class=\"displacy-token\" fill=\"currentColor\" text-anchor=\"middle\" y=\"484.5\">\n",
       "    <tspan class=\"displacy-word\" fill=\"currentColor\" x=\"4600\">we</tspan>\n",
       "    <tspan class=\"displacy-tag\" dy=\"2em\" fill=\"currentColor\" x=\"4600\">PRON</tspan>\n",
       "</text>\n",
       "\n",
       "<text class=\"displacy-token\" fill=\"currentColor\" text-anchor=\"middle\" y=\"484.5\">\n",
       "    <tspan class=\"displacy-word\" fill=\"currentColor\" x=\"4775\">all</tspan>\n",
       "    <tspan class=\"displacy-tag\" dy=\"2em\" fill=\"currentColor\" x=\"4775\">PRON</tspan>\n",
       "</text>\n",
       "\n",
       "<text class=\"displacy-token\" fill=\"currentColor\" text-anchor=\"middle\" y=\"484.5\">\n",
       "    <tspan class=\"displacy-word\" fill=\"currentColor\" x=\"4950\">know.</tspan>\n",
       "    <tspan class=\"displacy-tag\" dy=\"2em\" fill=\"currentColor\" x=\"4950\">VERB</tspan>\n",
       "</text>\n",
       "\n",
       "<text class=\"displacy-token\" fill=\"currentColor\" text-anchor=\"middle\" y=\"484.5\">\n",
       "    <tspan class=\"displacy-word\" fill=\"currentColor\" x=\"5125\">\n",
       "</tspan>\n",
       "    <tspan class=\"displacy-tag\" dy=\"2em\" fill=\"currentColor\" x=\"5125\">SPACE</tspan>\n",
       "</text>\n",
       "\n",
       "<text class=\"displacy-token\" fill=\"currentColor\" text-anchor=\"middle\" y=\"484.5\">\n",
       "    <tspan class=\"displacy-word\" fill=\"currentColor\" x=\"5300\">After</tspan>\n",
       "    <tspan class=\"displacy-tag\" dy=\"2em\" fill=\"currentColor\" x=\"5300\">ADP</tspan>\n",
       "</text>\n",
       "\n",
       "<text class=\"displacy-token\" fill=\"currentColor\" text-anchor=\"middle\" y=\"484.5\">\n",
       "    <tspan class=\"displacy-word\" fill=\"currentColor\" x=\"5475\">the</tspan>\n",
       "    <tspan class=\"displacy-tag\" dy=\"2em\" fill=\"currentColor\" x=\"5475\">DET</tspan>\n",
       "</text>\n",
       "\n",
       "<text class=\"displacy-token\" fill=\"currentColor\" text-anchor=\"middle\" y=\"484.5\">\n",
       "    <tspan class=\"displacy-word\" fill=\"currentColor\" x=\"5650\">war,</tspan>\n",
       "    <tspan class=\"displacy-tag\" dy=\"2em\" fill=\"currentColor\" x=\"5650\">NOUN</tspan>\n",
       "</text>\n",
       "\n",
       "<text class=\"displacy-token\" fill=\"currentColor\" text-anchor=\"middle\" y=\"484.5\">\n",
       "    <tspan class=\"displacy-word\" fill=\"currentColor\" x=\"5825\">Werner</tspan>\n",
       "    <tspan class=\"displacy-tag\" dy=\"2em\" fill=\"currentColor\" x=\"5825\">PROPN</tspan>\n",
       "</text>\n",
       "\n",
       "<text class=\"displacy-token\" fill=\"currentColor\" text-anchor=\"middle\" y=\"484.5\">\n",
       "    <tspan class=\"displacy-word\" fill=\"currentColor\" x=\"6000\">fled</tspan>\n",
       "    <tspan class=\"displacy-tag\" dy=\"2em\" fill=\"currentColor\" x=\"6000\">VERB</tspan>\n",
       "</text>\n",
       "\n",
       "<text class=\"displacy-token\" fill=\"currentColor\" text-anchor=\"middle\" y=\"484.5\">\n",
       "    <tspan class=\"displacy-word\" fill=\"currentColor\" x=\"6175\">to</tspan>\n",
       "    <tspan class=\"displacy-tag\" dy=\"2em\" fill=\"currentColor\" x=\"6175\">ADP</tspan>\n",
       "</text>\n",
       "\n",
       "<text class=\"displacy-token\" fill=\"currentColor\" text-anchor=\"middle\" y=\"484.5\">\n",
       "    <tspan class=\"displacy-word\" fill=\"currentColor\" x=\"6350\">America</tspan>\n",
       "    <tspan class=\"displacy-tag\" dy=\"2em\" fill=\"currentColor\" x=\"6350\">PROPN</tspan>\n",
       "</text>\n",
       "\n",
       "<text class=\"displacy-token\" fill=\"currentColor\" text-anchor=\"middle\" y=\"484.5\">\n",
       "    <tspan class=\"displacy-word\" fill=\"currentColor\" x=\"6525\">to</tspan>\n",
       "    <tspan class=\"displacy-tag\" dy=\"2em\" fill=\"currentColor\" x=\"6525\">PART</tspan>\n",
       "</text>\n",
       "\n",
       "<text class=\"displacy-token\" fill=\"currentColor\" text-anchor=\"middle\" y=\"484.5\">\n",
       "    <tspan class=\"displacy-word\" fill=\"currentColor\" x=\"6700\">become</tspan>\n",
       "    <tspan class=\"displacy-tag\" dy=\"2em\" fill=\"currentColor\" x=\"6700\">VERB</tspan>\n",
       "</text>\n",
       "\n",
       "<text class=\"displacy-token\" fill=\"currentColor\" text-anchor=\"middle\" y=\"484.5\">\n",
       "    <tspan class=\"displacy-word\" fill=\"currentColor\" x=\"6875\">famous.</tspan>\n",
       "    <tspan class=\"displacy-tag\" dy=\"2em\" fill=\"currentColor\" x=\"6875\">ADJ</tspan>\n",
       "</text>\n",
       "\n",
       "<g class=\"displacy-arrow\">\n",
       "    <path class=\"displacy-arc\" id=\"arrow-7d7122b2de174f2d8b31c462ed8cbc58-0-0\" stroke-width=\"2px\" d=\"M70,439.5 C70,352.0 205.0,352.0 205.0,439.5\" fill=\"none\" stroke=\"currentColor\"/>\n",
       "    <text dy=\"1.25em\" style=\"font-size: 0.8em; letter-spacing: 1px\">\n",
       "        <textPath xlink:href=\"#arrow-7d7122b2de174f2d8b31c462ed8cbc58-0-0\" class=\"displacy-label\" startOffset=\"50%\" side=\"left\" fill=\"currentColor\" text-anchor=\"middle\">nsubj</textPath>\n",
       "    </text>\n",
       "    <path class=\"displacy-arrowhead\" d=\"M70,441.5 L62,429.5 78,429.5\" fill=\"currentColor\"/>\n",
       "</g>\n",
       "\n",
       "<g class=\"displacy-arrow\">\n",
       "    <path class=\"displacy-arc\" id=\"arrow-7d7122b2de174f2d8b31c462ed8cbc58-0-1\" stroke-width=\"2px\" d=\"M420,439.5 C420,264.5 735.0,264.5 735.0,439.5\" fill=\"none\" stroke=\"currentColor\"/>\n",
       "    <text dy=\"1.25em\" style=\"font-size: 0.8em; letter-spacing: 1px\">\n",
       "        <textPath xlink:href=\"#arrow-7d7122b2de174f2d8b31c462ed8cbc58-0-1\" class=\"displacy-label\" startOffset=\"50%\" side=\"left\" fill=\"currentColor\" text-anchor=\"middle\">det</textPath>\n",
       "    </text>\n",
       "    <path class=\"displacy-arrowhead\" d=\"M420,441.5 L412,429.5 428,429.5\" fill=\"currentColor\"/>\n",
       "</g>\n",
       "\n",
       "<g class=\"displacy-arrow\">\n",
       "    <path class=\"displacy-arc\" id=\"arrow-7d7122b2de174f2d8b31c462ed8cbc58-0-2\" stroke-width=\"2px\" d=\"M595,439.5 C595,352.0 730.0,352.0 730.0,439.5\" fill=\"none\" stroke=\"currentColor\"/>\n",
       "    <text dy=\"1.25em\" style=\"font-size: 0.8em; letter-spacing: 1px\">\n",
       "        <textPath xlink:href=\"#arrow-7d7122b2de174f2d8b31c462ed8cbc58-0-2\" class=\"displacy-label\" startOffset=\"50%\" side=\"left\" fill=\"currentColor\" text-anchor=\"middle\">amod</textPath>\n",
       "    </text>\n",
       "    <path class=\"displacy-arrowhead\" d=\"M595,441.5 L587,429.5 603,429.5\" fill=\"currentColor\"/>\n",
       "</g>\n",
       "\n",
       "<g class=\"displacy-arrow\">\n",
       "    <path class=\"displacy-arc\" id=\"arrow-7d7122b2de174f2d8b31c462ed8cbc58-0-3\" stroke-width=\"2px\" d=\"M245,439.5 C245,177.0 740.0,177.0 740.0,439.5\" fill=\"none\" stroke=\"currentColor\"/>\n",
       "    <text dy=\"1.25em\" style=\"font-size: 0.8em; letter-spacing: 1px\">\n",
       "        <textPath xlink:href=\"#arrow-7d7122b2de174f2d8b31c462ed8cbc58-0-3\" class=\"displacy-label\" startOffset=\"50%\" side=\"left\" fill=\"currentColor\" text-anchor=\"middle\">attr</textPath>\n",
       "    </text>\n",
       "    <path class=\"displacy-arrowhead\" d=\"M740.0,441.5 L748.0,429.5 732.0,429.5\" fill=\"currentColor\"/>\n",
       "</g>\n",
       "\n",
       "<g class=\"displacy-arrow\">\n",
       "    <path class=\"displacy-arc\" id=\"arrow-7d7122b2de174f2d8b31c462ed8cbc58-0-4\" stroke-width=\"2px\" d=\"M770,439.5 C770,352.0 905.0,352.0 905.0,439.5\" fill=\"none\" stroke=\"currentColor\"/>\n",
       "    <text dy=\"1.25em\" style=\"font-size: 0.8em; letter-spacing: 1px\">\n",
       "        <textPath xlink:href=\"#arrow-7d7122b2de174f2d8b31c462ed8cbc58-0-4\" class=\"displacy-label\" startOffset=\"50%\" side=\"left\" fill=\"currentColor\" text-anchor=\"middle\">cc</textPath>\n",
       "    </text>\n",
       "    <path class=\"displacy-arrowhead\" d=\"M905.0,441.5 L913.0,429.5 897.0,429.5\" fill=\"currentColor\"/>\n",
       "</g>\n",
       "\n",
       "<g class=\"displacy-arrow\">\n",
       "    <path class=\"displacy-arc\" id=\"arrow-7d7122b2de174f2d8b31c462ed8cbc58-0-5\" stroke-width=\"2px\" d=\"M1120,439.5 C1120,352.0 1255.0,352.0 1255.0,439.5\" fill=\"none\" stroke=\"currentColor\"/>\n",
       "    <text dy=\"1.25em\" style=\"font-size: 0.8em; letter-spacing: 1px\">\n",
       "        <textPath xlink:href=\"#arrow-7d7122b2de174f2d8b31c462ed8cbc58-0-5\" class=\"displacy-label\" startOffset=\"50%\" side=\"left\" fill=\"currentColor\" text-anchor=\"middle\">det</textPath>\n",
       "    </text>\n",
       "    <path class=\"displacy-arrowhead\" d=\"M1120,441.5 L1112,429.5 1128,429.5\" fill=\"currentColor\"/>\n",
       "</g>\n",
       "\n",
       "<g class=\"displacy-arrow\">\n",
       "    <path class=\"displacy-arc\" id=\"arrow-7d7122b2de174f2d8b31c462ed8cbc58-0-6\" stroke-width=\"2px\" d=\"M770,439.5 C770,264.5 1260.0,264.5 1260.0,439.5\" fill=\"none\" stroke=\"currentColor\"/>\n",
       "    <text dy=\"1.25em\" style=\"font-size: 0.8em; letter-spacing: 1px\">\n",
       "        <textPath xlink:href=\"#arrow-7d7122b2de174f2d8b31c462ed8cbc58-0-6\" class=\"displacy-label\" startOffset=\"50%\" side=\"left\" fill=\"currentColor\" text-anchor=\"middle\">conj</textPath>\n",
       "    </text>\n",
       "    <path class=\"displacy-arrowhead\" d=\"M1260.0,441.5 L1268.0,429.5 1252.0,429.5\" fill=\"currentColor\"/>\n",
       "</g>\n",
       "\n",
       "<g class=\"displacy-arrow\">\n",
       "    <path class=\"displacy-arc\" id=\"arrow-7d7122b2de174f2d8b31c462ed8cbc58-0-7\" stroke-width=\"2px\" d=\"M1470,439.5 C1470,352.0 1605.0,352.0 1605.0,439.5\" fill=\"none\" stroke=\"currentColor\"/>\n",
       "    <text dy=\"1.25em\" style=\"font-size: 0.8em; letter-spacing: 1px\">\n",
       "        <textPath xlink:href=\"#arrow-7d7122b2de174f2d8b31c462ed8cbc58-0-7\" class=\"displacy-label\" startOffset=\"50%\" side=\"left\" fill=\"currentColor\" text-anchor=\"middle\">advmod</textPath>\n",
       "    </text>\n",
       "    <path class=\"displacy-arrowhead\" d=\"M1470,441.5 L1462,429.5 1478,429.5\" fill=\"currentColor\"/>\n",
       "</g>\n",
       "\n",
       "<g class=\"displacy-arrow\">\n",
       "    <path class=\"displacy-arc\" id=\"arrow-7d7122b2de174f2d8b31c462ed8cbc58-0-8\" stroke-width=\"2px\" d=\"M1295,439.5 C1295,264.5 1610.0,264.5 1610.0,439.5\" fill=\"none\" stroke=\"currentColor\"/>\n",
       "    <text dy=\"1.25em\" style=\"font-size: 0.8em; letter-spacing: 1px\">\n",
       "        <textPath xlink:href=\"#arrow-7d7122b2de174f2d8b31c462ed8cbc58-0-8\" class=\"displacy-label\" startOffset=\"50%\" side=\"left\" fill=\"currentColor\" text-anchor=\"middle\">prep</textPath>\n",
       "    </text>\n",
       "    <path class=\"displacy-arrowhead\" d=\"M1610.0,441.5 L1618.0,429.5 1602.0,429.5\" fill=\"currentColor\"/>\n",
       "</g>\n",
       "\n",
       "<g class=\"displacy-arrow\">\n",
       "    <path class=\"displacy-arc\" id=\"arrow-7d7122b2de174f2d8b31c462ed8cbc58-0-9\" stroke-width=\"2px\" d=\"M1645,439.5 C1645,352.0 1780.0,352.0 1780.0,439.5\" fill=\"none\" stroke=\"currentColor\"/>\n",
       "    <text dy=\"1.25em\" style=\"font-size: 0.8em; letter-spacing: 1px\">\n",
       "        <textPath xlink:href=\"#arrow-7d7122b2de174f2d8b31c462ed8cbc58-0-9\" class=\"displacy-label\" startOffset=\"50%\" side=\"left\" fill=\"currentColor\" text-anchor=\"middle\">pobj</textPath>\n",
       "    </text>\n",
       "    <path class=\"displacy-arrowhead\" d=\"M1780.0,441.5 L1788.0,429.5 1772.0,429.5\" fill=\"currentColor\"/>\n",
       "</g>\n",
       "\n",
       "<g class=\"displacy-arrow\">\n",
       "    <path class=\"displacy-arc\" id=\"arrow-7d7122b2de174f2d8b31c462ed8cbc58-0-10\" stroke-width=\"2px\" d=\"M1995,439.5 C1995,352.0 2130.0,352.0 2130.0,439.5\" fill=\"none\" stroke=\"currentColor\"/>\n",
       "    <text dy=\"1.25em\" style=\"font-size: 0.8em; letter-spacing: 1px\">\n",
       "        <textPath xlink:href=\"#arrow-7d7122b2de174f2d8b31c462ed8cbc58-0-10\" class=\"displacy-label\" startOffset=\"50%\" side=\"left\" fill=\"currentColor\" text-anchor=\"middle\">det</textPath>\n",
       "    </text>\n",
       "    <path class=\"displacy-arrowhead\" d=\"M1995,441.5 L1987,429.5 2003,429.5\" fill=\"currentColor\"/>\n",
       "</g>\n",
       "\n",
       "<g class=\"displacy-arrow\">\n",
       "    <path class=\"displacy-arc\" id=\"arrow-7d7122b2de174f2d8b31c462ed8cbc58-0-11\" stroke-width=\"2px\" d=\"M1820,439.5 C1820,264.5 2135.0,264.5 2135.0,439.5\" fill=\"none\" stroke=\"currentColor\"/>\n",
       "    <text dy=\"1.25em\" style=\"font-size: 0.8em; letter-spacing: 1px\">\n",
       "        <textPath xlink:href=\"#arrow-7d7122b2de174f2d8b31c462ed8cbc58-0-11\" class=\"displacy-label\" startOffset=\"50%\" side=\"left\" fill=\"currentColor\" text-anchor=\"middle\">appos</textPath>\n",
       "    </text>\n",
       "    <path class=\"displacy-arrowhead\" d=\"M2135.0,441.5 L2143.0,429.5 2127.0,429.5\" fill=\"currentColor\"/>\n",
       "</g>\n",
       "\n",
       "<g class=\"displacy-arrow\">\n",
       "    <path class=\"displacy-arc\" id=\"arrow-7d7122b2de174f2d8b31c462ed8cbc58-0-12\" stroke-width=\"2px\" d=\"M2170,439.5 C2170,352.0 2305.0,352.0 2305.0,439.5\" fill=\"none\" stroke=\"currentColor\"/>\n",
       "    <text dy=\"1.25em\" style=\"font-size: 0.8em; letter-spacing: 1px\">\n",
       "        <textPath xlink:href=\"#arrow-7d7122b2de174f2d8b31c462ed8cbc58-0-12\" class=\"displacy-label\" startOffset=\"50%\" side=\"left\" fill=\"currentColor\" text-anchor=\"middle\">prep</textPath>\n",
       "    </text>\n",
       "    <path class=\"displacy-arrowhead\" d=\"M2305.0,441.5 L2313.0,429.5 2297.0,429.5\" fill=\"currentColor\"/>\n",
       "</g>\n",
       "\n",
       "<g class=\"displacy-arrow\">\n",
       "    <path class=\"displacy-arc\" id=\"arrow-7d7122b2de174f2d8b31c462ed8cbc58-0-13\" stroke-width=\"2px\" d=\"M245,439.5 C245,89.5 2495.0,89.5 2495.0,439.5\" fill=\"none\" stroke=\"currentColor\"/>\n",
       "    <text dy=\"1.25em\" style=\"font-size: 0.8em; letter-spacing: 1px\">\n",
       "        <textPath xlink:href=\"#arrow-7d7122b2de174f2d8b31c462ed8cbc58-0-13\" class=\"displacy-label\" startOffset=\"50%\" side=\"left\" fill=\"currentColor\" text-anchor=\"middle\">punct</textPath>\n",
       "    </text>\n",
       "    <path class=\"displacy-arrowhead\" d=\"M2495.0,441.5 L2503.0,429.5 2487.0,429.5\" fill=\"currentColor\"/>\n",
       "</g>\n",
       "\n",
       "<g class=\"displacy-arrow\">\n",
       "    <path class=\"displacy-arc\" id=\"arrow-7d7122b2de174f2d8b31c462ed8cbc58-0-14\" stroke-width=\"2px\" d=\"M2520,439.5 C2520,352.0 2655.0,352.0 2655.0,439.5\" fill=\"none\" stroke=\"currentColor\"/>\n",
       "    <text dy=\"1.25em\" style=\"font-size: 0.8em; letter-spacing: 1px\">\n",
       "        <textPath xlink:href=\"#arrow-7d7122b2de174f2d8b31c462ed8cbc58-0-14\" class=\"displacy-label\" startOffset=\"50%\" side=\"left\" fill=\"currentColor\" text-anchor=\"middle\">dep</textPath>\n",
       "    </text>\n",
       "    <path class=\"displacy-arrowhead\" d=\"M2655.0,441.5 L2663.0,429.5 2647.0,429.5\" fill=\"currentColor\"/>\n",
       "</g>\n",
       "\n",
       "<g class=\"displacy-arrow\">\n",
       "    <path class=\"displacy-arc\" id=\"arrow-7d7122b2de174f2d8b31c462ed8cbc58-0-15\" stroke-width=\"2px\" d=\"M2870,439.5 C2870,2.0 3900.0,2.0 3900.0,439.5\" fill=\"none\" stroke=\"currentColor\"/>\n",
       "    <text dy=\"1.25em\" style=\"font-size: 0.8em; letter-spacing: 1px\">\n",
       "        <textPath xlink:href=\"#arrow-7d7122b2de174f2d8b31c462ed8cbc58-0-15\" class=\"displacy-label\" startOffset=\"50%\" side=\"left\" fill=\"currentColor\" text-anchor=\"middle\">mark</textPath>\n",
       "    </text>\n",
       "    <path class=\"displacy-arrowhead\" d=\"M2870,441.5 L2862,429.5 2878,429.5\" fill=\"currentColor\"/>\n",
       "</g>\n",
       "\n",
       "<g class=\"displacy-arrow\">\n",
       "    <path class=\"displacy-arc\" id=\"arrow-7d7122b2de174f2d8b31c462ed8cbc58-0-16\" stroke-width=\"2px\" d=\"M3045,439.5 C3045,89.5 3895.0,89.5 3895.0,439.5\" fill=\"none\" stroke=\"currentColor\"/>\n",
       "    <text dy=\"1.25em\" style=\"font-size: 0.8em; letter-spacing: 1px\">\n",
       "        <textPath xlink:href=\"#arrow-7d7122b2de174f2d8b31c462ed8cbc58-0-16\" class=\"displacy-label\" startOffset=\"50%\" side=\"left\" fill=\"currentColor\" text-anchor=\"middle\">prep</textPath>\n",
       "    </text>\n",
       "    <path class=\"displacy-arrowhead\" d=\"M3045,441.5 L3037,429.5 3053,429.5\" fill=\"currentColor\"/>\n",
       "</g>\n",
       "\n",
       "<g class=\"displacy-arrow\">\n",
       "    <path class=\"displacy-arc\" id=\"arrow-7d7122b2de174f2d8b31c462ed8cbc58-0-17\" stroke-width=\"2px\" d=\"M3045,439.5 C3045,352.0 3180.0,352.0 3180.0,439.5\" fill=\"none\" stroke=\"currentColor\"/>\n",
       "    <text dy=\"1.25em\" style=\"font-size: 0.8em; letter-spacing: 1px\">\n",
       "        <textPath xlink:href=\"#arrow-7d7122b2de174f2d8b31c462ed8cbc58-0-17\" class=\"displacy-label\" startOffset=\"50%\" side=\"left\" fill=\"currentColor\" text-anchor=\"middle\">pobj</textPath>\n",
       "    </text>\n",
       "    <path class=\"displacy-arrowhead\" d=\"M3180.0,441.5 L3188.0,429.5 3172.0,429.5\" fill=\"currentColor\"/>\n",
       "</g>\n",
       "\n",
       "<g class=\"displacy-arrow\">\n",
       "    <path class=\"displacy-arc\" id=\"arrow-7d7122b2de174f2d8b31c462ed8cbc58-0-18\" stroke-width=\"2px\" d=\"M3395,439.5 C3395,177.0 3890.0,177.0 3890.0,439.5\" fill=\"none\" stroke=\"currentColor\"/>\n",
       "    <text dy=\"1.25em\" style=\"font-size: 0.8em; letter-spacing: 1px\">\n",
       "        <textPath xlink:href=\"#arrow-7d7122b2de174f2d8b31c462ed8cbc58-0-18\" class=\"displacy-label\" startOffset=\"50%\" side=\"left\" fill=\"currentColor\" text-anchor=\"middle\">nsubj</textPath>\n",
       "    </text>\n",
       "    <path class=\"displacy-arrowhead\" d=\"M3395,441.5 L3387,429.5 3403,429.5\" fill=\"currentColor\"/>\n",
       "</g>\n",
       "\n",
       "<g class=\"displacy-arrow\">\n",
       "    <path class=\"displacy-arc\" id=\"arrow-7d7122b2de174f2d8b31c462ed8cbc58-0-19\" stroke-width=\"2px\" d=\"M3570,439.5 C3570,264.5 3885.0,264.5 3885.0,439.5\" fill=\"none\" stroke=\"currentColor\"/>\n",
       "    <text dy=\"1.25em\" style=\"font-size: 0.8em; letter-spacing: 1px\">\n",
       "        <textPath xlink:href=\"#arrow-7d7122b2de174f2d8b31c462ed8cbc58-0-19\" class=\"displacy-label\" startOffset=\"50%\" side=\"left\" fill=\"currentColor\" text-anchor=\"middle\">neg</textPath>\n",
       "    </text>\n",
       "    <path class=\"displacy-arrowhead\" d=\"M3570,441.5 L3562,429.5 3578,429.5\" fill=\"currentColor\"/>\n",
       "</g>\n",
       "\n",
       "<g class=\"displacy-arrow\">\n",
       "    <path class=\"displacy-arc\" id=\"arrow-7d7122b2de174f2d8b31c462ed8cbc58-0-20\" stroke-width=\"2px\" d=\"M3745,439.5 C3745,352.0 3880.0,352.0 3880.0,439.5\" fill=\"none\" stroke=\"currentColor\"/>\n",
       "    <text dy=\"1.25em\" style=\"font-size: 0.8em; letter-spacing: 1px\">\n",
       "        <textPath xlink:href=\"#arrow-7d7122b2de174f2d8b31c462ed8cbc58-0-20\" class=\"displacy-label\" startOffset=\"50%\" side=\"left\" fill=\"currentColor\" text-anchor=\"middle\">advmod</textPath>\n",
       "    </text>\n",
       "    <path class=\"displacy-arrowhead\" d=\"M3745,441.5 L3737,429.5 3753,429.5\" fill=\"currentColor\"/>\n",
       "</g>\n",
       "\n",
       "<g class=\"displacy-arrow\">\n",
       "    <path class=\"displacy-arc\" id=\"arrow-7d7122b2de174f2d8b31c462ed8cbc58-0-21\" stroke-width=\"2px\" d=\"M4095,439.5 C4095,352.0 4230.0,352.0 4230.0,439.5\" fill=\"none\" stroke=\"currentColor\"/>\n",
       "    <text dy=\"1.25em\" style=\"font-size: 0.8em; letter-spacing: 1px\">\n",
       "        <textPath xlink:href=\"#arrow-7d7122b2de174f2d8b31c462ed8cbc58-0-21\" class=\"displacy-label\" startOffset=\"50%\" side=\"left\" fill=\"currentColor\" text-anchor=\"middle\">poss</textPath>\n",
       "    </text>\n",
       "    <path class=\"displacy-arrowhead\" d=\"M4095,441.5 L4087,429.5 4103,429.5\" fill=\"currentColor\"/>\n",
       "</g>\n",
       "\n",
       "<g class=\"displacy-arrow\">\n",
       "    <path class=\"displacy-arc\" id=\"arrow-7d7122b2de174f2d8b31c462ed8cbc58-0-22\" stroke-width=\"2px\" d=\"M3920,439.5 C3920,264.5 4235.0,264.5 4235.0,439.5\" fill=\"none\" stroke=\"currentColor\"/>\n",
       "    <text dy=\"1.25em\" style=\"font-size: 0.8em; letter-spacing: 1px\">\n",
       "        <textPath xlink:href=\"#arrow-7d7122b2de174f2d8b31c462ed8cbc58-0-22\" class=\"displacy-label\" startOffset=\"50%\" side=\"left\" fill=\"currentColor\" text-anchor=\"middle\">dobj</textPath>\n",
       "    </text>\n",
       "    <path class=\"displacy-arrowhead\" d=\"M4235.0,441.5 L4243.0,429.5 4227.0,429.5\" fill=\"currentColor\"/>\n",
       "</g>\n",
       "\n",
       "<g class=\"displacy-arrow\">\n",
       "    <path class=\"displacy-arc\" id=\"arrow-7d7122b2de174f2d8b31c462ed8cbc58-0-23\" stroke-width=\"2px\" d=\"M4445,439.5 C4445,177.0 4940.0,177.0 4940.0,439.5\" fill=\"none\" stroke=\"currentColor\"/>\n",
       "    <text dy=\"1.25em\" style=\"font-size: 0.8em; letter-spacing: 1px\">\n",
       "        <textPath xlink:href=\"#arrow-7d7122b2de174f2d8b31c462ed8cbc58-0-23\" class=\"displacy-label\" startOffset=\"50%\" side=\"left\" fill=\"currentColor\" text-anchor=\"middle\">mark</textPath>\n",
       "    </text>\n",
       "    <path class=\"displacy-arrowhead\" d=\"M4445,441.5 L4437,429.5 4453,429.5\" fill=\"currentColor\"/>\n",
       "</g>\n",
       "\n",
       "<g class=\"displacy-arrow\">\n",
       "    <path class=\"displacy-arc\" id=\"arrow-7d7122b2de174f2d8b31c462ed8cbc58-0-24\" stroke-width=\"2px\" d=\"M4620,439.5 C4620,264.5 4935.0,264.5 4935.0,439.5\" fill=\"none\" stroke=\"currentColor\"/>\n",
       "    <text dy=\"1.25em\" style=\"font-size: 0.8em; letter-spacing: 1px\">\n",
       "        <textPath xlink:href=\"#arrow-7d7122b2de174f2d8b31c462ed8cbc58-0-24\" class=\"displacy-label\" startOffset=\"50%\" side=\"left\" fill=\"currentColor\" text-anchor=\"middle\">nsubj</textPath>\n",
       "    </text>\n",
       "    <path class=\"displacy-arrowhead\" d=\"M4620,441.5 L4612,429.5 4628,429.5\" fill=\"currentColor\"/>\n",
       "</g>\n",
       "\n",
       "<g class=\"displacy-arrow\">\n",
       "    <path class=\"displacy-arc\" id=\"arrow-7d7122b2de174f2d8b31c462ed8cbc58-0-25\" stroke-width=\"2px\" d=\"M4620,439.5 C4620,352.0 4755.0,352.0 4755.0,439.5\" fill=\"none\" stroke=\"currentColor\"/>\n",
       "    <text dy=\"1.25em\" style=\"font-size: 0.8em; letter-spacing: 1px\">\n",
       "        <textPath xlink:href=\"#arrow-7d7122b2de174f2d8b31c462ed8cbc58-0-25\" class=\"displacy-label\" startOffset=\"50%\" side=\"left\" fill=\"currentColor\" text-anchor=\"middle\">appos</textPath>\n",
       "    </text>\n",
       "    <path class=\"displacy-arrowhead\" d=\"M4755.0,441.5 L4763.0,429.5 4747.0,429.5\" fill=\"currentColor\"/>\n",
       "</g>\n",
       "\n",
       "<g class=\"displacy-arrow\">\n",
       "    <path class=\"displacy-arc\" id=\"arrow-7d7122b2de174f2d8b31c462ed8cbc58-0-26\" stroke-width=\"2px\" d=\"M3920,439.5 C3920,89.5 4945.0,89.5 4945.0,439.5\" fill=\"none\" stroke=\"currentColor\"/>\n",
       "    <text dy=\"1.25em\" style=\"font-size: 0.8em; letter-spacing: 1px\">\n",
       "        <textPath xlink:href=\"#arrow-7d7122b2de174f2d8b31c462ed8cbc58-0-26\" class=\"displacy-label\" startOffset=\"50%\" side=\"left\" fill=\"currentColor\" text-anchor=\"middle\">advcl</textPath>\n",
       "    </text>\n",
       "    <path class=\"displacy-arrowhead\" d=\"M4945.0,441.5 L4953.0,429.5 4937.0,429.5\" fill=\"currentColor\"/>\n",
       "</g>\n",
       "\n",
       "<g class=\"displacy-arrow\">\n",
       "    <path class=\"displacy-arc\" id=\"arrow-7d7122b2de174f2d8b31c462ed8cbc58-0-27\" stroke-width=\"2px\" d=\"M4970,439.5 C4970,352.0 5105.0,352.0 5105.0,439.5\" fill=\"none\" stroke=\"currentColor\"/>\n",
       "    <text dy=\"1.25em\" style=\"font-size: 0.8em; letter-spacing: 1px\">\n",
       "        <textPath xlink:href=\"#arrow-7d7122b2de174f2d8b31c462ed8cbc58-0-27\" class=\"displacy-label\" startOffset=\"50%\" side=\"left\" fill=\"currentColor\" text-anchor=\"middle\">dep</textPath>\n",
       "    </text>\n",
       "    <path class=\"displacy-arrowhead\" d=\"M5105.0,441.5 L5113.0,429.5 5097.0,429.5\" fill=\"currentColor\"/>\n",
       "</g>\n",
       "\n",
       "<g class=\"displacy-arrow\">\n",
       "    <path class=\"displacy-arc\" id=\"arrow-7d7122b2de174f2d8b31c462ed8cbc58-0-28\" stroke-width=\"2px\" d=\"M5320,439.5 C5320,177.0 5990.0,177.0 5990.0,439.5\" fill=\"none\" stroke=\"currentColor\"/>\n",
       "    <text dy=\"1.25em\" style=\"font-size: 0.8em; letter-spacing: 1px\">\n",
       "        <textPath xlink:href=\"#arrow-7d7122b2de174f2d8b31c462ed8cbc58-0-28\" class=\"displacy-label\" startOffset=\"50%\" side=\"left\" fill=\"currentColor\" text-anchor=\"middle\">prep</textPath>\n",
       "    </text>\n",
       "    <path class=\"displacy-arrowhead\" d=\"M5320,441.5 L5312,429.5 5328,429.5\" fill=\"currentColor\"/>\n",
       "</g>\n",
       "\n",
       "<g class=\"displacy-arrow\">\n",
       "    <path class=\"displacy-arc\" id=\"arrow-7d7122b2de174f2d8b31c462ed8cbc58-0-29\" stroke-width=\"2px\" d=\"M5495,439.5 C5495,352.0 5630.0,352.0 5630.0,439.5\" fill=\"none\" stroke=\"currentColor\"/>\n",
       "    <text dy=\"1.25em\" style=\"font-size: 0.8em; letter-spacing: 1px\">\n",
       "        <textPath xlink:href=\"#arrow-7d7122b2de174f2d8b31c462ed8cbc58-0-29\" class=\"displacy-label\" startOffset=\"50%\" side=\"left\" fill=\"currentColor\" text-anchor=\"middle\">det</textPath>\n",
       "    </text>\n",
       "    <path class=\"displacy-arrowhead\" d=\"M5495,441.5 L5487,429.5 5503,429.5\" fill=\"currentColor\"/>\n",
       "</g>\n",
       "\n",
       "<g class=\"displacy-arrow\">\n",
       "    <path class=\"displacy-arc\" id=\"arrow-7d7122b2de174f2d8b31c462ed8cbc58-0-30\" stroke-width=\"2px\" d=\"M5320,439.5 C5320,264.5 5635.0,264.5 5635.0,439.5\" fill=\"none\" stroke=\"currentColor\"/>\n",
       "    <text dy=\"1.25em\" style=\"font-size: 0.8em; letter-spacing: 1px\">\n",
       "        <textPath xlink:href=\"#arrow-7d7122b2de174f2d8b31c462ed8cbc58-0-30\" class=\"displacy-label\" startOffset=\"50%\" side=\"left\" fill=\"currentColor\" text-anchor=\"middle\">pobj</textPath>\n",
       "    </text>\n",
       "    <path class=\"displacy-arrowhead\" d=\"M5635.0,441.5 L5643.0,429.5 5627.0,429.5\" fill=\"currentColor\"/>\n",
       "</g>\n",
       "\n",
       "<g class=\"displacy-arrow\">\n",
       "    <path class=\"displacy-arc\" id=\"arrow-7d7122b2de174f2d8b31c462ed8cbc58-0-31\" stroke-width=\"2px\" d=\"M5845,439.5 C5845,352.0 5980.0,352.0 5980.0,439.5\" fill=\"none\" stroke=\"currentColor\"/>\n",
       "    <text dy=\"1.25em\" style=\"font-size: 0.8em; letter-spacing: 1px\">\n",
       "        <textPath xlink:href=\"#arrow-7d7122b2de174f2d8b31c462ed8cbc58-0-31\" class=\"displacy-label\" startOffset=\"50%\" side=\"left\" fill=\"currentColor\" text-anchor=\"middle\">nsubj</textPath>\n",
       "    </text>\n",
       "    <path class=\"displacy-arrowhead\" d=\"M5845,441.5 L5837,429.5 5853,429.5\" fill=\"currentColor\"/>\n",
       "</g>\n",
       "\n",
       "<g class=\"displacy-arrow\">\n",
       "    <path class=\"displacy-arc\" id=\"arrow-7d7122b2de174f2d8b31c462ed8cbc58-0-32\" stroke-width=\"2px\" d=\"M6020,439.5 C6020,352.0 6155.0,352.0 6155.0,439.5\" fill=\"none\" stroke=\"currentColor\"/>\n",
       "    <text dy=\"1.25em\" style=\"font-size: 0.8em; letter-spacing: 1px\">\n",
       "        <textPath xlink:href=\"#arrow-7d7122b2de174f2d8b31c462ed8cbc58-0-32\" class=\"displacy-label\" startOffset=\"50%\" side=\"left\" fill=\"currentColor\" text-anchor=\"middle\">prep</textPath>\n",
       "    </text>\n",
       "    <path class=\"displacy-arrowhead\" d=\"M6155.0,441.5 L6163.0,429.5 6147.0,429.5\" fill=\"currentColor\"/>\n",
       "</g>\n",
       "\n",
       "<g class=\"displacy-arrow\">\n",
       "    <path class=\"displacy-arc\" id=\"arrow-7d7122b2de174f2d8b31c462ed8cbc58-0-33\" stroke-width=\"2px\" d=\"M6195,439.5 C6195,352.0 6330.0,352.0 6330.0,439.5\" fill=\"none\" stroke=\"currentColor\"/>\n",
       "    <text dy=\"1.25em\" style=\"font-size: 0.8em; letter-spacing: 1px\">\n",
       "        <textPath xlink:href=\"#arrow-7d7122b2de174f2d8b31c462ed8cbc58-0-33\" class=\"displacy-label\" startOffset=\"50%\" side=\"left\" fill=\"currentColor\" text-anchor=\"middle\">pobj</textPath>\n",
       "    </text>\n",
       "    <path class=\"displacy-arrowhead\" d=\"M6330.0,441.5 L6338.0,429.5 6322.0,429.5\" fill=\"currentColor\"/>\n",
       "</g>\n",
       "\n",
       "<g class=\"displacy-arrow\">\n",
       "    <path class=\"displacy-arc\" id=\"arrow-7d7122b2de174f2d8b31c462ed8cbc58-0-34\" stroke-width=\"2px\" d=\"M6545,439.5 C6545,352.0 6680.0,352.0 6680.0,439.5\" fill=\"none\" stroke=\"currentColor\"/>\n",
       "    <text dy=\"1.25em\" style=\"font-size: 0.8em; letter-spacing: 1px\">\n",
       "        <textPath xlink:href=\"#arrow-7d7122b2de174f2d8b31c462ed8cbc58-0-34\" class=\"displacy-label\" startOffset=\"50%\" side=\"left\" fill=\"currentColor\" text-anchor=\"middle\">aux</textPath>\n",
       "    </text>\n",
       "    <path class=\"displacy-arrowhead\" d=\"M6545,441.5 L6537,429.5 6553,429.5\" fill=\"currentColor\"/>\n",
       "</g>\n",
       "\n",
       "<g class=\"displacy-arrow\">\n",
       "    <path class=\"displacy-arc\" id=\"arrow-7d7122b2de174f2d8b31c462ed8cbc58-0-35\" stroke-width=\"2px\" d=\"M6020,439.5 C6020,264.5 6685.0,264.5 6685.0,439.5\" fill=\"none\" stroke=\"currentColor\"/>\n",
       "    <text dy=\"1.25em\" style=\"font-size: 0.8em; letter-spacing: 1px\">\n",
       "        <textPath xlink:href=\"#arrow-7d7122b2de174f2d8b31c462ed8cbc58-0-35\" class=\"displacy-label\" startOffset=\"50%\" side=\"left\" fill=\"currentColor\" text-anchor=\"middle\">advcl</textPath>\n",
       "    </text>\n",
       "    <path class=\"displacy-arrowhead\" d=\"M6685.0,441.5 L6693.0,429.5 6677.0,429.5\" fill=\"currentColor\"/>\n",
       "</g>\n",
       "\n",
       "<g class=\"displacy-arrow\">\n",
       "    <path class=\"displacy-arc\" id=\"arrow-7d7122b2de174f2d8b31c462ed8cbc58-0-36\" stroke-width=\"2px\" d=\"M6720,439.5 C6720,352.0 6855.0,352.0 6855.0,439.5\" fill=\"none\" stroke=\"currentColor\"/>\n",
       "    <text dy=\"1.25em\" style=\"font-size: 0.8em; letter-spacing: 1px\">\n",
       "        <textPath xlink:href=\"#arrow-7d7122b2de174f2d8b31c462ed8cbc58-0-36\" class=\"displacy-label\" startOffset=\"50%\" side=\"left\" fill=\"currentColor\" text-anchor=\"middle\">acomp</textPath>\n",
       "    </text>\n",
       "    <path class=\"displacy-arrowhead\" d=\"M6855.0,441.5 L6863.0,429.5 6847.0,429.5\" fill=\"currentColor\"/>\n",
       "</g>\n",
       "</svg></span>"
      ],
      "text/plain": [
       "<IPython.core.display.HTML object>"
      ]
     },
     "metadata": {},
     "output_type": "display_data"
    }
   ],
   "source": [
    "spacy.displacy.render(\n",
    "    pipe.ent_doc,\n",
    "    style = \"dep\",\n",
    "    jupyter = True,\n",
    ")"
   ]
  },
  {
   "cell_type": "markdown",
   "id": "5e9de8e0-5a79-45f9-8c9d-6c68c560040e",
   "metadata": {},
   "source": [
    "## collect graph elements from the parse"
   ]
  },
  {
   "cell_type": "code",
   "execution_count": 9,
   "id": "4d5abe40-d483-44f5-a747-92e0ac9c8b0d",
   "metadata": {
    "execution": {
     "iopub.execute_input": "2023-12-12T20:23:00.927708Z",
     "iopub.status.busy": "2023-12-12T20:23:00.926918Z",
     "iopub.status.idle": "2023-12-12T20:23:00.939902Z",
     "shell.execute_reply": "2023-12-12T20:23:00.937761Z",
     "shell.execute_reply.started": "2023-12-12T20:23:00.927640Z"
    }
   },
   "outputs": [],
   "source": [
    "tg.collect_graph_elements(\n",
    "    pipe,\n",
    "    debug = False,\n",
    ")"
   ]
  },
  {
   "cell_type": "code",
   "execution_count": 10,
   "id": "7c440db4-fc01-44ff-8d8d-03517cc1f1e4",
   "metadata": {
    "execution": {
     "iopub.execute_input": "2023-12-12T20:23:02.741904Z",
     "iopub.status.busy": "2023-12-12T20:23:02.740854Z",
     "iopub.status.idle": "2023-12-12T20:23:03.013034Z",
     "shell.execute_reply": "2023-12-12T20:23:03.011971Z",
     "shell.execute_reply.started": "2023-12-12T20:23:02.741822Z"
    },
    "scrolled": true
   },
   "outputs": [
    {
     "name": "stderr",
     "output_type": "stream",
     "text": [
      "ic| len(tg.nodes.values()): 50\n",
      "ic| len(tg.edges.values()): 54\n"
     ]
    }
   ],
   "source": [
    "ic(len(tg.nodes.values()));\n",
    "ic(len(tg.edges.values()));"
   ]
  },
  {
   "cell_type": "markdown",
   "id": "76caa0e6-351a-48e8-9e1f-94a31d612ee4",
   "metadata": {},
   "source": [
    "## perform entity linking"
   ]
  },
  {
   "cell_type": "code",
   "execution_count": 11,
   "id": "6d23e215-9d8c-4e03-8040-fa9398fad62b",
   "metadata": {
    "execution": {
     "iopub.execute_input": "2023-12-12T20:23:05.780951Z",
     "iopub.status.busy": "2023-12-12T20:23:05.780218Z",
     "iopub.status.idle": "2023-12-12T20:23:14.474762Z",
     "shell.execute_reply": "2023-12-12T20:23:14.473099Z",
     "shell.execute_reply.started": "2023-12-12T20:23:05.780887Z"
    }
   },
   "outputs": [],
   "source": [
    "tg.perform_entity_linking(\n",
    "    pipe,\n",
    "    dbpedia_search_api = textgraph.DBPEDIA_SEARCH_API,\n",
    "\tmin_alias = textgraph.DBPEDIA_MIN_ALIAS,\n",
    "    min_similarity = textgraph.DBPEDIA_MIN_SIM,\n",
    "    debug = False,\n",
    ")"
   ]
  },
  {
   "cell_type": "markdown",
   "id": "76fa3fcb-6432-4ed5-80d1-569be4253e6e",
   "metadata": {},
   "source": [
    "## construct a lemma graph"
   ]
  },
  {
   "cell_type": "code",
   "execution_count": 12,
   "id": "79efb0d1-dfc4-4f45-8c4e-b42a080832e7",
   "metadata": {
    "execution": {
     "iopub.execute_input": "2023-12-12T20:23:21.961650Z",
     "iopub.status.busy": "2023-12-12T20:23:21.960891Z",
     "iopub.status.idle": "2023-12-12T20:23:21.970329Z",
     "shell.execute_reply": "2023-12-12T20:23:21.968241Z",
     "shell.execute_reply.started": "2023-12-12T20:23:21.961584Z"
    }
   },
   "outputs": [],
   "source": [
    "tg.construct_lemma_graph(\n",
    "    debug = False,\n",
    ")"
   ]
  },
  {
   "cell_type": "markdown",
   "id": "f7e31cf4-0f49-4fef-affa-04c9833a6236",
   "metadata": {},
   "source": [
    "## infer relations"
   ]
  },
  {
   "cell_type": "code",
   "execution_count": 13,
   "id": "32bb75af-e806-4334-a876-127f2704ffbf",
   "metadata": {
    "execution": {
     "iopub.execute_input": "2023-12-12T20:23:25.806860Z",
     "iopub.status.busy": "2023-12-12T20:23:25.806115Z",
     "iopub.status.idle": "2023-12-12T20:24:11.673971Z",
     "shell.execute_reply": "2023-12-12T20:24:11.669268Z",
     "shell.execute_reply.started": "2023-12-12T20:23:25.806805Z"
    }
   },
   "outputs": [
    {
     "name": "stderr",
     "output_type": "stream",
     "text": [
      "Special tokens have been added in the vocabulary, make sure the associated word embeddings are fine-tuned or trained.\n"
     ]
    },
    {
     "data": {
      "text/plain": [
       "[Edge(src_node=0, dst_node=10, kind=<RelEnum.INF: 2>, rel='https://schema.org/nationality', prob=0.9116277694702148, count=1),\n",
       " Edge(src_node=15, dst_node=0, kind=<RelEnum.INF: 2>, rel='https://schema.org/children', prob=1.0, count=1),\n",
       " Edge(src_node=25, dst_node=0, kind=<RelEnum.INF: 2>, rel='https://schema.org/children', prob=1.0, count=1),\n",
       " Edge(src_node=40, dst_node=35, kind=<RelEnum.INF: 2>, rel='https://schema.org/event', prob=1.0, count=1)]"
      ]
     },
     "execution_count": 13,
     "metadata": {},
     "output_type": "execute_result"
    }
   ],
   "source": [
    "inferred_edges: list = tg.infer_relations(\n",
    "    pipe,\n",
    "    wikidata_api = textgraph.WIKIDATA_API,\n",
    "\tmax_skip = textgraph.MAX_SKIP,\n",
    "    opennre_min_prob = textgraph.OPENNRE_MIN_PROB,\n",
    "    debug = False,\n",
    ")\n",
    "\n",
    "inferred_edges"
   ]
  },
  {
   "cell_type": "markdown",
   "id": "84a4b0c6-ebd5-4794-ac2d-ee191ab7ed0b",
   "metadata": {},
   "source": [
    "## extract ranked entities"
   ]
  },
  {
   "cell_type": "code",
   "execution_count": 14,
   "id": "70134eb6-c1b4-474e-81cd-12b6b7f38afd",
   "metadata": {
    "execution": {
     "iopub.execute_input": "2023-12-12T20:24:11.687739Z",
     "iopub.status.busy": "2023-12-12T20:24:11.686412Z",
     "iopub.status.idle": "2023-12-12T20:24:12.042318Z",
     "shell.execute_reply": "2023-12-12T20:24:12.041000Z",
     "shell.execute_reply.started": "2023-12-12T20:24:11.687685Z"
    },
    "scrolled": true
   },
   "outputs": [
    {
     "name": "stderr",
     "output_type": "stream",
     "text": [
      "huggingface/tokenizers: The current process just got forked, after parallelism has already been used. Disabling parallelism to avoid deadlocks...\n",
      "To disable this warning, you can either:\n",
      "\t- Avoid using `tokenizers` before the fork if possible\n",
      "\t- Explicitly set the environment variable TOKENIZERS_PARALLELISM=(true | false)\n"
     ]
    }
   ],
   "source": [
    "tg.calc_phrase_ranks(\n",
    "    pr_alpha = textgraph.PAGERANK_ALPHA,\n",
    "    debug = False,\n",
    ")"
   ]
  },
  {
   "cell_type": "markdown",
   "id": "1ba5b734-665a-4bc0-9eca-11b2ba074fed",
   "metadata": {},
   "source": [
    "show the resulting entities extracted from the document"
   ]
  },
  {
   "cell_type": "code",
   "execution_count": 15,
   "id": "a77a0ede-2225-47c1-8ea8-4ae2220aa086",
   "metadata": {
    "execution": {
     "iopub.execute_input": "2023-12-12T20:24:19.256327Z",
     "iopub.status.busy": "2023-12-12T20:24:19.255581Z",
     "iopub.status.idle": "2023-12-12T20:24:19.328868Z",
     "shell.execute_reply": "2023-12-12T20:24:19.327786Z",
     "shell.execute_reply.started": "2023-12-12T20:24:19.256259Z"
    },
    "scrolled": true
   },
   "outputs": [
    {
     "data": {
      "text/html": [
       "<div>\n",
       "<style scoped>\n",
       "    .dataframe tbody tr th:only-of-type {\n",
       "        vertical-align: middle;\n",
       "    }\n",
       "\n",
       "    .dataframe tbody tr th {\n",
       "        vertical-align: top;\n",
       "    }\n",
       "\n",
       "    .dataframe thead th {\n",
       "        text-align: right;\n",
       "    }\n",
       "</style>\n",
       "<table border=\"1\" class=\"dataframe\">\n",
       "  <thead>\n",
       "    <tr style=\"text-align: right;\">\n",
       "      <th></th>\n",
       "      <th>node_id</th>\n",
       "      <th>text</th>\n",
       "      <th>pos</th>\n",
       "      <th>label</th>\n",
       "      <th>count</th>\n",
       "      <th>weight</th>\n",
       "    </tr>\n",
       "  </thead>\n",
       "  <tbody>\n",
       "    <tr>\n",
       "      <th>0</th>\n",
       "      <td>0</td>\n",
       "      <td>Werner Herzog</td>\n",
       "      <td>PROPN</td>\n",
       "      <td>dbr:Werner_Herzog</td>\n",
       "      <td>2</td>\n",
       "      <td>0.067093</td>\n",
       "    </tr>\n",
       "    <tr>\n",
       "      <th>1</th>\n",
       "      <td>10</td>\n",
       "      <td>Germany</td>\n",
       "      <td>PROPN</td>\n",
       "      <td>dbr:Germany</td>\n",
       "      <td>1</td>\n",
       "      <td>0.065849</td>\n",
       "    </tr>\n",
       "    <tr>\n",
       "      <th>2</th>\n",
       "      <td>15</td>\n",
       "      <td>Dietrich Herzog</td>\n",
       "      <td>PROPN</td>\n",
       "      <td>dbo:Person</td>\n",
       "      <td>1</td>\n",
       "      <td>0.064747</td>\n",
       "    </tr>\n",
       "    <tr>\n",
       "      <th>3</th>\n",
       "      <td>40</td>\n",
       "      <td>America</td>\n",
       "      <td>PROPN</td>\n",
       "      <td>dbo:Country</td>\n",
       "      <td>1</td>\n",
       "      <td>0.064747</td>\n",
       "    </tr>\n",
       "    <tr>\n",
       "      <th>4</th>\n",
       "      <td>20</td>\n",
       "      <td>fact</td>\n",
       "      <td>NOUN</td>\n",
       "      <td>None</td>\n",
       "      <td>1</td>\n",
       "      <td>0.062568</td>\n",
       "    </tr>\n",
       "    <tr>\n",
       "      <th>5</th>\n",
       "      <td>35</td>\n",
       "      <td>war</td>\n",
       "      <td>NOUN</td>\n",
       "      <td>None</td>\n",
       "      <td>1</td>\n",
       "      <td>0.062568</td>\n",
       "    </tr>\n",
       "    <tr>\n",
       "      <th>6</th>\n",
       "      <td>37</td>\n",
       "      <td>Werner</td>\n",
       "      <td>PROPN</td>\n",
       "      <td>dbo:Person</td>\n",
       "      <td>1</td>\n",
       "      <td>0.062568</td>\n",
       "    </tr>\n",
       "    <tr>\n",
       "      <th>7</th>\n",
       "      <td>4</td>\n",
       "      <td>filmmaker</td>\n",
       "      <td>NOUN</td>\n",
       "      <td>None</td>\n",
       "      <td>1</td>\n",
       "      <td>0.061494</td>\n",
       "    </tr>\n",
       "    <tr>\n",
       "      <th>8</th>\n",
       "      <td>25</td>\n",
       "      <td>father</td>\n",
       "      <td>NOUN</td>\n",
       "      <td>None</td>\n",
       "      <td>1</td>\n",
       "      <td>0.061320</td>\n",
       "    </tr>\n",
       "    <tr>\n",
       "      <th>9</th>\n",
       "      <td>45</td>\n",
       "      <td>a remarkable filmmaker</td>\n",
       "      <td>noun_chunk</td>\n",
       "      <td>None</td>\n",
       "      <td>1</td>\n",
       "      <td>0.061320</td>\n",
       "    </tr>\n",
       "    <tr>\n",
       "      <th>10</th>\n",
       "      <td>46</td>\n",
       "      <td>an intellectual</td>\n",
       "      <td>noun_chunk</td>\n",
       "      <td>None</td>\n",
       "      <td>1</td>\n",
       "      <td>0.061320</td>\n",
       "    </tr>\n",
       "    <tr>\n",
       "      <th>11</th>\n",
       "      <td>47</td>\n",
       "      <td>the son</td>\n",
       "      <td>noun_chunk</td>\n",
       "      <td>None</td>\n",
       "      <td>1</td>\n",
       "      <td>0.061320</td>\n",
       "    </tr>\n",
       "    <tr>\n",
       "      <th>12</th>\n",
       "      <td>48</td>\n",
       "      <td>his father</td>\n",
       "      <td>noun_chunk</td>\n",
       "      <td>None</td>\n",
       "      <td>1</td>\n",
       "      <td>0.061320</td>\n",
       "    </tr>\n",
       "    <tr>\n",
       "      <th>13</th>\n",
       "      <td>49</td>\n",
       "      <td>the war</td>\n",
       "      <td>noun_chunk</td>\n",
       "      <td>None</td>\n",
       "      <td>1</td>\n",
       "      <td>0.061320</td>\n",
       "    </tr>\n",
       "    <tr>\n",
       "      <th>14</th>\n",
       "      <td>7</td>\n",
       "      <td>intellectual</td>\n",
       "      <td>NOUN</td>\n",
       "      <td>None</td>\n",
       "      <td>1</td>\n",
       "      <td>0.060223</td>\n",
       "    </tr>\n",
       "    <tr>\n",
       "      <th>15</th>\n",
       "      <td>13</td>\n",
       "      <td>son</td>\n",
       "      <td>NOUN</td>\n",
       "      <td>None</td>\n",
       "      <td>1</td>\n",
       "      <td>0.060223</td>\n",
       "    </tr>\n",
       "  </tbody>\n",
       "</table>\n",
       "</div>"
      ],
      "text/plain": [
       "    node_id                    text         pos              label  count  \\\n",
       "0         0           Werner Herzog       PROPN  dbr:Werner_Herzog      2   \n",
       "1        10                 Germany       PROPN        dbr:Germany      1   \n",
       "2        15         Dietrich Herzog       PROPN         dbo:Person      1   \n",
       "3        40                 America       PROPN        dbo:Country      1   \n",
       "4        20                    fact        NOUN               None      1   \n",
       "5        35                     war        NOUN               None      1   \n",
       "6        37                  Werner       PROPN         dbo:Person      1   \n",
       "7         4               filmmaker        NOUN               None      1   \n",
       "8        25                  father        NOUN               None      1   \n",
       "9        45  a remarkable filmmaker  noun_chunk               None      1   \n",
       "10       46         an intellectual  noun_chunk               None      1   \n",
       "11       47                 the son  noun_chunk               None      1   \n",
       "12       48              his father  noun_chunk               None      1   \n",
       "13       49                 the war  noun_chunk               None      1   \n",
       "14        7            intellectual        NOUN               None      1   \n",
       "15       13                     son        NOUN               None      1   \n",
       "\n",
       "      weight  \n",
       "0   0.067093  \n",
       "1   0.065849  \n",
       "2   0.064747  \n",
       "3   0.064747  \n",
       "4   0.062568  \n",
       "5   0.062568  \n",
       "6   0.062568  \n",
       "7   0.061494  \n",
       "8   0.061320  \n",
       "9   0.061320  \n",
       "10  0.061320  \n",
       "11  0.061320  \n",
       "12  0.061320  \n",
       "13  0.061320  \n",
       "14  0.060223  \n",
       "15  0.060223  "
      ]
     },
     "execution_count": 15,
     "metadata": {},
     "output_type": "execute_result"
    }
   ],
   "source": [
    "df: pd.DataFrame = tg.get_phrases_as_df(pipe)\n",
    "df"
   ]
  },
  {
   "cell_type": "markdown",
   "id": "3143955c-446a-4e6c-834c-583ab173f446",
   "metadata": {},
   "source": [
    "## visualize the lemma graph"
   ]
  },
  {
   "cell_type": "code",
   "execution_count": 16,
   "id": "05b409af-14df-4158-9709-ffe2d79e864b",
   "metadata": {
    "execution": {
     "iopub.execute_input": "2023-12-12T20:24:25.415648Z",
     "iopub.status.busy": "2023-12-12T20:24:25.414384Z",
     "iopub.status.idle": "2023-12-12T20:24:25.436252Z",
     "shell.execute_reply": "2023-12-12T20:24:25.435119Z",
     "shell.execute_reply.started": "2023-12-12T20:24:25.415509Z"
    },
    "scrolled": true
   },
   "outputs": [],
   "source": [
    "render: textgraph.RenderPyVis = textgraph.RenderPyVis(\n",
    "    tg.nodes,\n",
    "    tg.edges,\n",
    "    tg.lemma_graph,\n",
    ")\n",
    "\n",
    "pv_graph: pyvis.network.Network = render.render_lemma_graph(\n",
    "    pipe,\n",
    "    debug = False,\n",
    ")"
   ]
  },
  {
   "cell_type": "markdown",
   "id": "7b5d3e88-6669-4df1-a20a-587cc6a7db12",
   "metadata": {},
   "source": [
    "initialize the layout parameters"
   ]
  },
  {
   "cell_type": "code",
   "execution_count": 17,
   "id": "b212f5ed-03d6-439f-92ae-f2cbedb18609",
   "metadata": {
    "execution": {
     "iopub.execute_input": "2023-12-12T20:24:27.824041Z",
     "iopub.status.busy": "2023-12-12T20:24:27.823288Z",
     "iopub.status.idle": "2023-12-12T20:24:27.833168Z",
     "shell.execute_reply": "2023-12-12T20:24:27.831711Z",
     "shell.execute_reply.started": "2023-12-12T20:24:27.823976Z"
    }
   },
   "outputs": [],
   "source": [
    "pv_graph.force_atlas_2based(\n",
    "    gravity = -38,\n",
    "    central_gravity = 0.01,\n",
    "    spring_length = 231,\n",
    "    spring_strength = 0.7,\n",
    "    damping = 0.8,\n",
    "    overlap = 0,\n",
    ")\n",
    "\n",
    "pv_graph.show_buttons(filter_ = [ \"physics\" ])\n",
    "pv_graph.toggle_physics(True)"
   ]
  },
  {
   "cell_type": "code",
   "execution_count": 18,
   "id": "2f952a7c-3130-49c9-b659-fb941e9e0bfe",
   "metadata": {
    "execution": {
     "iopub.execute_input": "2023-12-12T20:24:28.714847Z",
     "iopub.status.busy": "2023-12-12T20:24:28.714227Z",
     "iopub.status.idle": "2023-12-12T20:24:28.816683Z",
     "shell.execute_reply": "2023-12-12T20:24:28.815348Z",
     "shell.execute_reply.started": "2023-12-12T20:24:28.714798Z"
    }
   },
   "outputs": [
    {
     "name": "stdout",
     "output_type": "stream",
     "text": [
      "vis.html\n"
     ]
    },
    {
     "data": {
      "text/html": [
       "\n",
       "        <iframe\n",
       "            width=\"100%\"\n",
       "            height=\"600px\"\n",
       "            src=\"vis.html\"\n",
       "            frameborder=\"0\"\n",
       "            allowfullscreen\n",
       "            \n",
       "        ></iframe>\n",
       "        "
      ],
      "text/plain": [
       "<IPython.lib.display.IFrame at 0x7f79bb9a3e50>"
      ]
     },
     "execution_count": 18,
     "metadata": {},
     "output_type": "execute_result"
    }
   ],
   "source": [
    "pv_graph.prep_notebook()\n",
    "pv_graph.show(\"vis.html\")"
   ]
  },
  {
   "cell_type": "markdown",
   "id": "dc6654c8-0a4c-4e62-8cfc-f49e33f81064",
   "metadata": {},
   "source": [
    "## generate a word cloud"
   ]
  },
  {
   "cell_type": "code",
   "execution_count": 19,
   "id": "ba9543cd-b1e9-4f0a-930c-7a0a6ccb7f0a",
   "metadata": {
    "execution": {
     "iopub.execute_input": "2023-12-12T20:24:34.108786Z",
     "iopub.status.busy": "2023-12-12T20:24:34.107723Z",
     "iopub.status.idle": "2023-12-12T20:24:34.358991Z",
     "shell.execute_reply": "2023-12-12T20:24:34.358010Z",
     "shell.execute_reply.started": "2023-12-12T20:24:34.108704Z"
    }
   },
   "outputs": [
    {
     "data": {
      "image/jpeg": "[encoded data removed]",
      "image/png": "[encoded data removed]",
      "text/plain": [
       "<PIL.Image.Image image mode=RGB size=400x200>"
      ]
     },
     "metadata": {},
     "output_type": "display_data"
    }
   ],
   "source": [
    "wordcloud = render.generate_wordcloud()\n",
    "display(wordcloud.to_image())"
   ]
  },
  {
   "cell_type": "markdown",
   "id": "9e55b207-16d2-488a-b89b-b6ea8aed0ad9",
   "metadata": {},
   "source": [
    "## cluster communities in the lemma graph"
   ]
  },
  {
   "cell_type": "markdown",
   "id": "9bdcbe84-ae83-4fa6-91ad-3069b212dc72",
   "metadata": {},
   "source": [
    "In the tutorial\n",
    "<a href=\"https://towardsdatascience.com/how-to-convert-any-text-into-a-graph-of-concepts-110844f22a1a\" target=\"_blank\">\"How to Convert Any Text Into a Graph of Concepts\"</a>, \n",
    "Rahul Nayak uses the\n",
    "<a href=\"https://en.wikipedia.org/wiki/Girvan%E2%80%93Newman_algorithm\"><em>girvan-newman</em></a>\n",
    "algorithm to split the graph into communities, then clusters on those communities.\n",
    "His approach works well for unsupervised clustering of key phrases which have been extracted from many documents.\n",
    "In contrast, Nayak was working with entities extracted from \"chunks\" of text, not with a text graph."
   ]
  },
  {
   "cell_type": "code",
   "execution_count": 20,
   "id": "cd2d2f21-966e-40d6-8335-20dbfd8316ed",
   "metadata": {
    "execution": {
     "iopub.execute_input": "2023-12-12T20:24:37.207909Z",
     "iopub.status.busy": "2023-12-12T20:24:37.207161Z",
     "iopub.status.idle": "2023-12-12T20:24:38.296382Z",
     "shell.execute_reply": "2023-12-12T20:24:38.295590Z",
     "shell.execute_reply.started": "2023-12-12T20:24:37.207847Z"
    }
   },
   "outputs": [
    {
     "data": {
      "image/png": "[encoded data removed]",
      "text/plain": [
       "<Figure size 640x480 with 1 Axes>"
      ]
     },
     "metadata": {},
     "output_type": "display_data"
    }
   ],
   "source": [
    "render.draw_communities();"
   ]
  },
  {
   "cell_type": "markdown",
   "id": "ff49fe28-e75f-4590-8b87-0d8962928cba",
   "metadata": {},
   "source": [
    "## statistical stack profile instrumentation"
   ]
  },
  {
   "cell_type": "code",
   "execution_count": 21,
   "id": "af4ecb06-370f-4077-9899-29a1673e4768",
   "metadata": {
    "execution": {
     "iopub.execute_input": "2023-12-12T20:24:41.092547Z",
     "iopub.status.busy": "2023-12-12T20:24:41.091805Z",
     "iopub.status.idle": "2023-12-12T20:24:41.102764Z",
     "shell.execute_reply": "2023-12-12T20:24:41.101518Z",
     "shell.execute_reply.started": "2023-12-12T20:24:41.092484Z"
    }
   },
   "outputs": [
    {
     "data": {
      "text/plain": [
       "<pyinstrument.session.Session at 0x7f79bb0eae20>"
      ]
     },
     "execution_count": 21,
     "metadata": {},
     "output_type": "execute_result"
    }
   ],
   "source": [
    "profiler.stop()"
   ]
  },
  {
   "cell_type": "code",
   "execution_count": 22,
   "id": "d5ac2ce6-15b1-41ad-8215-8a5f76036cf1",
   "metadata": {
    "execution": {
     "iopub.execute_input": "2023-12-12T20:24:42.149730Z",
     "iopub.status.busy": "2023-12-12T20:24:42.149153Z",
     "iopub.status.idle": "2023-12-12T20:24:45.014907Z",
     "shell.execute_reply": "2023-12-12T20:24:45.014110Z",
     "shell.execute_reply.started": "2023-12-12T20:24:42.149682Z"
    }
   },
   "outputs": [
    {
     "name": "stdout",
     "output_type": "stream",
     "text": [
      "\n",
      "  _     ._   __/__   _ _  _  _ _/_   Recorded: 12:22:23  Samples:  14147\n",
      " /_//_/// /_\\ / //_// / //_'/ //     Duration: 137.122   CPU time: 101.567\n",
      "/   _/                      v4.6.1\n",
      "\n",
      "Program: /Users/paco/src/textgraph/venv/lib/python3.9/site-packages/ipykernel_launcher.py -f /Users/paco/Library/Jupyter/runtime/kernel-efae0aae-138b-48b3-8183-5c6f2677c427.json\n",
      "\n",
      "137.125 _UnixSelectorEventLoop._run_once  asyncio/base_events.py:1815\n",
      "├─ 72.599 KqueueSelector.select  selectors.py:554\n",
      "│     [2 frames hidden]  selectors, <built-in>\n",
      "│        72.599 kqueue.control  <built-in>\n",
      "└─ 64.526 Handle._run  asyncio/events.py:78\n",
      "      [12 frames hidden]  asyncio, ipykernel, IPython\n",
      "         63.505 ZMQInteractiveShell.run_ast_nodes  IPython/core/interactiveshell.py:3391\n",
      "         ├─ 45.810 <module>  ../ipykernel_28865/2510744831.py:1\n",
      "         │  └─ 45.807 TextGraph.infer_relations  textgraph/doc.py:651\n",
      "         │     └─ 44.386 TextGraph._iter_rel_rebel  textgraph/doc.py:597\n",
      "         │        ├─ 27.160 Rebel.__init__  textgraph/rebel.py:20\n",
      "         │        │  └─ 27.159 pipeline  transformers/pipelines/__init__.py:531\n",
      "         │        │        [49 frames hidden]  transformers, torch, <built-in>\n",
      "         │        └─ 16.004 Rebel.tokenize_sent  textgraph/rebel.py:37\n",
      "         │           └─ 16.002 TranslationPipeline.__call__  transformers/pipelines/text2text_generation.py:341\n",
      "         │                 [33 frames hidden]  transformers, torch, <built-in>\n",
      "         ├─ 8.687 <module>  ../ipykernel_28865/3725134767.py:1\n",
      "         │  └─ 8.687 TextGraph.perform_entity_linking  textgraph/doc.py:443\n",
      "         │     └─ 8.687 Pipeline.link_dbpedia_entities  textgraph/pipe.py:128\n",
      "         │        └─ 8.680 WikiDatum.dbpedia_search_entity  textgraph/wiki.py:214\n",
      "         │           └─ 8.625 get  requests/api.py:62\n",
      "         │                 [25 frames hidden]  requests, urllib3, http, socket, ssl,...\n",
      "         ├─ 3.265 <module>  ../ipykernel_28865/3030496048.py:1\n",
      "         │  └─ 3.265 PipelineFactory.__init__  textgraph/pipe.py:209\n",
      "         │     └─ 2.467 load  spacy/__init__.py:27\n",
      "         │           [8 frames hidden]  spacy, en_core_web_sm\n",
      "         └─ 3.050 <module>  ../ipykernel_28865/2420247274.py:1\n",
      "            └─ 3.014 PipelineFactory.__init__  textgraph/pipe.py:209\n",
      "               └─ 2.120 load  spacy/__init__.py:27\n",
      "                     [6 frames hidden]  spacy, en_core_web_sm\n",
      "\n",
      "\n"
     ]
    }
   ],
   "source": [
    "profiler.print()"
   ]
  },
  {
   "cell_type": "markdown",
   "id": "c47bcfd2-2bd6-49a5-8f1a-102d90edde39",
   "metadata": {
    "jp-MarkdownHeadingCollapsed": true
   },
   "source": [
    "## outro"
   ]
  },
  {
   "cell_type": "markdown",
   "id": "68bea4f9-aec2-4b28-8f08-a4034851d066",
   "metadata": {},
   "source": [
    "_\\[ more parts are in progress, getting added to this demo \\]_"
   ]
  }
 ],
 "metadata": {
  "kernelspec": {
   "display_name": "Python 3 (ipykernel)",
   "language": "python",
   "name": "python3"
  },
  "language_info": {
   "codemirror_mode": {
    "name": "ipython",
    "version": 3
   },
   "file_extension": ".py",
   "mimetype": "text/x-python",
   "name": "python",
   "nbconvert_exporter": "python",
   "pygments_lexer": "ipython3",
   "version": "3.9.0"
  }
 },
 "nbformat": 4,
 "nbformat_minor": 5
}
