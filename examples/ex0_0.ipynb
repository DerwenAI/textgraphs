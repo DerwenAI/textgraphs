{
 "cells": [
  {
   "cell_type": "code",
   "execution_count": 1,
   "id": "c32bf0b9-1445-4ede-ae49-7dd63ff3b08e",
   "metadata": {
    "execution": {
     "iopub.execute_input": "2024-01-03T21:12:15.832907Z",
     "iopub.status.busy": "2024-01-03T21:12:15.832526Z",
     "iopub.status.idle": "2024-01-03T21:12:15.862581Z",
     "shell.execute_reply": "2024-01-03T21:12:15.858941Z",
     "shell.execute_reply.started": "2024-01-03T21:12:15.832876Z"
    }
   },
   "outputs": [],
   "source": [
    "# for use in tutorial and development; do not include this `sys.path` change in production:\n",
    "import sys ; sys.path.insert(0, \"../\")"
   ]
  },
  {
   "cell_type": "markdown",
   "id": "c8ff5d81-110c-42ae-8aa7-ed4fffea40c6",
   "metadata": {},
   "source": [
    "# demo: TextGraphs + LLMs to construct a 'lemma graph'"
   ]
  },
  {
   "cell_type": "markdown",
   "id": "1e847d0a-bc6c-470a-9fef-620ebbdbbbc3",
   "metadata": {},
   "source": [
    "_TextGraphs_ library is intended for iterating through a sequence of paragraphs."
   ]
  },
  {
   "cell_type": "markdown",
   "id": "61d8d39a-23e4-48e7-b8f4-0dd724ccf586",
   "metadata": {},
   "source": [
    "## environment"
   ]
  },
  {
   "cell_type": "code",
   "execution_count": 2,
   "id": "22489527-2ad5-4e3c-be23-f511e6bcf69f",
   "metadata": {
    "execution": {
     "iopub.execute_input": "2024-01-03T21:12:15.870835Z",
     "iopub.status.busy": "2024-01-03T21:12:15.869285Z",
     "iopub.status.idle": "2024-01-03T21:12:24.997600Z",
     "shell.execute_reply": "2024-01-03T21:12:24.996518Z",
     "shell.execute_reply.started": "2024-01-03T21:12:15.870772Z"
    },
    "scrolled": true
   },
   "outputs": [],
   "source": [
    "from IPython.display import display, HTML, Image, SVG\n",
    "import pathlib\n",
    "import typing\n",
    "\n",
    "from icecream import ic\n",
    "from pyinstrument import Profiler\n",
    "import matplotlib.pyplot as plt\n",
    "import pandas as pd\n",
    "import pyvis\n",
    "import spacy\n",
    "\n",
    "import textgraphs"
   ]
  },
  {
   "cell_type": "code",
   "execution_count": 3,
   "id": "438f5775-487b-493e-a172-59b652b94955",
   "metadata": {
    "execution": {
     "iopub.execute_input": "2024-01-03T21:12:25.000059Z",
     "iopub.status.busy": "2024-01-03T21:12:24.999787Z",
     "iopub.status.idle": "2024-01-03T21:12:25.019570Z",
     "shell.execute_reply": "2024-01-03T21:12:25.018402Z",
     "shell.execute_reply.started": "2024-01-03T21:12:25.000031Z"
    }
   },
   "outputs": [],
   "source": [
    "%load_ext watermark"
   ]
  },
  {
   "cell_type": "code",
   "execution_count": 4,
   "id": "adc052dd-5cca-4d11-b543-3f0999f4f883",
   "metadata": {
    "execution": {
     "iopub.execute_input": "2024-01-03T21:12:25.020984Z",
     "iopub.status.busy": "2024-01-03T21:12:25.020803Z",
     "iopub.status.idle": "2024-01-03T21:12:25.055126Z",
     "shell.execute_reply": "2024-01-03T21:12:25.054248Z",
     "shell.execute_reply.started": "2024-01-03T21:12:25.020960Z"
    }
   },
   "outputs": [
    {
     "name": "stdout",
     "output_type": "stream",
     "text": [
      "Last updated: 2024-01-03T13:12:25.022356-08:00\n",
      "\n",
      "Python implementation: CPython\n",
      "Python version       : 3.10.11\n",
      "IPython version      : 8.18.1\n",
      "\n",
      "Compiler    : Clang 13.0.0 (clang-1300.0.29.30)\n",
      "OS          : Darwin\n",
      "Release     : 21.6.0\n",
      "Machine     : x86_64\n",
      "Processor   : i386\n",
      "CPU cores   : 8\n",
      "Architecture: 64bit\n",
      "\n"
     ]
    }
   ],
   "source": [
    "%watermark"
   ]
  },
  {
   "cell_type": "code",
   "execution_count": 5,
   "id": "6e4618da-daf9-44c9-adbb-e5781dba5504",
   "metadata": {
    "execution": {
     "iopub.execute_input": "2024-01-03T21:12:25.058245Z",
     "iopub.status.busy": "2024-01-03T21:12:25.057548Z",
     "iopub.status.idle": "2024-01-03T21:12:25.084166Z",
     "shell.execute_reply": "2024-01-03T21:12:25.083463Z",
     "shell.execute_reply.started": "2024-01-03T21:12:25.058175Z"
    }
   },
   "outputs": [
    {
     "name": "stdout",
     "output_type": "stream",
     "text": [
      "sys       : 3.10.11 (v3.10.11:7d4cc5aa85, Apr  4 2023, 19:05:19) [Clang 13.0.0 (clang-1300.0.29.30)]\n",
      "matplotlib: 3.8.2\n",
      "textgraphs: 0.2.4\n",
      "spacy     : 3.7.2\n",
      "pandas    : 2.1.4\n",
      "pyvis     : 0.3.2\n",
      "\n"
     ]
    }
   ],
   "source": [
    "%watermark --iversions"
   ]
  },
  {
   "cell_type": "markdown",
   "id": "1a04e3dc-57d8-43a4-a342-cc38b86fc6a6",
   "metadata": {},
   "source": [
    "## parse a document"
   ]
  },
  {
   "cell_type": "markdown",
   "id": "7c567afd-2f44-4391-899a-da6aba3d222e",
   "metadata": {},
   "source": [
    "provide the source text"
   ]
  },
  {
   "cell_type": "code",
   "execution_count": 6,
   "id": "630430c5-21dc-4897-9a4b-3b01baf3de17",
   "metadata": {
    "execution": {
     "iopub.execute_input": "2024-01-03T21:12:25.086445Z",
     "iopub.status.busy": "2024-01-03T21:12:25.086139Z",
     "iopub.status.idle": "2024-01-03T21:12:25.093053Z",
     "shell.execute_reply": "2024-01-03T21:12:25.091850Z",
     "shell.execute_reply.started": "2024-01-03T21:12:25.086412Z"
    }
   },
   "outputs": [],
   "source": [
    "SRC_TEXT: str = \"\"\"                                                                                                                      \n",
    "Werner Herzog is a remarkable filmmaker and an intellectual originally from Germany, the son of Dietrich Herzog.\n",
    "After the war, Werner fled to America to become famous.\n",
    "\"\"\""
   ]
  },
  {
   "cell_type": "markdown",
   "id": "01152885-f301-49b1-ab61-f5b19d81c036",
   "metadata": {},
   "source": [
    "set up the statistical stack profiling"
   ]
  },
  {
   "cell_type": "code",
   "execution_count": 7,
   "id": "2a289117-301d-4027-ae1b-200201fb5f93",
   "metadata": {
    "execution": {
     "iopub.execute_input": "2024-01-03T21:12:25.103325Z",
     "iopub.status.busy": "2024-01-03T21:12:25.102887Z",
     "iopub.status.idle": "2024-01-03T21:12:25.110055Z",
     "shell.execute_reply": "2024-01-03T21:12:25.108230Z",
     "shell.execute_reply.started": "2024-01-03T21:12:25.103277Z"
    }
   },
   "outputs": [],
   "source": [
    "profiler: Profiler = Profiler()\n",
    "profiler.start()"
   ]
  },
  {
   "cell_type": "markdown",
   "id": "bf9d4f99-b82b-4d11-a9a4-31d0337f4aa8",
   "metadata": {},
   "source": [
    "set up the `TextGraphs` pipeline"
   ]
  },
  {
   "cell_type": "code",
   "execution_count": 8,
   "id": "da6fcb0f-b2ac-4f74-af39-2c129c750cab",
   "metadata": {
    "execution": {
     "iopub.execute_input": "2024-01-03T21:12:25.114377Z",
     "iopub.status.busy": "2024-01-03T21:12:25.113677Z",
     "iopub.status.idle": "2024-01-03T21:12:49.423613Z",
     "shell.execute_reply": "2024-01-03T21:12:49.422462Z",
     "shell.execute_reply.started": "2024-01-03T21:12:25.114325Z"
    }
   },
   "outputs": [],
   "source": [
    "tg: textgraphs.TextGraphs = textgraphs.TextGraphs(\n",
    "    factory = textgraphs.PipelineFactory(\n",
    "        spacy_model = textgraphs.SPACY_MODEL,\n",
    "        ner = None,\n",
    "        kg = textgraphs.KGWikiMedia(\n",
    "            spotlight_api = textgraphs.DBPEDIA_SPOTLIGHT_API,\n",
    "            dbpedia_search_api = textgraphs.DBPEDIA_SEARCH_API,\n",
    "            dbpedia_sparql_api = textgraphs.DBPEDIA_SPARQL_API,\n",
    "    \t\twikidata_api = textgraphs.WIKIDATA_API,\n",
    "            min_alias = textgraphs.DBPEDIA_MIN_ALIAS,\n",
    "            min_similarity = textgraphs.DBPEDIA_MIN_SIM,\n",
    "        ),\n",
    "        infer_rels = [\n",
    "    \t\ttextgraphs.InferRel_OpenNRE(\n",
    "                model = textgraphs.OPENNRE_MODEL,\n",
    "                max_skip = textgraphs.MAX_SKIP,\n",
    "                min_prob = textgraphs.OPENNRE_MIN_PROB,\n",
    "    \t\t),\n",
    "            textgraphs.InferRel_Rebel(\n",
    "                lang = \"en_XX\",\n",
    "                mrebel_model = textgraphs.MREBEL_MODEL,\n",
    "            ),\n",
    "        ],\n",
    "    ),\n",
    ")\n",
    "\n",
    "pipe: textgraphs.Pipeline = tg.create_pipeline(\n",
    "    SRC_TEXT.strip(),\n",
    ")"
   ]
  },
  {
   "cell_type": "markdown",
   "id": "8b71b841-0cf5-4cc6-af4c-c85344b8f6c5",
   "metadata": {},
   "source": [
    "## visualize the parse results"
   ]
  },
  {
   "cell_type": "code",
   "execution_count": 9,
   "id": "5901a49e-3f90-4061-9c3a-e9d1f05b40f3",
   "metadata": {
    "execution": {
     "iopub.execute_input": "2024-01-03T21:12:49.425696Z",
     "iopub.status.busy": "2024-01-03T21:12:49.425344Z",
     "iopub.status.idle": "2024-01-03T21:12:49.442332Z",
     "shell.execute_reply": "2024-01-03T21:12:49.440507Z",
     "shell.execute_reply.started": "2024-01-03T21:12:49.425656Z"
    }
   },
   "outputs": [
    {
     "data": {
      "text/html": [
       "<span class=\"tex2jax_ignore\"><div class=\"entities\" style=\"line-height: 2.5; direction: ltr\">\n",
       "<mark class=\"entity\" style=\"background: #aa9cfc; padding: 0.45em 0.6em; margin: 0 0.25em; line-height: 1; border-radius: 0.35em;\">\n",
       "    Werner Herzog\n",
       "    <span style=\"font-size: 0.8em; font-weight: bold; line-height: 1; border-radius: 0.35em; vertical-align: middle; margin-left: 0.5rem\">PERSON</span>\n",
       "</mark>\n",
       " is a remarkable filmmaker and an intellectual originally from \n",
       "<mark class=\"entity\" style=\"background: #feca74; padding: 0.45em 0.6em; margin: 0 0.25em; line-height: 1; border-radius: 0.35em;\">\n",
       "    Germany\n",
       "    <span style=\"font-size: 0.8em; font-weight: bold; line-height: 1; border-radius: 0.35em; vertical-align: middle; margin-left: 0.5rem\">GPE</span>\n",
       "</mark>\n",
       ", the son of \n",
       "<mark class=\"entity\" style=\"background: #aa9cfc; padding: 0.45em 0.6em; margin: 0 0.25em; line-height: 1; border-radius: 0.35em;\">\n",
       "    Dietrich Herzog\n",
       "    <span style=\"font-size: 0.8em; font-weight: bold; line-height: 1; border-radius: 0.35em; vertical-align: middle; margin-left: 0.5rem\">PERSON</span>\n",
       "</mark>\n",
       ".<br>After the war, \n",
       "<mark class=\"entity\" style=\"background: #aa9cfc; padding: 0.45em 0.6em; margin: 0 0.25em; line-height: 1; border-radius: 0.35em;\">\n",
       "    Werner\n",
       "    <span style=\"font-size: 0.8em; font-weight: bold; line-height: 1; border-radius: 0.35em; vertical-align: middle; margin-left: 0.5rem\">PERSON</span>\n",
       "</mark>\n",
       " fled to \n",
       "<mark class=\"entity\" style=\"background: #feca74; padding: 0.45em 0.6em; margin: 0 0.25em; line-height: 1; border-radius: 0.35em;\">\n",
       "    America\n",
       "    <span style=\"font-size: 0.8em; font-weight: bold; line-height: 1; border-radius: 0.35em; vertical-align: middle; margin-left: 0.5rem\">GPE</span>\n",
       "</mark>\n",
       " to become famous.</div></span>"
      ],
      "text/plain": [
       "<IPython.core.display.HTML object>"
      ]
     },
     "metadata": {},
     "output_type": "display_data"
    }
   ],
   "source": [
    "spacy.displacy.render(\n",
    "    pipe.ner_doc,\n",
    "    style = \"ent\",\n",
    "    jupyter = True,\n",
    ")"
   ]
  },
  {
   "cell_type": "code",
   "execution_count": 10,
   "id": "ffc0863d-5ed4-4857-aee1-96f26472f1ef",
   "metadata": {
    "execution": {
     "iopub.execute_input": "2024-01-03T21:12:49.445828Z",
     "iopub.status.busy": "2024-01-03T21:12:49.445342Z",
     "iopub.status.idle": "2024-01-03T21:12:49.492337Z",
     "shell.execute_reply": "2024-01-03T21:12:49.491529Z",
     "shell.execute_reply.started": "2024-01-03T21:12:49.445789Z"
    }
   },
   "outputs": [
    {
     "data": {
      "image/svg+xml": [
       "<svg xmlns=\"http://www.w3.org/2000/svg\" xmlns:xlink=\"http://www.w3.org/1999/xlink\" xml:lang=\"en\" id=\"5f1eade4b81a4b0aac07b62fb1723f6f-0\" class=\"displacy\" width=\"4600\" height=\"487.0\" direction=\"ltr\" style=\"max-width: none; height: 487.0px; color: #000000; background: #ffffff; font-family: Arial; direction: ltr\">\n",
       "<text class=\"displacy-token\" fill=\"currentColor\" text-anchor=\"middle\" y=\"397.0\">\n",
       "    <tspan class=\"displacy-word\" fill=\"currentColor\" x=\"50\">Werner Herzog</tspan>\n",
       "    <tspan class=\"displacy-tag\" dy=\"2em\" fill=\"currentColor\" x=\"50\">PROPN</tspan>\n",
       "</text>\n",
       "\n",
       "<text class=\"displacy-token\" fill=\"currentColor\" text-anchor=\"middle\" y=\"397.0\">\n",
       "    <tspan class=\"displacy-word\" fill=\"currentColor\" x=\"225\">is</tspan>\n",
       "    <tspan class=\"displacy-tag\" dy=\"2em\" fill=\"currentColor\" x=\"225\">AUX</tspan>\n",
       "</text>\n",
       "\n",
       "<text class=\"displacy-token\" fill=\"currentColor\" text-anchor=\"middle\" y=\"397.0\">\n",
       "    <tspan class=\"displacy-word\" fill=\"currentColor\" x=\"400\">a</tspan>\n",
       "    <tspan class=\"displacy-tag\" dy=\"2em\" fill=\"currentColor\" x=\"400\">DET</tspan>\n",
       "</text>\n",
       "\n",
       "<text class=\"displacy-token\" fill=\"currentColor\" text-anchor=\"middle\" y=\"397.0\">\n",
       "    <tspan class=\"displacy-word\" fill=\"currentColor\" x=\"575\">remarkable</tspan>\n",
       "    <tspan class=\"displacy-tag\" dy=\"2em\" fill=\"currentColor\" x=\"575\">ADJ</tspan>\n",
       "</text>\n",
       "\n",
       "<text class=\"displacy-token\" fill=\"currentColor\" text-anchor=\"middle\" y=\"397.0\">\n",
       "    <tspan class=\"displacy-word\" fill=\"currentColor\" x=\"750\">filmmaker</tspan>\n",
       "    <tspan class=\"displacy-tag\" dy=\"2em\" fill=\"currentColor\" x=\"750\">NOUN</tspan>\n",
       "</text>\n",
       "\n",
       "<text class=\"displacy-token\" fill=\"currentColor\" text-anchor=\"middle\" y=\"397.0\">\n",
       "    <tspan class=\"displacy-word\" fill=\"currentColor\" x=\"925\">and</tspan>\n",
       "    <tspan class=\"displacy-tag\" dy=\"2em\" fill=\"currentColor\" x=\"925\">CCONJ</tspan>\n",
       "</text>\n",
       "\n",
       "<text class=\"displacy-token\" fill=\"currentColor\" text-anchor=\"middle\" y=\"397.0\">\n",
       "    <tspan class=\"displacy-word\" fill=\"currentColor\" x=\"1100\">an</tspan>\n",
       "    <tspan class=\"displacy-tag\" dy=\"2em\" fill=\"currentColor\" x=\"1100\">DET</tspan>\n",
       "</text>\n",
       "\n",
       "<text class=\"displacy-token\" fill=\"currentColor\" text-anchor=\"middle\" y=\"397.0\">\n",
       "    <tspan class=\"displacy-word\" fill=\"currentColor\" x=\"1275\">intellectual</tspan>\n",
       "    <tspan class=\"displacy-tag\" dy=\"2em\" fill=\"currentColor\" x=\"1275\">NOUN</tspan>\n",
       "</text>\n",
       "\n",
       "<text class=\"displacy-token\" fill=\"currentColor\" text-anchor=\"middle\" y=\"397.0\">\n",
       "    <tspan class=\"displacy-word\" fill=\"currentColor\" x=\"1450\">originally</tspan>\n",
       "    <tspan class=\"displacy-tag\" dy=\"2em\" fill=\"currentColor\" x=\"1450\">ADV</tspan>\n",
       "</text>\n",
       "\n",
       "<text class=\"displacy-token\" fill=\"currentColor\" text-anchor=\"middle\" y=\"397.0\">\n",
       "    <tspan class=\"displacy-word\" fill=\"currentColor\" x=\"1625\">from</tspan>\n",
       "    <tspan class=\"displacy-tag\" dy=\"2em\" fill=\"currentColor\" x=\"1625\">ADP</tspan>\n",
       "</text>\n",
       "\n",
       "<text class=\"displacy-token\" fill=\"currentColor\" text-anchor=\"middle\" y=\"397.0\">\n",
       "    <tspan class=\"displacy-word\" fill=\"currentColor\" x=\"1800\">Germany,</tspan>\n",
       "    <tspan class=\"displacy-tag\" dy=\"2em\" fill=\"currentColor\" x=\"1800\">PROPN</tspan>\n",
       "</text>\n",
       "\n",
       "<text class=\"displacy-token\" fill=\"currentColor\" text-anchor=\"middle\" y=\"397.0\">\n",
       "    <tspan class=\"displacy-word\" fill=\"currentColor\" x=\"1975\">the</tspan>\n",
       "    <tspan class=\"displacy-tag\" dy=\"2em\" fill=\"currentColor\" x=\"1975\">DET</tspan>\n",
       "</text>\n",
       "\n",
       "<text class=\"displacy-token\" fill=\"currentColor\" text-anchor=\"middle\" y=\"397.0\">\n",
       "    <tspan class=\"displacy-word\" fill=\"currentColor\" x=\"2150\">son</tspan>\n",
       "    <tspan class=\"displacy-tag\" dy=\"2em\" fill=\"currentColor\" x=\"2150\">NOUN</tspan>\n",
       "</text>\n",
       "\n",
       "<text class=\"displacy-token\" fill=\"currentColor\" text-anchor=\"middle\" y=\"397.0\">\n",
       "    <tspan class=\"displacy-word\" fill=\"currentColor\" x=\"2325\">of</tspan>\n",
       "    <tspan class=\"displacy-tag\" dy=\"2em\" fill=\"currentColor\" x=\"2325\">ADP</tspan>\n",
       "</text>\n",
       "\n",
       "<text class=\"displacy-token\" fill=\"currentColor\" text-anchor=\"middle\" y=\"397.0\">\n",
       "    <tspan class=\"displacy-word\" fill=\"currentColor\" x=\"2500\">Dietrich Herzog.</tspan>\n",
       "    <tspan class=\"displacy-tag\" dy=\"2em\" fill=\"currentColor\" x=\"2500\">PUNCT</tspan>\n",
       "</text>\n",
       "\n",
       "<text class=\"displacy-token\" fill=\"currentColor\" text-anchor=\"middle\" y=\"397.0\">\n",
       "    <tspan class=\"displacy-word\" fill=\"currentColor\" x=\"2675\">\n",
       "</tspan>\n",
       "    <tspan class=\"displacy-tag\" dy=\"2em\" fill=\"currentColor\" x=\"2675\">SPACE</tspan>\n",
       "</text>\n",
       "\n",
       "<text class=\"displacy-token\" fill=\"currentColor\" text-anchor=\"middle\" y=\"397.0\">\n",
       "    <tspan class=\"displacy-word\" fill=\"currentColor\" x=\"2850\">After</tspan>\n",
       "    <tspan class=\"displacy-tag\" dy=\"2em\" fill=\"currentColor\" x=\"2850\">ADP</tspan>\n",
       "</text>\n",
       "\n",
       "<text class=\"displacy-token\" fill=\"currentColor\" text-anchor=\"middle\" y=\"397.0\">\n",
       "    <tspan class=\"displacy-word\" fill=\"currentColor\" x=\"3025\">the</tspan>\n",
       "    <tspan class=\"displacy-tag\" dy=\"2em\" fill=\"currentColor\" x=\"3025\">DET</tspan>\n",
       "</text>\n",
       "\n",
       "<text class=\"displacy-token\" fill=\"currentColor\" text-anchor=\"middle\" y=\"397.0\">\n",
       "    <tspan class=\"displacy-word\" fill=\"currentColor\" x=\"3200\">war,</tspan>\n",
       "    <tspan class=\"displacy-tag\" dy=\"2em\" fill=\"currentColor\" x=\"3200\">NOUN</tspan>\n",
       "</text>\n",
       "\n",
       "<text class=\"displacy-token\" fill=\"currentColor\" text-anchor=\"middle\" y=\"397.0\">\n",
       "    <tspan class=\"displacy-word\" fill=\"currentColor\" x=\"3375\">Werner</tspan>\n",
       "    <tspan class=\"displacy-tag\" dy=\"2em\" fill=\"currentColor\" x=\"3375\">PROPN</tspan>\n",
       "</text>\n",
       "\n",
       "<text class=\"displacy-token\" fill=\"currentColor\" text-anchor=\"middle\" y=\"397.0\">\n",
       "    <tspan class=\"displacy-word\" fill=\"currentColor\" x=\"3550\">fled</tspan>\n",
       "    <tspan class=\"displacy-tag\" dy=\"2em\" fill=\"currentColor\" x=\"3550\">VERB</tspan>\n",
       "</text>\n",
       "\n",
       "<text class=\"displacy-token\" fill=\"currentColor\" text-anchor=\"middle\" y=\"397.0\">\n",
       "    <tspan class=\"displacy-word\" fill=\"currentColor\" x=\"3725\">to</tspan>\n",
       "    <tspan class=\"displacy-tag\" dy=\"2em\" fill=\"currentColor\" x=\"3725\">ADP</tspan>\n",
       "</text>\n",
       "\n",
       "<text class=\"displacy-token\" fill=\"currentColor\" text-anchor=\"middle\" y=\"397.0\">\n",
       "    <tspan class=\"displacy-word\" fill=\"currentColor\" x=\"3900\">America</tspan>\n",
       "    <tspan class=\"displacy-tag\" dy=\"2em\" fill=\"currentColor\" x=\"3900\">PROPN</tspan>\n",
       "</text>\n",
       "\n",
       "<text class=\"displacy-token\" fill=\"currentColor\" text-anchor=\"middle\" y=\"397.0\">\n",
       "    <tspan class=\"displacy-word\" fill=\"currentColor\" x=\"4075\">to</tspan>\n",
       "    <tspan class=\"displacy-tag\" dy=\"2em\" fill=\"currentColor\" x=\"4075\">PART</tspan>\n",
       "</text>\n",
       "\n",
       "<text class=\"displacy-token\" fill=\"currentColor\" text-anchor=\"middle\" y=\"397.0\">\n",
       "    <tspan class=\"displacy-word\" fill=\"currentColor\" x=\"4250\">become</tspan>\n",
       "    <tspan class=\"displacy-tag\" dy=\"2em\" fill=\"currentColor\" x=\"4250\">VERB</tspan>\n",
       "</text>\n",
       "\n",
       "<text class=\"displacy-token\" fill=\"currentColor\" text-anchor=\"middle\" y=\"397.0\">\n",
       "    <tspan class=\"displacy-word\" fill=\"currentColor\" x=\"4425\">famous.</tspan>\n",
       "    <tspan class=\"displacy-tag\" dy=\"2em\" fill=\"currentColor\" x=\"4425\">ADJ</tspan>\n",
       "</text>\n",
       "\n",
       "<g class=\"displacy-arrow\">\n",
       "    <path class=\"displacy-arc\" id=\"arrow-5f1eade4b81a4b0aac07b62fb1723f6f-0-0\" stroke-width=\"2px\" d=\"M70,352.0 C70,264.5 210.0,264.5 210.0,352.0\" fill=\"none\" stroke=\"currentColor\"/>\n",
       "    <text dy=\"1.25em\" style=\"font-size: 0.8em; letter-spacing: 1px\">\n",
       "        <textPath xlink:href=\"#arrow-5f1eade4b81a4b0aac07b62fb1723f6f-0-0\" class=\"displacy-label\" startOffset=\"50%\" side=\"left\" fill=\"currentColor\" text-anchor=\"middle\">nsubj</textPath>\n",
       "    </text>\n",
       "    <path class=\"displacy-arrowhead\" d=\"M70,354.0 L62,342.0 78,342.0\" fill=\"currentColor\"/>\n",
       "</g>\n",
       "\n",
       "<g class=\"displacy-arrow\">\n",
       "    <path class=\"displacy-arc\" id=\"arrow-5f1eade4b81a4b0aac07b62fb1723f6f-0-1\" stroke-width=\"2px\" d=\"M420,352.0 C420,177.0 740.0,177.0 740.0,352.0\" fill=\"none\" stroke=\"currentColor\"/>\n",
       "    <text dy=\"1.25em\" style=\"font-size: 0.8em; letter-spacing: 1px\">\n",
       "        <textPath xlink:href=\"#arrow-5f1eade4b81a4b0aac07b62fb1723f6f-0-1\" class=\"displacy-label\" startOffset=\"50%\" side=\"left\" fill=\"currentColor\" text-anchor=\"middle\">det</textPath>\n",
       "    </text>\n",
       "    <path class=\"displacy-arrowhead\" d=\"M420,354.0 L412,342.0 428,342.0\" fill=\"currentColor\"/>\n",
       "</g>\n",
       "\n",
       "<g class=\"displacy-arrow\">\n",
       "    <path class=\"displacy-arc\" id=\"arrow-5f1eade4b81a4b0aac07b62fb1723f6f-0-2\" stroke-width=\"2px\" d=\"M595,352.0 C595,264.5 735.0,264.5 735.0,352.0\" fill=\"none\" stroke=\"currentColor\"/>\n",
       "    <text dy=\"1.25em\" style=\"font-size: 0.8em; letter-spacing: 1px\">\n",
       "        <textPath xlink:href=\"#arrow-5f1eade4b81a4b0aac07b62fb1723f6f-0-2\" class=\"displacy-label\" startOffset=\"50%\" side=\"left\" fill=\"currentColor\" text-anchor=\"middle\">amod</textPath>\n",
       "    </text>\n",
       "    <path class=\"displacy-arrowhead\" d=\"M595,354.0 L587,342.0 603,342.0\" fill=\"currentColor\"/>\n",
       "</g>\n",
       "\n",
       "<g class=\"displacy-arrow\">\n",
       "    <path class=\"displacy-arc\" id=\"arrow-5f1eade4b81a4b0aac07b62fb1723f6f-0-3\" stroke-width=\"2px\" d=\"M245,352.0 C245,89.5 745.0,89.5 745.0,352.0\" fill=\"none\" stroke=\"currentColor\"/>\n",
       "    <text dy=\"1.25em\" style=\"font-size: 0.8em; letter-spacing: 1px\">\n",
       "        <textPath xlink:href=\"#arrow-5f1eade4b81a4b0aac07b62fb1723f6f-0-3\" class=\"displacy-label\" startOffset=\"50%\" side=\"left\" fill=\"currentColor\" text-anchor=\"middle\">attr</textPath>\n",
       "    </text>\n",
       "    <path class=\"displacy-arrowhead\" d=\"M745.0,354.0 L753.0,342.0 737.0,342.0\" fill=\"currentColor\"/>\n",
       "</g>\n",
       "\n",
       "<g class=\"displacy-arrow\">\n",
       "    <path class=\"displacy-arc\" id=\"arrow-5f1eade4b81a4b0aac07b62fb1723f6f-0-4\" stroke-width=\"2px\" d=\"M770,352.0 C770,264.5 910.0,264.5 910.0,352.0\" fill=\"none\" stroke=\"currentColor\"/>\n",
       "    <text dy=\"1.25em\" style=\"font-size: 0.8em; letter-spacing: 1px\">\n",
       "        <textPath xlink:href=\"#arrow-5f1eade4b81a4b0aac07b62fb1723f6f-0-4\" class=\"displacy-label\" startOffset=\"50%\" side=\"left\" fill=\"currentColor\" text-anchor=\"middle\">cc</textPath>\n",
       "    </text>\n",
       "    <path class=\"displacy-arrowhead\" d=\"M910.0,354.0 L918.0,342.0 902.0,342.0\" fill=\"currentColor\"/>\n",
       "</g>\n",
       "\n",
       "<g class=\"displacy-arrow\">\n",
       "    <path class=\"displacy-arc\" id=\"arrow-5f1eade4b81a4b0aac07b62fb1723f6f-0-5\" stroke-width=\"2px\" d=\"M1120,352.0 C1120,264.5 1260.0,264.5 1260.0,352.0\" fill=\"none\" stroke=\"currentColor\"/>\n",
       "    <text dy=\"1.25em\" style=\"font-size: 0.8em; letter-spacing: 1px\">\n",
       "        <textPath xlink:href=\"#arrow-5f1eade4b81a4b0aac07b62fb1723f6f-0-5\" class=\"displacy-label\" startOffset=\"50%\" side=\"left\" fill=\"currentColor\" text-anchor=\"middle\">det</textPath>\n",
       "    </text>\n",
       "    <path class=\"displacy-arrowhead\" d=\"M1120,354.0 L1112,342.0 1128,342.0\" fill=\"currentColor\"/>\n",
       "</g>\n",
       "\n",
       "<g class=\"displacy-arrow\">\n",
       "    <path class=\"displacy-arc\" id=\"arrow-5f1eade4b81a4b0aac07b62fb1723f6f-0-6\" stroke-width=\"2px\" d=\"M770,352.0 C770,177.0 1265.0,177.0 1265.0,352.0\" fill=\"none\" stroke=\"currentColor\"/>\n",
       "    <text dy=\"1.25em\" style=\"font-size: 0.8em; letter-spacing: 1px\">\n",
       "        <textPath xlink:href=\"#arrow-5f1eade4b81a4b0aac07b62fb1723f6f-0-6\" class=\"displacy-label\" startOffset=\"50%\" side=\"left\" fill=\"currentColor\" text-anchor=\"middle\">conj</textPath>\n",
       "    </text>\n",
       "    <path class=\"displacy-arrowhead\" d=\"M1265.0,354.0 L1273.0,342.0 1257.0,342.0\" fill=\"currentColor\"/>\n",
       "</g>\n",
       "\n",
       "<g class=\"displacy-arrow\">\n",
       "    <path class=\"displacy-arc\" id=\"arrow-5f1eade4b81a4b0aac07b62fb1723f6f-0-7\" stroke-width=\"2px\" d=\"M1470,352.0 C1470,264.5 1610.0,264.5 1610.0,352.0\" fill=\"none\" stroke=\"currentColor\"/>\n",
       "    <text dy=\"1.25em\" style=\"font-size: 0.8em; letter-spacing: 1px\">\n",
       "        <textPath xlink:href=\"#arrow-5f1eade4b81a4b0aac07b62fb1723f6f-0-7\" class=\"displacy-label\" startOffset=\"50%\" side=\"left\" fill=\"currentColor\" text-anchor=\"middle\">advmod</textPath>\n",
       "    </text>\n",
       "    <path class=\"displacy-arrowhead\" d=\"M1470,354.0 L1462,342.0 1478,342.0\" fill=\"currentColor\"/>\n",
       "</g>\n",
       "\n",
       "<g class=\"displacy-arrow\">\n",
       "    <path class=\"displacy-arc\" id=\"arrow-5f1eade4b81a4b0aac07b62fb1723f6f-0-8\" stroke-width=\"2px\" d=\"M1295,352.0 C1295,177.0 1615.0,177.0 1615.0,352.0\" fill=\"none\" stroke=\"currentColor\"/>\n",
       "    <text dy=\"1.25em\" style=\"font-size: 0.8em; letter-spacing: 1px\">\n",
       "        <textPath xlink:href=\"#arrow-5f1eade4b81a4b0aac07b62fb1723f6f-0-8\" class=\"displacy-label\" startOffset=\"50%\" side=\"left\" fill=\"currentColor\" text-anchor=\"middle\">prep</textPath>\n",
       "    </text>\n",
       "    <path class=\"displacy-arrowhead\" d=\"M1615.0,354.0 L1623.0,342.0 1607.0,342.0\" fill=\"currentColor\"/>\n",
       "</g>\n",
       "\n",
       "<g class=\"displacy-arrow\">\n",
       "    <path class=\"displacy-arc\" id=\"arrow-5f1eade4b81a4b0aac07b62fb1723f6f-0-9\" stroke-width=\"2px\" d=\"M1645,352.0 C1645,264.5 1785.0,264.5 1785.0,352.0\" fill=\"none\" stroke=\"currentColor\"/>\n",
       "    <text dy=\"1.25em\" style=\"font-size: 0.8em; letter-spacing: 1px\">\n",
       "        <textPath xlink:href=\"#arrow-5f1eade4b81a4b0aac07b62fb1723f6f-0-9\" class=\"displacy-label\" startOffset=\"50%\" side=\"left\" fill=\"currentColor\" text-anchor=\"middle\">pobj</textPath>\n",
       "    </text>\n",
       "    <path class=\"displacy-arrowhead\" d=\"M1785.0,354.0 L1793.0,342.0 1777.0,342.0\" fill=\"currentColor\"/>\n",
       "</g>\n",
       "\n",
       "<g class=\"displacy-arrow\">\n",
       "    <path class=\"displacy-arc\" id=\"arrow-5f1eade4b81a4b0aac07b62fb1723f6f-0-10\" stroke-width=\"2px\" d=\"M1995,352.0 C1995,264.5 2135.0,264.5 2135.0,352.0\" fill=\"none\" stroke=\"currentColor\"/>\n",
       "    <text dy=\"1.25em\" style=\"font-size: 0.8em; letter-spacing: 1px\">\n",
       "        <textPath xlink:href=\"#arrow-5f1eade4b81a4b0aac07b62fb1723f6f-0-10\" class=\"displacy-label\" startOffset=\"50%\" side=\"left\" fill=\"currentColor\" text-anchor=\"middle\">det</textPath>\n",
       "    </text>\n",
       "    <path class=\"displacy-arrowhead\" d=\"M1995,354.0 L1987,342.0 2003,342.0\" fill=\"currentColor\"/>\n",
       "</g>\n",
       "\n",
       "<g class=\"displacy-arrow\">\n",
       "    <path class=\"displacy-arc\" id=\"arrow-5f1eade4b81a4b0aac07b62fb1723f6f-0-11\" stroke-width=\"2px\" d=\"M1820,352.0 C1820,177.0 2140.0,177.0 2140.0,352.0\" fill=\"none\" stroke=\"currentColor\"/>\n",
       "    <text dy=\"1.25em\" style=\"font-size: 0.8em; letter-spacing: 1px\">\n",
       "        <textPath xlink:href=\"#arrow-5f1eade4b81a4b0aac07b62fb1723f6f-0-11\" class=\"displacy-label\" startOffset=\"50%\" side=\"left\" fill=\"currentColor\" text-anchor=\"middle\">appos</textPath>\n",
       "    </text>\n",
       "    <path class=\"displacy-arrowhead\" d=\"M2140.0,354.0 L2148.0,342.0 2132.0,342.0\" fill=\"currentColor\"/>\n",
       "</g>\n",
       "\n",
       "<g class=\"displacy-arrow\">\n",
       "    <path class=\"displacy-arc\" id=\"arrow-5f1eade4b81a4b0aac07b62fb1723f6f-0-12\" stroke-width=\"2px\" d=\"M2170,352.0 C2170,264.5 2310.0,264.5 2310.0,352.0\" fill=\"none\" stroke=\"currentColor\"/>\n",
       "    <text dy=\"1.25em\" style=\"font-size: 0.8em; letter-spacing: 1px\">\n",
       "        <textPath xlink:href=\"#arrow-5f1eade4b81a4b0aac07b62fb1723f6f-0-12\" class=\"displacy-label\" startOffset=\"50%\" side=\"left\" fill=\"currentColor\" text-anchor=\"middle\">prep</textPath>\n",
       "    </text>\n",
       "    <path class=\"displacy-arrowhead\" d=\"M2310.0,354.0 L2318.0,342.0 2302.0,342.0\" fill=\"currentColor\"/>\n",
       "</g>\n",
       "\n",
       "<g class=\"displacy-arrow\">\n",
       "    <path class=\"displacy-arc\" id=\"arrow-5f1eade4b81a4b0aac07b62fb1723f6f-0-13\" stroke-width=\"2px\" d=\"M245,352.0 C245,2.0 2500.0,2.0 2500.0,352.0\" fill=\"none\" stroke=\"currentColor\"/>\n",
       "    <text dy=\"1.25em\" style=\"font-size: 0.8em; letter-spacing: 1px\">\n",
       "        <textPath xlink:href=\"#arrow-5f1eade4b81a4b0aac07b62fb1723f6f-0-13\" class=\"displacy-label\" startOffset=\"50%\" side=\"left\" fill=\"currentColor\" text-anchor=\"middle\">punct</textPath>\n",
       "    </text>\n",
       "    <path class=\"displacy-arrowhead\" d=\"M2500.0,354.0 L2508.0,342.0 2492.0,342.0\" fill=\"currentColor\"/>\n",
       "</g>\n",
       "\n",
       "<g class=\"displacy-arrow\">\n",
       "    <path class=\"displacy-arc\" id=\"arrow-5f1eade4b81a4b0aac07b62fb1723f6f-0-14\" stroke-width=\"2px\" d=\"M2520,352.0 C2520,264.5 2660.0,264.5 2660.0,352.0\" fill=\"none\" stroke=\"currentColor\"/>\n",
       "    <text dy=\"1.25em\" style=\"font-size: 0.8em; letter-spacing: 1px\">\n",
       "        <textPath xlink:href=\"#arrow-5f1eade4b81a4b0aac07b62fb1723f6f-0-14\" class=\"displacy-label\" startOffset=\"50%\" side=\"left\" fill=\"currentColor\" text-anchor=\"middle\">dep</textPath>\n",
       "    </text>\n",
       "    <path class=\"displacy-arrowhead\" d=\"M2660.0,354.0 L2668.0,342.0 2652.0,342.0\" fill=\"currentColor\"/>\n",
       "</g>\n",
       "\n",
       "<g class=\"displacy-arrow\">\n",
       "    <path class=\"displacy-arc\" id=\"arrow-5f1eade4b81a4b0aac07b62fb1723f6f-0-15\" stroke-width=\"2px\" d=\"M2870,352.0 C2870,89.5 3545.0,89.5 3545.0,352.0\" fill=\"none\" stroke=\"currentColor\"/>\n",
       "    <text dy=\"1.25em\" style=\"font-size: 0.8em; letter-spacing: 1px\">\n",
       "        <textPath xlink:href=\"#arrow-5f1eade4b81a4b0aac07b62fb1723f6f-0-15\" class=\"displacy-label\" startOffset=\"50%\" side=\"left\" fill=\"currentColor\" text-anchor=\"middle\">prep</textPath>\n",
       "    </text>\n",
       "    <path class=\"displacy-arrowhead\" d=\"M2870,354.0 L2862,342.0 2878,342.0\" fill=\"currentColor\"/>\n",
       "</g>\n",
       "\n",
       "<g class=\"displacy-arrow\">\n",
       "    <path class=\"displacy-arc\" id=\"arrow-5f1eade4b81a4b0aac07b62fb1723f6f-0-16\" stroke-width=\"2px\" d=\"M3045,352.0 C3045,264.5 3185.0,264.5 3185.0,352.0\" fill=\"none\" stroke=\"currentColor\"/>\n",
       "    <text dy=\"1.25em\" style=\"font-size: 0.8em; letter-spacing: 1px\">\n",
       "        <textPath xlink:href=\"#arrow-5f1eade4b81a4b0aac07b62fb1723f6f-0-16\" class=\"displacy-label\" startOffset=\"50%\" side=\"left\" fill=\"currentColor\" text-anchor=\"middle\">det</textPath>\n",
       "    </text>\n",
       "    <path class=\"displacy-arrowhead\" d=\"M3045,354.0 L3037,342.0 3053,342.0\" fill=\"currentColor\"/>\n",
       "</g>\n",
       "\n",
       "<g class=\"displacy-arrow\">\n",
       "    <path class=\"displacy-arc\" id=\"arrow-5f1eade4b81a4b0aac07b62fb1723f6f-0-17\" stroke-width=\"2px\" d=\"M2870,352.0 C2870,177.0 3190.0,177.0 3190.0,352.0\" fill=\"none\" stroke=\"currentColor\"/>\n",
       "    <text dy=\"1.25em\" style=\"font-size: 0.8em; letter-spacing: 1px\">\n",
       "        <textPath xlink:href=\"#arrow-5f1eade4b81a4b0aac07b62fb1723f6f-0-17\" class=\"displacy-label\" startOffset=\"50%\" side=\"left\" fill=\"currentColor\" text-anchor=\"middle\">pobj</textPath>\n",
       "    </text>\n",
       "    <path class=\"displacy-arrowhead\" d=\"M3190.0,354.0 L3198.0,342.0 3182.0,342.0\" fill=\"currentColor\"/>\n",
       "</g>\n",
       "\n",
       "<g class=\"displacy-arrow\">\n",
       "    <path class=\"displacy-arc\" id=\"arrow-5f1eade4b81a4b0aac07b62fb1723f6f-0-18\" stroke-width=\"2px\" d=\"M3395,352.0 C3395,264.5 3535.0,264.5 3535.0,352.0\" fill=\"none\" stroke=\"currentColor\"/>\n",
       "    <text dy=\"1.25em\" style=\"font-size: 0.8em; letter-spacing: 1px\">\n",
       "        <textPath xlink:href=\"#arrow-5f1eade4b81a4b0aac07b62fb1723f6f-0-18\" class=\"displacy-label\" startOffset=\"50%\" side=\"left\" fill=\"currentColor\" text-anchor=\"middle\">nsubj</textPath>\n",
       "    </text>\n",
       "    <path class=\"displacy-arrowhead\" d=\"M3395,354.0 L3387,342.0 3403,342.0\" fill=\"currentColor\"/>\n",
       "</g>\n",
       "\n",
       "<g class=\"displacy-arrow\">\n",
       "    <path class=\"displacy-arc\" id=\"arrow-5f1eade4b81a4b0aac07b62fb1723f6f-0-19\" stroke-width=\"2px\" d=\"M3570,352.0 C3570,264.5 3710.0,264.5 3710.0,352.0\" fill=\"none\" stroke=\"currentColor\"/>\n",
       "    <text dy=\"1.25em\" style=\"font-size: 0.8em; letter-spacing: 1px\">\n",
       "        <textPath xlink:href=\"#arrow-5f1eade4b81a4b0aac07b62fb1723f6f-0-19\" class=\"displacy-label\" startOffset=\"50%\" side=\"left\" fill=\"currentColor\" text-anchor=\"middle\">prep</textPath>\n",
       "    </text>\n",
       "    <path class=\"displacy-arrowhead\" d=\"M3710.0,354.0 L3718.0,342.0 3702.0,342.0\" fill=\"currentColor\"/>\n",
       "</g>\n",
       "\n",
       "<g class=\"displacy-arrow\">\n",
       "    <path class=\"displacy-arc\" id=\"arrow-5f1eade4b81a4b0aac07b62fb1723f6f-0-20\" stroke-width=\"2px\" d=\"M3745,352.0 C3745,264.5 3885.0,264.5 3885.0,352.0\" fill=\"none\" stroke=\"currentColor\"/>\n",
       "    <text dy=\"1.25em\" style=\"font-size: 0.8em; letter-spacing: 1px\">\n",
       "        <textPath xlink:href=\"#arrow-5f1eade4b81a4b0aac07b62fb1723f6f-0-20\" class=\"displacy-label\" startOffset=\"50%\" side=\"left\" fill=\"currentColor\" text-anchor=\"middle\">pobj</textPath>\n",
       "    </text>\n",
       "    <path class=\"displacy-arrowhead\" d=\"M3885.0,354.0 L3893.0,342.0 3877.0,342.0\" fill=\"currentColor\"/>\n",
       "</g>\n",
       "\n",
       "<g class=\"displacy-arrow\">\n",
       "    <path class=\"displacy-arc\" id=\"arrow-5f1eade4b81a4b0aac07b62fb1723f6f-0-21\" stroke-width=\"2px\" d=\"M4095,352.0 C4095,264.5 4235.0,264.5 4235.0,352.0\" fill=\"none\" stroke=\"currentColor\"/>\n",
       "    <text dy=\"1.25em\" style=\"font-size: 0.8em; letter-spacing: 1px\">\n",
       "        <textPath xlink:href=\"#arrow-5f1eade4b81a4b0aac07b62fb1723f6f-0-21\" class=\"displacy-label\" startOffset=\"50%\" side=\"left\" fill=\"currentColor\" text-anchor=\"middle\">aux</textPath>\n",
       "    </text>\n",
       "    <path class=\"displacy-arrowhead\" d=\"M4095,354.0 L4087,342.0 4103,342.0\" fill=\"currentColor\"/>\n",
       "</g>\n",
       "\n",
       "<g class=\"displacy-arrow\">\n",
       "    <path class=\"displacy-arc\" id=\"arrow-5f1eade4b81a4b0aac07b62fb1723f6f-0-22\" stroke-width=\"2px\" d=\"M3570,352.0 C3570,177.0 4240.0,177.0 4240.0,352.0\" fill=\"none\" stroke=\"currentColor\"/>\n",
       "    <text dy=\"1.25em\" style=\"font-size: 0.8em; letter-spacing: 1px\">\n",
       "        <textPath xlink:href=\"#arrow-5f1eade4b81a4b0aac07b62fb1723f6f-0-22\" class=\"displacy-label\" startOffset=\"50%\" side=\"left\" fill=\"currentColor\" text-anchor=\"middle\">advcl</textPath>\n",
       "    </text>\n",
       "    <path class=\"displacy-arrowhead\" d=\"M4240.0,354.0 L4248.0,342.0 4232.0,342.0\" fill=\"currentColor\"/>\n",
       "</g>\n",
       "\n",
       "<g class=\"displacy-arrow\">\n",
       "    <path class=\"displacy-arc\" id=\"arrow-5f1eade4b81a4b0aac07b62fb1723f6f-0-23\" stroke-width=\"2px\" d=\"M4270,352.0 C4270,264.5 4410.0,264.5 4410.0,352.0\" fill=\"none\" stroke=\"currentColor\"/>\n",
       "    <text dy=\"1.25em\" style=\"font-size: 0.8em; letter-spacing: 1px\">\n",
       "        <textPath xlink:href=\"#arrow-5f1eade4b81a4b0aac07b62fb1723f6f-0-23\" class=\"displacy-label\" startOffset=\"50%\" side=\"left\" fill=\"currentColor\" text-anchor=\"middle\">acomp</textPath>\n",
       "    </text>\n",
       "    <path class=\"displacy-arrowhead\" d=\"M4410.0,354.0 L4418.0,342.0 4402.0,342.0\" fill=\"currentColor\"/>\n",
       "</g>\n",
       "</svg>"
      ],
      "text/plain": [
       "<IPython.core.display.SVG object>"
      ]
     },
     "metadata": {},
     "output_type": "display_data"
    }
   ],
   "source": [
    "parse_svg: str = spacy.displacy.render(\n",
    "    pipe.ner_doc,\n",
    "    style = \"dep\",\n",
    "    jupyter = False,\n",
    ")\n",
    "\n",
    "display(SVG(parse_svg))"
   ]
  },
  {
   "cell_type": "markdown",
   "id": "5e9de8e0-5a79-45f9-8c9d-6c68c560040e",
   "metadata": {},
   "source": [
    "## collect graph elements from the parse"
   ]
  },
  {
   "cell_type": "code",
   "execution_count": 11,
   "id": "4d5abe40-d483-44f5-a747-92e0ac9c8b0d",
   "metadata": {
    "execution": {
     "iopub.execute_input": "2024-01-03T21:12:49.494161Z",
     "iopub.status.busy": "2024-01-03T21:12:49.493885Z",
     "iopub.status.idle": "2024-01-03T21:12:49.502775Z",
     "shell.execute_reply": "2024-01-03T21:12:49.501599Z",
     "shell.execute_reply.started": "2024-01-03T21:12:49.494119Z"
    }
   },
   "outputs": [],
   "source": [
    "tg.collect_graph_elements(\n",
    "    pipe,\n",
    "    debug = False,\n",
    ")"
   ]
  },
  {
   "cell_type": "code",
   "execution_count": 12,
   "id": "7c440db4-fc01-44ff-8d8d-03517cc1f1e4",
   "metadata": {
    "execution": {
     "iopub.execute_input": "2024-01-03T21:12:49.504834Z",
     "iopub.status.busy": "2024-01-03T21:12:49.504505Z",
     "iopub.status.idle": "2024-01-03T21:12:49.973576Z",
     "shell.execute_reply": "2024-01-03T21:12:49.972941Z",
     "shell.execute_reply.started": "2024-01-03T21:12:49.504799Z"
    },
    "scrolled": true
   },
   "outputs": [
    {
     "name": "stderr",
     "output_type": "stream",
     "text": [
      "ic| len(tg.nodes.values()): 34\n",
      "ic| len(tg.edges.values()): 37\n"
     ]
    }
   ],
   "source": [
    "ic(len(tg.nodes.values()));\n",
    "ic(len(tg.edges.values()));"
   ]
  },
  {
   "cell_type": "markdown",
   "id": "76caa0e6-351a-48e8-9e1f-94a31d612ee4",
   "metadata": {},
   "source": [
    "## perform entity linking"
   ]
  },
  {
   "cell_type": "code",
   "execution_count": 13,
   "id": "6d23e215-9d8c-4e03-8040-fa9398fad62b",
   "metadata": {
    "execution": {
     "iopub.execute_input": "2024-01-03T21:12:49.976806Z",
     "iopub.status.busy": "2024-01-03T21:12:49.976493Z",
     "iopub.status.idle": "2024-01-03T21:13:08.936096Z",
     "shell.execute_reply": "2024-01-03T21:13:08.935063Z",
     "shell.execute_reply.started": "2024-01-03T21:12:49.976772Z"
    }
   },
   "outputs": [],
   "source": [
    "tg.perform_entity_linking(\n",
    "    pipe,\n",
    "    debug = False,\n",
    ")"
   ]
  },
  {
   "cell_type": "markdown",
   "id": "f7e31cf4-0f49-4fef-affa-04c9833a6236",
   "metadata": {},
   "source": [
    "## infer relations"
   ]
  },
  {
   "cell_type": "code",
   "execution_count": 14,
   "id": "32bb75af-e806-4334-a876-127f2704ffbf",
   "metadata": {
    "execution": {
     "iopub.execute_input": "2024-01-03T21:13:08.944737Z",
     "iopub.status.busy": "2024-01-03T21:13:08.941462Z",
     "iopub.status.idle": "2024-01-03T21:13:27.401210Z",
     "shell.execute_reply": "2024-01-03T21:13:27.399632Z",
     "shell.execute_reply.started": "2024-01-03T21:13:08.944603Z"
    }
   },
   "outputs": [
    {
     "data": {
      "text/plain": [
       "[Edge(src_node=0, dst_node=10, kind=<RelEnum.INF: 2>, rel='https://schema.org/nationality', prob=1.0, count=1),\n",
       " Edge(src_node=15, dst_node=0, kind=<RelEnum.INF: 2>, rel='https://schema.org/children', prob=1.0, count=1),\n",
       " Edge(src_node=25, dst_node=20, kind=<RelEnum.INF: 2>, rel='https://schema.org/event', prob=1.0, count=1)]"
      ]
     },
     "execution_count": 14,
     "metadata": {},
     "output_type": "execute_result"
    }
   ],
   "source": [
    "inferred_edges: list = await tg.infer_relations_async(\n",
    "    pipe,\n",
    "    debug = False,\n",
    ")\n",
    "\n",
    "inferred_edges"
   ]
  },
  {
   "cell_type": "markdown",
   "id": "76fa3fcb-6432-4ed5-80d1-569be4253e6e",
   "metadata": {},
   "source": [
    "## construct a lemma graph"
   ]
  },
  {
   "cell_type": "code",
   "execution_count": 15,
   "id": "79efb0d1-dfc4-4f45-8c4e-b42a080832e7",
   "metadata": {
    "execution": {
     "iopub.execute_input": "2024-01-03T21:13:27.407900Z",
     "iopub.status.busy": "2024-01-03T21:13:27.407328Z",
     "iopub.status.idle": "2024-01-03T21:13:27.425617Z",
     "shell.execute_reply": "2024-01-03T21:13:27.424568Z",
     "shell.execute_reply.started": "2024-01-03T21:13:27.407821Z"
    }
   },
   "outputs": [],
   "source": [
    "tg.construct_lemma_graph(\n",
    "    debug = False,\n",
    ")"
   ]
  },
  {
   "cell_type": "markdown",
   "id": "84a4b0c6-ebd5-4794-ac2d-ee191ab7ed0b",
   "metadata": {},
   "source": [
    "## extract ranked entities"
   ]
  },
  {
   "cell_type": "code",
   "execution_count": 16,
   "id": "70134eb6-c1b4-474e-81cd-12b6b7f38afd",
   "metadata": {
    "execution": {
     "iopub.execute_input": "2024-01-03T21:13:27.427207Z",
     "iopub.status.busy": "2024-01-03T21:13:27.426956Z",
     "iopub.status.idle": "2024-01-03T21:13:27.942114Z",
     "shell.execute_reply": "2024-01-03T21:13:27.940884Z",
     "shell.execute_reply.started": "2024-01-03T21:13:27.427169Z"
    },
    "scrolled": true
   },
   "outputs": [],
   "source": [
    "tg.calc_phrase_ranks(\n",
    "    pr_alpha = textgraphs.PAGERANK_ALPHA,\n",
    "    debug = False,\n",
    ")"
   ]
  },
  {
   "cell_type": "markdown",
   "id": "1ba5b734-665a-4bc0-9eca-11b2ba074fed",
   "metadata": {},
   "source": [
    "show the resulting entities extracted from the document"
   ]
  },
  {
   "cell_type": "code",
   "execution_count": 17,
   "id": "a77a0ede-2225-47c1-8ea8-4ae2220aa086",
   "metadata": {
    "execution": {
     "iopub.execute_input": "2024-01-03T21:13:27.946579Z",
     "iopub.status.busy": "2024-01-03T21:13:27.946179Z",
     "iopub.status.idle": "2024-01-03T21:13:28.009935Z",
     "shell.execute_reply": "2024-01-03T21:13:28.009224Z",
     "shell.execute_reply.started": "2024-01-03T21:13:27.946541Z"
    },
    "scrolled": true
   },
   "outputs": [
    {
     "data": {
      "text/html": [
       "<div>\n",
       "<style scoped>\n",
       "    .dataframe tbody tr th:only-of-type {\n",
       "        vertical-align: middle;\n",
       "    }\n",
       "\n",
       "    .dataframe tbody tr th {\n",
       "        vertical-align: top;\n",
       "    }\n",
       "\n",
       "    .dataframe thead th {\n",
       "        text-align: right;\n",
       "    }\n",
       "</style>\n",
       "<table border=\"1\" class=\"dataframe\">\n",
       "  <thead>\n",
       "    <tr style=\"text-align: right;\">\n",
       "      <th></th>\n",
       "      <th>node_id</th>\n",
       "      <th>text</th>\n",
       "      <th>pos</th>\n",
       "      <th>label</th>\n",
       "      <th>count</th>\n",
       "      <th>weight</th>\n",
       "    </tr>\n",
       "  </thead>\n",
       "  <tbody>\n",
       "    <tr>\n",
       "      <th>0</th>\n",
       "      <td>0</td>\n",
       "      <td>Werner Herzog</td>\n",
       "      <td>PROPN</td>\n",
       "      <td>dbr:Werner_Herzog</td>\n",
       "      <td>1</td>\n",
       "      <td>0.083346</td>\n",
       "    </tr>\n",
       "    <tr>\n",
       "      <th>1</th>\n",
       "      <td>10</td>\n",
       "      <td>Germany</td>\n",
       "      <td>PROPN</td>\n",
       "      <td>dbr:Germany</td>\n",
       "      <td>1</td>\n",
       "      <td>0.083232</td>\n",
       "    </tr>\n",
       "    <tr>\n",
       "      <th>2</th>\n",
       "      <td>25</td>\n",
       "      <td>America</td>\n",
       "      <td>PROPN</td>\n",
       "      <td>dbr:United_States</td>\n",
       "      <td>1</td>\n",
       "      <td>0.080449</td>\n",
       "    </tr>\n",
       "    <tr>\n",
       "      <th>3</th>\n",
       "      <td>15</td>\n",
       "      <td>Dietrich Herzog</td>\n",
       "      <td>PROPN</td>\n",
       "      <td>dbo:Person</td>\n",
       "      <td>1</td>\n",
       "      <td>0.078961</td>\n",
       "    </tr>\n",
       "    <tr>\n",
       "      <th>4</th>\n",
       "      <td>20</td>\n",
       "      <td>war</td>\n",
       "      <td>NOUN</td>\n",
       "      <td>None</td>\n",
       "      <td>1</td>\n",
       "      <td>0.077566</td>\n",
       "    </tr>\n",
       "    <tr>\n",
       "      <th>5</th>\n",
       "      <td>22</td>\n",
       "      <td>Werner</td>\n",
       "      <td>PROPN</td>\n",
       "      <td>dbo:Person</td>\n",
       "      <td>1</td>\n",
       "      <td>0.077566</td>\n",
       "    </tr>\n",
       "    <tr>\n",
       "      <th>6</th>\n",
       "      <td>4</td>\n",
       "      <td>filmmaker</td>\n",
       "      <td>NOUN</td>\n",
       "      <td>None</td>\n",
       "      <td>1</td>\n",
       "      <td>0.076196</td>\n",
       "    </tr>\n",
       "    <tr>\n",
       "      <th>7</th>\n",
       "      <td>7</td>\n",
       "      <td>intellectual</td>\n",
       "      <td>NOUN</td>\n",
       "      <td>None</td>\n",
       "      <td>1</td>\n",
       "      <td>0.074556</td>\n",
       "    </tr>\n",
       "    <tr>\n",
       "      <th>8</th>\n",
       "      <td>13</td>\n",
       "      <td>son</td>\n",
       "      <td>NOUN</td>\n",
       "      <td>None</td>\n",
       "      <td>1</td>\n",
       "      <td>0.074556</td>\n",
       "    </tr>\n",
       "    <tr>\n",
       "      <th>9</th>\n",
       "      <td>30</td>\n",
       "      <td>a remarkable filmmaker</td>\n",
       "      <td>noun_chunk</td>\n",
       "      <td>None</td>\n",
       "      <td>1</td>\n",
       "      <td>0.074556</td>\n",
       "    </tr>\n",
       "    <tr>\n",
       "      <th>10</th>\n",
       "      <td>31</td>\n",
       "      <td>an intellectual</td>\n",
       "      <td>noun_chunk</td>\n",
       "      <td>None</td>\n",
       "      <td>1</td>\n",
       "      <td>0.073005</td>\n",
       "    </tr>\n",
       "    <tr>\n",
       "      <th>11</th>\n",
       "      <td>32</td>\n",
       "      <td>the son</td>\n",
       "      <td>noun_chunk</td>\n",
       "      <td>None</td>\n",
       "      <td>1</td>\n",
       "      <td>0.073005</td>\n",
       "    </tr>\n",
       "    <tr>\n",
       "      <th>12</th>\n",
       "      <td>33</td>\n",
       "      <td>the war</td>\n",
       "      <td>noun_chunk</td>\n",
       "      <td>None</td>\n",
       "      <td>1</td>\n",
       "      <td>0.073005</td>\n",
       "    </tr>\n",
       "  </tbody>\n",
       "</table>\n",
       "</div>"
      ],
      "text/plain": [
       "    node_id                    text         pos              label  count  \\\n",
       "0         0           Werner Herzog       PROPN  dbr:Werner_Herzog      1   \n",
       "1        10                 Germany       PROPN        dbr:Germany      1   \n",
       "2        25                 America       PROPN  dbr:United_States      1   \n",
       "3        15         Dietrich Herzog       PROPN         dbo:Person      1   \n",
       "4        20                     war        NOUN               None      1   \n",
       "5        22                  Werner       PROPN         dbo:Person      1   \n",
       "6         4               filmmaker        NOUN               None      1   \n",
       "7         7            intellectual        NOUN               None      1   \n",
       "8        13                     son        NOUN               None      1   \n",
       "9        30  a remarkable filmmaker  noun_chunk               None      1   \n",
       "10       31         an intellectual  noun_chunk               None      1   \n",
       "11       32                 the son  noun_chunk               None      1   \n",
       "12       33                 the war  noun_chunk               None      1   \n",
       "\n",
       "      weight  \n",
       "0   0.083346  \n",
       "1   0.083232  \n",
       "2   0.080449  \n",
       "3   0.078961  \n",
       "4   0.077566  \n",
       "5   0.077566  \n",
       "6   0.076196  \n",
       "7   0.074556  \n",
       "8   0.074556  \n",
       "9   0.074556  \n",
       "10  0.073005  \n",
       "11  0.073005  \n",
       "12  0.073005  "
      ]
     },
     "execution_count": 17,
     "metadata": {},
     "output_type": "execute_result"
    }
   ],
   "source": [
    "df: pd.DataFrame = tg.get_phrases_as_df()\n",
    "df"
   ]
  },
  {
   "cell_type": "markdown",
   "id": "3143955c-446a-4e6c-834c-583ab173f446",
   "metadata": {},
   "source": [
    "## visualize the lemma graph"
   ]
  },
  {
   "cell_type": "code",
   "execution_count": 18,
   "id": "05b409af-14df-4158-9709-ffe2d79e864b",
   "metadata": {
    "execution": {
     "iopub.execute_input": "2024-01-03T21:13:28.011453Z",
     "iopub.status.busy": "2024-01-03T21:13:28.011190Z",
     "iopub.status.idle": "2024-01-03T21:13:28.052904Z",
     "shell.execute_reply": "2024-01-03T21:13:28.047371Z",
     "shell.execute_reply.started": "2024-01-03T21:13:28.011419Z"
    },
    "scrolled": true
   },
   "outputs": [],
   "source": [
    "render: textgraphs.RenderPyVis = tg.create_render()\n",
    "\n",
    "pv_graph: pyvis.network.Network = render.render_lemma_graph(\n",
    "    debug = False,\n",
    ")"
   ]
  },
  {
   "cell_type": "markdown",
   "id": "7b5d3e88-6669-4df1-a20a-587cc6a7db12",
   "metadata": {},
   "source": [
    "initialize the layout parameters"
   ]
  },
  {
   "cell_type": "code",
   "execution_count": 19,
   "id": "b212f5ed-03d6-439f-92ae-f2cbedb18609",
   "metadata": {
    "execution": {
     "iopub.execute_input": "2024-01-03T21:13:28.058744Z",
     "iopub.status.busy": "2024-01-03T21:13:28.055937Z",
     "iopub.status.idle": "2024-01-03T21:13:28.070354Z",
     "shell.execute_reply": "2024-01-03T21:13:28.065676Z",
     "shell.execute_reply.started": "2024-01-03T21:13:28.058673Z"
    }
   },
   "outputs": [],
   "source": [
    "pv_graph.force_atlas_2based(\n",
    "    gravity = -38,\n",
    "    central_gravity = 0.01,\n",
    "    spring_length = 231,\n",
    "    spring_strength = 0.7,\n",
    "    damping = 0.8,\n",
    "    overlap = 0,\n",
    ")\n",
    "\n",
    "pv_graph.show_buttons(filter_ = [ \"physics\" ])\n",
    "pv_graph.toggle_physics(True)"
   ]
  },
  {
   "cell_type": "code",
   "execution_count": 20,
   "id": "2f952a7c-3130-49c9-b659-fb941e9e0bfe",
   "metadata": {
    "execution": {
     "iopub.execute_input": "2024-01-03T21:13:28.076351Z",
     "iopub.status.busy": "2024-01-03T21:13:28.075406Z",
     "iopub.status.idle": "2024-01-03T21:13:28.170561Z",
     "shell.execute_reply": "2024-01-03T21:13:28.169026Z",
     "shell.execute_reply.started": "2024-01-03T21:13:28.076186Z"
    }
   },
   "outputs": [
    {
     "name": "stdout",
     "output_type": "stream",
     "text": [
      "tmp.fig01.html\n"
     ]
    },
    {
     "data": {
      "text/html": [
       "\n",
       "        <iframe\n",
       "            width=\"100%\"\n",
       "            height=\"600px\"\n",
       "            src=\"tmp.fig01.html\"\n",
       "            frameborder=\"0\"\n",
       "            allowfullscreen\n",
       "            \n",
       "        ></iframe>\n",
       "        "
      ],
      "text/plain": [
       "<IPython.lib.display.IFrame at 0x15c3aa2c0>"
      ]
     },
     "execution_count": 20,
     "metadata": {},
     "output_type": "execute_result"
    }
   ],
   "source": [
    "pv_graph.prep_notebook()\n",
    "pv_graph.show(\"tmp.fig01.html\")"
   ]
  },
  {
   "cell_type": "markdown",
   "id": "dc6654c8-0a4c-4e62-8cfc-f49e33f81064",
   "metadata": {},
   "source": [
    "## generate a word cloud"
   ]
  },
  {
   "cell_type": "code",
   "execution_count": 21,
   "id": "ba9543cd-b1e9-4f0a-930c-7a0a6ccb7f0a",
   "metadata": {
    "execution": {
     "iopub.execute_input": "2024-01-03T21:13:28.173736Z",
     "iopub.status.busy": "2024-01-03T21:13:28.173220Z",
     "iopub.status.idle": "2024-01-03T21:13:28.468743Z",
     "shell.execute_reply": "2024-01-03T21:13:28.466445Z",
     "shell.execute_reply.started": "2024-01-03T21:13:28.173700Z"
    }
   },
   "outputs": [
    {
     "data": {
      "image/jpeg": "[encoded data removed]",
      "image/png": "[encoded data removed]",
      "text/plain": [
       "<PIL.Image.Image image mode=RGB size=400x200>"
      ]
     },
     "metadata": {},
     "output_type": "display_data"
    }
   ],
   "source": [
    "wordcloud = render.generate_wordcloud()\n",
    "display(wordcloud.to_image())"
   ]
  },
  {
   "cell_type": "markdown",
   "id": "9e55b207-16d2-488a-b89b-b6ea8aed0ad9",
   "metadata": {},
   "source": [
    "## cluster communities in the lemma graph"
   ]
  },
  {
   "cell_type": "markdown",
   "id": "9bdcbe84-ae83-4fa6-91ad-3069b212dc72",
   "metadata": {},
   "source": [
    "In the tutorial\n",
    "<a href=\"https://towardsdatascience.com/how-to-convert-any-text-into-a-graph-of-concepts-110844f22a1a\" target=\"_blank\">\"How to Convert Any Text Into a Graph of Concepts\"</a>, \n",
    "Rahul Nayak uses the\n",
    "<a href=\"https://en.wikipedia.org/wiki/Girvan%E2%80%93Newman_algorithm\"><em>girvan-newman</em></a>\n",
    "algorithm to split the graph into communities, then clusters on those communities.\n",
    "His approach works well for unsupervised clustering of key phrases which have been extracted from many documents.\n",
    "In contrast, Nayak was working with entities extracted from \"chunks\" of text, not with a text graph."
   ]
  },
  {
   "cell_type": "code",
   "execution_count": 22,
   "id": "cd2d2f21-966e-40d6-8335-20dbfd8316ed",
   "metadata": {
    "execution": {
     "iopub.execute_input": "2024-01-03T21:13:28.470713Z",
     "iopub.status.busy": "2024-01-03T21:13:28.470309Z",
     "iopub.status.idle": "2024-01-03T21:13:29.444834Z",
     "shell.execute_reply": "2024-01-03T21:13:29.444029Z",
     "shell.execute_reply.started": "2024-01-03T21:13:28.470676Z"
    }
   },
   "outputs": [
    {
     "data": {
      "image/png": "[encoded data removed]",
      "text/plain": [
       "<Figure size 640x480 with 1 Axes>"
      ]
     },
     "metadata": {},
     "output_type": "display_data"
    }
   ],
   "source": [
    "render.draw_communities();"
   ]
  },
  {
   "cell_type": "markdown",
   "id": "bb59d135-5b14-4841-ba76-89712017e4d6",
   "metadata": {},
   "source": [
    "## graph of relations transform"
   ]
  },
  {
   "cell_type": "markdown",
   "id": "d751fa5e-e6ca-4de6-a3f3-c9f8acb43e5e",
   "metadata": {},
   "source": [
    "Show a transformed graph, based on _graph of relations_ (see: `lee2023ingram`)"
   ]
  },
  {
   "cell_type": "code",
   "execution_count": 23,
   "id": "5ec1352a-f281-4965-b68d-3e86c0269f09",
   "metadata": {
    "execution": {
     "iopub.execute_input": "2024-01-03T21:13:29.446321Z",
     "iopub.status.busy": "2024-01-03T21:13:29.446085Z",
     "iopub.status.idle": "2024-01-03T21:13:29.453002Z",
     "shell.execute_reply": "2024-01-03T21:13:29.452204Z",
     "shell.execute_reply.started": "2024-01-03T21:13:29.446289Z"
    }
   },
   "outputs": [],
   "source": [
    "graph: textgraphs.GraphOfRelations = textgraphs.GraphOfRelations(\n",
    "    tg\n",
    ")\n",
    "\n",
    "graph.seeds()\n",
    "graph.construct_gor()"
   ]
  },
  {
   "cell_type": "code",
   "execution_count": 24,
   "id": "a1dc17f1-eaeb-469a-8593-76950d70cc95",
   "metadata": {
    "execution": {
     "iopub.execute_input": "2024-01-03T21:13:29.454888Z",
     "iopub.status.busy": "2024-01-03T21:13:29.454527Z",
     "iopub.status.idle": "2024-01-03T21:13:29.502915Z",
     "shell.execute_reply": "2024-01-03T21:13:29.502027Z",
     "shell.execute_reply.started": "2024-01-03T21:13:29.454851Z"
    }
   },
   "outputs": [
    {
     "name": "stdout",
     "output_type": "stream",
     "text": [
      "tmp.fig02.html\n"
     ]
    },
    {
     "data": {
      "text/html": [
       "\n",
       "        <iframe\n",
       "            width=\"100%\"\n",
       "            height=\"600px\"\n",
       "            src=\"tmp.fig02.html\"\n",
       "            frameborder=\"0\"\n",
       "            allowfullscreen\n",
       "            \n",
       "        ></iframe>\n",
       "        "
      ],
      "text/plain": [
       "<IPython.lib.display.IFrame at 0x15cd33e80>"
      ]
     },
     "execution_count": 24,
     "metadata": {},
     "output_type": "execute_result"
    }
   ],
   "source": [
    "scores: typing.Dict[ tuple, float ] = graph.get_affinity_scores()\n",
    "pv_graph: pyvis.network.Network = graph.render_gor_pyvis(scores)\n",
    "\n",
    "pv_graph.force_atlas_2based(\n",
    "    gravity = -38,\n",
    "    central_gravity = 0.01,\n",
    "    spring_length = 231,\n",
    "    spring_strength = 0.7,\n",
    "    damping = 0.8,\n",
    "    overlap = 0,\n",
    ")\n",
    "\n",
    "pv_graph.show_buttons(filter_ = [ \"physics\" ])\n",
    "pv_graph.toggle_physics(True)\n",
    "\n",
    "pv_graph.prep_notebook()\n",
    "pv_graph.show(\"tmp.fig02.html\")"
   ]
  },
  {
   "cell_type": "markdown",
   "id": "c191fde0-1093-4cdc-a3ea-86cc2bf394b8",
   "metadata": {},
   "source": [
    "*What does this transform provide?*\n",
    "\n",
    "By using a _graph of relations_ dual representation of our graph data, first and foremost we obtain a more compact representation of the relations in the graph, and means of making inferences (e.g., _link prediction_) where there is substantially more invariance in the training data.\n",
    "\n",
    "Also recognize that for a parse graph of a paragraph in the English language, the most interesting nodes will probably be either subjects (`nsubj`) or direct objects (`pobj`). Here in the _graph of relations_ we see illustrated how the important details from _entity linking_ tend to cluster near either `nsubj` or `pobj` entities, connected through punctuation. This is not as readily observed in the earlier visualization of the _lemma graph_."
   ]
  },
  {
   "cell_type": "markdown",
   "id": "ff49fe28-e75f-4590-8b87-0d8962928cba",
   "metadata": {},
   "source": [
    "## statistical stack profile instrumentation"
   ]
  },
  {
   "cell_type": "code",
   "execution_count": 25,
   "id": "af4ecb06-370f-4077-9899-29a1673e4768",
   "metadata": {
    "execution": {
     "iopub.execute_input": "2024-01-03T21:13:29.505670Z",
     "iopub.status.busy": "2024-01-03T21:13:29.505153Z",
     "iopub.status.idle": "2024-01-03T21:13:29.515398Z",
     "shell.execute_reply": "2024-01-03T21:13:29.512409Z",
     "shell.execute_reply.started": "2024-01-03T21:13:29.505612Z"
    }
   },
   "outputs": [
    {
     "data": {
      "text/plain": [
       "<pyinstrument.session.Session at 0x1362a3610>"
      ]
     },
     "execution_count": 25,
     "metadata": {},
     "output_type": "execute_result"
    }
   ],
   "source": [
    "profiler.stop()"
   ]
  },
  {
   "cell_type": "code",
   "execution_count": 26,
   "id": "d5ac2ce6-15b1-41ad-8215-8a5f76036cf1",
   "metadata": {
    "execution": {
     "iopub.execute_input": "2024-01-03T21:13:29.518191Z",
     "iopub.status.busy": "2024-01-03T21:13:29.517501Z",
     "iopub.status.idle": "2024-01-03T21:13:32.883460Z",
     "shell.execute_reply": "2024-01-03T21:13:32.882816Z",
     "shell.execute_reply.started": "2024-01-03T21:13:29.518150Z"
    }
   },
   "outputs": [
    {
     "name": "stdout",
     "output_type": "stream",
     "text": [
      "\n",
      "  _     ._   __/__   _ _  _  _ _/_   Recorded: 13:12:25  Samples:  12311\n",
      " /_//_/// /_\\ / //_// / //_'/ //     Duration: 64.403    CPU time: 79.383\n",
      "/   _/                      v4.6.1\n",
      "\n",
      "Program: /Users/paco/src/textgraphs/venv/lib/python3.10/site-packages/ipykernel_launcher.py -f /Users/paco/Library/Jupyter/runtime/kernel-ef214b7e-84b2-47a4-b352-a78f796e2343.json\n",
      "\n",
      "64.402 _UnixSelectorEventLoop._run_once  asyncio/base_events.py:1832\n",
      "└─ 64.397 Handle._run  asyncio/events.py:78\n",
      "      [12 frames hidden]  asyncio, ipykernel, IPython\n",
      "         45.188 ZMQInteractiveShell.run_ast_nodes  IPython/core/interactiveshell.py:3391\n",
      "         ├─ 24.298 <module>  ../ipykernel_67071/1708547378.py:1\n",
      "         │  ├─ 16.518 InferRel_Rebel.__init__  textgraphs/rel.py:103\n",
      "         │  │  └─ 16.412 pipeline  transformers/pipelines/__init__.py:531\n",
      "         │  │        [39 frames hidden]  transformers, torch, <built-in>, json\n",
      "         │  ├─ 4.979 PipelineFactory.__init__  textgraphs/pipe.py:319\n",
      "         │  │  └─ 4.958 load  spacy/__init__.py:27\n",
      "         │  │        [24 frames hidden]  spacy, en_core_web_sm, catalogue, imp...\n",
      "         │  ├─ 1.833 TextGraphs.create_pipeline  textgraphs/doc.py:87\n",
      "         │  │  └─ 1.833 PipelineFactory.create_pipeline  textgraphs/pipe.py:379\n",
      "         │  │     └─ 1.833 Pipeline.__init__  textgraphs/pipe.py:152\n",
      "         │  │        └─ 1.833 English.__call__  spacy/language.py:1016\n",
      "         │  │              [15 frames hidden]  spacy, spacy_dbpedia_spotlight, reque...\n",
      "         │  └─ 0.966 InferRel_OpenNRE.__init__  textgraphs/rel.py:33\n",
      "         │     └─ 0.959 get_model  opennre/pretrain.py:126\n",
      "         └─ 18.954 <module>  ../ipykernel_67071/1245857438.py:1\n",
      "            └─ 18.953 TextGraphs.perform_entity_linking  textgraphs/doc.py:327\n",
      "               └─ 18.953 KGWikiMedia.perform_entity_linking  textgraphs/kg.py:246\n",
      "                  ├─ 9.114 KGWikiMedia._link_spotlight_entities  textgraphs/kg.py:699\n",
      "                  │  └─ 9.109 KGWikiMedia.dbpedia_search_entity  textgraphs/kg.py:519\n",
      "                  │     └─ 9.065 get  requests/api.py:62\n",
      "                  │           [29 frames hidden]  requests, urllib3, http, socket, ssl,...\n",
      "                  ├─ 9.072 KGWikiMedia._link_kg_search_entities  textgraphs/kg.py:771\n",
      "                  │  └─ 9.070 KGWikiMedia.dbpedia_search_entity  textgraphs/kg.py:519\n",
      "                  │     └─ 8.990 get  requests/api.py:62\n",
      "                  │           [27 frames hidden]  requests, urllib3, http, socket, ssl,...\n",
      "                  └─ 0.767 KGWikiMedia._secondary_entity_linking  textgraphs/kg.py:871\n",
      "                     └─ 0.767 KGWikiMedia.wikidata_search  textgraphs/kg.py:465\n",
      "                        └─ 0.766 KGWikiMedia._wikidata_endpoint  textgraphs/kg.py:364\n",
      "                           └─ 0.765 get  requests/api.py:62\n",
      "                                 [7 frames hidden]  requests, urllib3\n",
      "         18.389 InferRel_Rebel.gen_triples_async  textgraphs/pipe.py:133\n",
      "         ├─ 17.360 InferRel_Rebel.gen_triples  textgraphs/rel.py:223\n",
      "         │  ├─ 16.276 InferRel_Rebel.tokenize_sent  textgraphs/rel.py:121\n",
      "         │  │  └─ 16.267 TranslationPipeline.__call__  transformers/pipelines/text2text_generation.py:341\n",
      "         │  │        [44 frames hidden]  transformers, torch, <built-in>\n",
      "         │  └─ 1.070 KGWikiMedia.resolve_rel_iri  textgraphs/kg.py:301\n",
      "         └─ 1.029 InferRel_OpenNRE.gen_triples  textgraphs/rel.py:49\n",
      "            └─ 0.888 KGWikiMedia.resolve_rel_iri  textgraphs/kg.py:301\n",
      "\n",
      "\n"
     ]
    }
   ],
   "source": [
    "profiler.print()"
   ]
  },
  {
   "cell_type": "markdown",
   "id": "c47bcfd2-2bd6-49a5-8f1a-102d90edde39",
   "metadata": {
    "jp-MarkdownHeadingCollapsed": true
   },
   "source": [
    "## outro"
   ]
  },
  {
   "cell_type": "markdown",
   "id": "68bea4f9-aec2-4b28-8f08-a4034851d066",
   "metadata": {},
   "source": [
    "_\\[ more parts are in progress, getting added to this demo \\]_"
   ]
  }
 ],
 "metadata": {
  "kernelspec": {
   "display_name": "Python 3 (ipykernel)",
   "language": "python",
   "name": "python3"
  },
  "language_info": {
   "codemirror_mode": {
    "name": "ipython",
    "version": 3
   },
   "file_extension": ".py",
   "mimetype": "text/x-python",
   "name": "python",
   "nbconvert_exporter": "python",
   "pygments_lexer": "ipython3",
   "version": "3.10.11"
  }
 },
 "nbformat": 4,
 "nbformat_minor": 5
}
