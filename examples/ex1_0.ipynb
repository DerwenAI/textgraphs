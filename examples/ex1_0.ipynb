{
 "cells": [
  {
   "cell_type": "code",
   "execution_count": 18,
   "id": "c32bf0b9-1445-4ede-ae49-7dd63ff3b08e",
   "metadata": {
    "execution": {
     "iopub.execute_input": "2024-01-15T00:39:19.404502Z",
     "iopub.status.busy": "2024-01-15T00:39:19.402795Z",
     "iopub.status.idle": "2024-01-15T00:39:19.409175Z",
     "shell.execute_reply": "2024-01-15T00:39:19.408342Z",
     "shell.execute_reply.started": "2024-01-15T00:39:19.404454Z"
    }
   },
   "outputs": [],
   "source": [
    "# for use in tutorial and development; do not include this `sys.path` change in production:\n",
    "import sys ; sys.path.insert(0, \"../\")"
   ]
  },
  {
   "cell_type": "markdown",
   "id": "c8ff5d81-110c-42ae-8aa7-ed4fffea40c6",
   "metadata": {},
   "source": [
    "# reproduce results from the \"InGram\" paper"
   ]
  },
  {
   "cell_type": "markdown",
   "id": "1e847d0a-bc6c-470a-9fef-620ebbdbbbc3",
   "metadata": {},
   "source": [
    "This is an attempt to reproduce the _graph of relations_ example given in `lee2023ingram`"
   ]
  },
  {
   "cell_type": "markdown",
   "id": "61d8d39a-23e4-48e7-b8f4-0dd724ccf586",
   "metadata": {},
   "source": [
    "## environment"
   ]
  },
  {
   "cell_type": "code",
   "execution_count": 19,
   "id": "22489527-2ad5-4e3c-be23-f511e6bcf69f",
   "metadata": {
    "execution": {
     "iopub.execute_input": "2024-01-15T00:39:19.410605Z",
     "iopub.status.busy": "2024-01-15T00:39:19.410404Z",
     "iopub.status.idle": "2024-01-15T00:39:19.414659Z",
     "shell.execute_reply": "2024-01-15T00:39:19.414127Z",
     "shell.execute_reply.started": "2024-01-15T00:39:19.410544Z"
    },
    "scrolled": true
   },
   "outputs": [],
   "source": [
    "import os\n",
    "import pathlib\n",
    "import typing\n",
    "\n",
    "from icecream import ic\n",
    "from pyinstrument import Profiler\n",
    "import matplotlib.pyplot as plt\n",
    "import pandas as pd\n",
    "import pyvis\n",
    "\n",
    "import textgraphs"
   ]
  },
  {
   "cell_type": "code",
   "execution_count": 20,
   "id": "438f5775-487b-493e-a172-59b652b94955",
   "metadata": {
    "execution": {
     "iopub.execute_input": "2024-01-15T00:39:19.416449Z",
     "iopub.status.busy": "2024-01-15T00:39:19.415907Z",
     "iopub.status.idle": "2024-01-15T00:39:19.423288Z",
     "shell.execute_reply": "2024-01-15T00:39:19.421429Z",
     "shell.execute_reply.started": "2024-01-15T00:39:19.416420Z"
    }
   },
   "outputs": [
    {
     "name": "stdout",
     "output_type": "stream",
     "text": [
      "The watermark extension is already loaded. To reload it, use:\n",
      "  %reload_ext watermark\n"
     ]
    }
   ],
   "source": [
    "%load_ext watermark"
   ]
  },
  {
   "cell_type": "code",
   "execution_count": 21,
   "id": "adc052dd-5cca-4d11-b543-3f0999f4f883",
   "metadata": {
    "execution": {
     "iopub.execute_input": "2024-01-15T00:39:19.426512Z",
     "iopub.status.busy": "2024-01-15T00:39:19.425947Z",
     "iopub.status.idle": "2024-01-15T00:39:19.471034Z",
     "shell.execute_reply": "2024-01-15T00:39:19.469454Z",
     "shell.execute_reply.started": "2024-01-15T00:39:19.426474Z"
    }
   },
   "outputs": [
    {
     "name": "stdout",
     "output_type": "stream",
     "text": [
      "Last updated: 2024-01-14T16:39:19.427954-08:00\n",
      "\n",
      "Python implementation: CPython\n",
      "Python version       : 3.10.11\n",
      "IPython version      : 8.20.0\n",
      "\n",
      "Compiler    : Clang 13.0.0 (clang-1300.0.29.30)\n",
      "OS          : Darwin\n",
      "Release     : 21.6.0\n",
      "Machine     : x86_64\n",
      "Processor   : i386\n",
      "CPU cores   : 8\n",
      "Architecture: 64bit\n",
      "\n"
     ]
    }
   ],
   "source": [
    "%watermark"
   ]
  },
  {
   "cell_type": "code",
   "execution_count": 22,
   "id": "6e4618da-daf9-44c9-adbb-e5781dba5504",
   "metadata": {
    "execution": {
     "iopub.execute_input": "2024-01-15T00:39:19.473850Z",
     "iopub.status.busy": "2024-01-15T00:39:19.473373Z",
     "iopub.status.idle": "2024-01-15T00:39:19.508122Z",
     "shell.execute_reply": "2024-01-15T00:39:19.506909Z",
     "shell.execute_reply.started": "2024-01-15T00:39:19.473816Z"
    }
   },
   "outputs": [
    {
     "name": "stdout",
     "output_type": "stream",
     "text": [
      "sys       : 3.10.11 (v3.10.11:7d4cc5aa85, Apr  4 2023, 19:05:19) [Clang 13.0.0 (clang-1300.0.29.30)]\n",
      "matplotlib: 3.8.2\n",
      "pandas    : 2.1.4\n",
      "pyvis     : 0.3.2\n",
      "textgraphs: 0.3.2.dev3+gaea63b7.d20240108\n",
      "\n"
     ]
    }
   ],
   "source": [
    "%watermark --iversions"
   ]
  },
  {
   "cell_type": "markdown",
   "id": "1a04e3dc-57d8-43a4-a342-cc38b86fc6a6",
   "metadata": {},
   "source": [
    "## load example graph"
   ]
  },
  {
   "cell_type": "markdown",
   "id": "7c567afd-2f44-4391-899a-da6aba3d222e",
   "metadata": {},
   "source": [
    "load from a JSON file which replicates the data for the \"Figure 3\" example"
   ]
  },
  {
   "cell_type": "code",
   "execution_count": 23,
   "id": "630430c5-21dc-4897-9a4b-3b01baf3de17",
   "metadata": {
    "execution": {
     "iopub.execute_input": "2024-01-15T00:39:19.510418Z",
     "iopub.status.busy": "2024-01-15T00:39:19.510084Z",
     "iopub.status.idle": "2024-01-15T00:39:19.518846Z",
     "shell.execute_reply": "2024-01-15T00:39:19.517878Z",
     "shell.execute_reply.started": "2024-01-15T00:39:19.510393Z"
    }
   },
   "outputs": [],
   "source": [
    "graph: textgraphs.GraphOfRelations = textgraphs.GraphOfRelations(\n",
    "    textgraphs.SimpleGraph()\n",
    ")\n",
    "\n",
    "ingram_path: pathlib.Path = pathlib.Path(os.getcwd()) / \"ingram.json\"\n",
    "\n",
    "graph.load_ingram(\n",
    "    ingram_path,\n",
    "    debug = False,\n",
    ")"
   ]
  },
  {
   "cell_type": "markdown",
   "id": "01152885-f301-49b1-ab61-f5b19d81c036",
   "metadata": {},
   "source": [
    "set up the statistical stack profiling"
   ]
  },
  {
   "cell_type": "code",
   "execution_count": 24,
   "id": "2a289117-301d-4027-ae1b-200201fb5f93",
   "metadata": {
    "execution": {
     "iopub.execute_input": "2024-01-15T00:39:19.521056Z",
     "iopub.status.busy": "2024-01-15T00:39:19.520700Z",
     "iopub.status.idle": "2024-01-15T00:39:19.528996Z",
     "shell.execute_reply": "2024-01-15T00:39:19.526552Z",
     "shell.execute_reply.started": "2024-01-15T00:39:19.521028Z"
    }
   },
   "outputs": [],
   "source": [
    "profiler: Profiler = Profiler()\n",
    "profiler.start()"
   ]
  },
  {
   "cell_type": "markdown",
   "id": "bf9d4f99-b82b-4d11-a9a4-31d0337f4aa8",
   "metadata": {},
   "source": [
    "## decouple graph edges into \"seeds\""
   ]
  },
  {
   "cell_type": "code",
   "execution_count": 25,
   "id": "da6fcb0f-b2ac-4f74-af39-2c129c750cab",
   "metadata": {
    "execution": {
     "iopub.execute_input": "2024-01-15T00:39:19.532028Z",
     "iopub.status.busy": "2024-01-15T00:39:19.531528Z",
     "iopub.status.idle": "2024-01-15T00:39:19.832393Z",
     "shell.execute_reply": "2024-01-15T00:39:19.831164Z",
     "shell.execute_reply.started": "2024-01-15T00:39:19.531984Z"
    },
    "scrolled": true
   },
   "outputs": [
    {
     "name": "stderr",
     "output_type": "stream",
     "text": [
      "ic| edge.src_node: 0, rel_id: 1, edge.dst_node: 1\n",
      "ic| edge.src_node: 0"
     ]
    },
    {
     "name": "stdout",
     "output_type": "stream",
     "text": [
      "\n",
      "--- triples in source graph ---\n",
      " Steven_Spielberg Profession Director\n"
     ]
    },
    {
     "name": "stderr",
     "output_type": "stream",
     "text": [
      ", rel_id: 0, edge.dst_node: 2\n",
      "ic| edge.src_node: 0, rel_id: 0"
     ]
    },
    {
     "name": "stdout",
     "output_type": "stream",
     "text": [
      " Steven_Spielberg Directed Catch_Me_If_Can\n"
     ]
    },
    {
     "name": "stderr",
     "output_type": "stream",
     "text": [
      ", edge.dst_node: 3\n",
      "ic| edge.src_node: 4, rel_id: 2, edge.dst_node: 2\n",
      "ic| edge.src_node: 4, rel_id: 2, edge.dst_node"
     ]
    },
    {
     "name": "stdout",
     "output_type": "stream",
     "text": [
      " Steven_Spielberg Directed Saving_Private_Ryan\n",
      " Tom_Hanks ActedIn Catch_Me_If_Can\n"
     ]
    },
    {
     "name": "stderr",
     "output_type": "stream",
     "text": [
      ": 3\n",
      "ic| edge.src_node: 4, rel_id: 1, edge.dst_node: 5\n",
      "ic| edge.src_node: 6, rel_id: 1, edge.dst_node: 5\n",
      "ic| edge.src_node"
     ]
    },
    {
     "name": "stdout",
     "output_type": "stream",
     "text": [
      " Tom_Hanks ActedIn Saving_Private_Ryan\n",
      " Tom_Hanks Profession Actor\n",
      " Mark_Hamil Profession Actor\n"
     ]
    },
    {
     "name": "stderr",
     "output_type": "stream",
     "text": [
      ": 6, rel_id: 2, edge.dst_node: 7\n",
      "ic| edge.src_node: 6, rel_id: 4, edge.dst_node: 8\n",
      "ic| edge."
     ]
    },
    {
     "name": "stdout",
     "output_type": "stream",
     "text": [
      " Mark_Hamil ActedIn Star_Wars\n",
      " Mark_Hamil BornIn California\n"
     ]
    },
    {
     "name": "stderr",
     "output_type": "stream",
     "text": [
      "src_node: 9, rel_id: 5, edge.dst_node: 10\n",
      "ic| edge.src_node: 9, rel_id: 4, edge.dst_node: 10\n",
      "ic| edge.src_node: 9, rel_id: 3, edge.dst_node: 8\n",
      "ic| edge.src_node: 11, rel_id: 4, edge.dst_node: 12\n",
      "ic| edge.src_node: 11, rel_id:"
     ]
    },
    {
     "name": "stdout",
     "output_type": "stream",
     "text": [
      " Brad_Pitt Nationality USA\n",
      " Brad_Pitt BornIn USA\n",
      " Brad_Pitt LivedIn California\n",
      " Clint_Eastwood BornIn San_Francisco\n"
     ]
    },
    {
     "name": "stderr",
     "output_type": "stream",
     "text": [
      " 3, edge.dst_node: 12\n",
      "ic| edge.src_node: 11, rel_id: 3, edge.dst_node: 8\n"
     ]
    },
    {
     "name": "stdout",
     "output_type": "stream",
     "text": [
      " Clint_Eastwood LivedIn San_Francisco\n",
      " Clint_Eastwood LivedIn California\n"
     ]
    }
   ],
   "source": [
    "graph.seeds(\n",
    "    debug = True,\n",
    ")"
   ]
  },
  {
   "cell_type": "code",
   "execution_count": 26,
   "id": "a9c0fd41-45e9-4019-94bf-8e2cf5c33454",
   "metadata": {
    "execution": {
     "iopub.execute_input": "2024-01-15T00:39:19.834927Z",
     "iopub.status.busy": "2024-01-15T00:39:19.834564Z",
     "iopub.status.idle": "2024-01-15T00:39:19.839752Z",
     "shell.execute_reply": "2024-01-15T00:39:19.839081Z",
     "shell.execute_reply.started": "2024-01-15T00:39:19.834881Z"
    },
    "scrolled": true
   },
   "outputs": [
    {
     "name": "stdout",
     "output_type": "stream",
     "text": [
      "\n",
      "--- nodes in source graph ---\n",
      "n:  0, Steven_Spielberg\n",
      " head: []\n",
      " tail: [(0, 'Profession', 1), (0, 'Directed', 2), (0, 'Directed', 3)]\n",
      "n:  1, Director\n",
      " head: [(0, 'Profession', 1)]\n",
      " tail: []\n",
      "n:  2, Catch_Me_If_Can\n",
      " head: [(0, 'Directed', 2), (4, 'ActedIn', 2)]\n",
      " tail: []\n",
      "n:  3, Saving_Private_Ryan\n",
      " head: [(0, 'Directed', 3), (4, 'ActedIn', 3)]\n",
      " tail: []\n",
      "n:  4, Tom_Hanks\n",
      " head: []\n",
      " tail: [(4, 'ActedIn', 2), (4, 'ActedIn', 3), (4, 'Profession', 5)]\n",
      "n:  5, Actor\n",
      " head: [(4, 'Profession', 5), (6, 'Profession', 5)]\n",
      " tail: []\n",
      "n:  6, Mark_Hamil\n",
      " head: []\n",
      " tail: [(6, 'Profession', 5), (6, 'ActedIn', 7), (6, 'BornIn', 8)]\n",
      "n:  7, Star_Wars\n",
      " head: [(6, 'ActedIn', 7)]\n",
      " tail: []\n",
      "n:  8, California\n",
      " head: [(6, 'BornIn', 8), (9, 'LivedIn', 8), (11, 'LivedIn', 8)]\n",
      " tail: []\n",
      "n:  9, Brad_Pitt\n",
      " head: []\n",
      " tail: [(9, 'Nationality', 10), (9, 'BornIn', 10), (9, 'LivedIn', 8)]\n",
      "n: 10, USA\n",
      " head: [(9, 'Nationality', 10), (9, 'BornIn', 10)]\n",
      " tail: []\n",
      "n: 11, Clint_Eastwood\n",
      " head: []\n",
      " tail: [(11, 'BornIn', 12), (11, 'LivedIn', 12), (11, 'LivedIn', 8)]\n",
      "n: 12, San_Francisco\n",
      " head: [(11, 'BornIn', 12), (11, 'LivedIn', 12)]\n",
      " tail: []\n",
      "\n",
      "--- edges in source graph ---\n",
      "e:  0, Directed\n",
      "e:  1, Profession\n",
      "e:  2, ActedIn\n",
      "e:  3, LivedIn\n",
      "e:  4, BornIn\n",
      "e:  5, Nationality\n"
     ]
    }
   ],
   "source": [
    "graph.trace_source_graph()"
   ]
  },
  {
   "cell_type": "markdown",
   "id": "7e7cb5f3-132c-4999-81eb-4f6167a31c9e",
   "metadata": {},
   "source": [
    "## construct a _graph of relations_"
   ]
  },
  {
   "cell_type": "markdown",
   "id": "105702ed-7f9c-42ca-a57b-f1b15a206acf",
   "metadata": {
    "execution": {
     "iopub.execute_input": "2024-01-02T22:31:57.839227Z",
     "iopub.status.busy": "2024-01-02T22:31:57.838113Z",
     "iopub.status.idle": "2024-01-02T22:31:57.853374Z",
     "shell.execute_reply": "2024-01-02T22:31:57.851669Z",
     "shell.execute_reply.started": "2024-01-02T22:31:57.839155Z"
    }
   },
   "source": [
    "Transform the graph data into _graph of relations_"
   ]
  },
  {
   "cell_type": "code",
   "execution_count": 27,
   "id": "eae8da18-f1be-4673-94e7-7b633bab9bd1",
   "metadata": {
    "execution": {
     "iopub.execute_input": "2024-01-15T00:39:19.841417Z",
     "iopub.status.busy": "2024-01-15T00:39:19.841082Z",
     "iopub.status.idle": "2024-01-15T00:39:21.884481Z",
     "shell.execute_reply": "2024-01-15T00:39:21.883510Z",
     "shell.execute_reply.started": "2024-01-15T00:39:19.841381Z"
    },
    "scrolled": true
   },
   "outputs": [
    {
     "name": "stderr",
     "output_type": "stream",
     "text": [
      "ic| node_id: 0, len(seeds): "
     ]
    },
    {
     "name": "stdout",
     "output_type": "stream",
     "text": [
      "\n",
      "--- transformed triples ---\n"
     ]
    },
    {
     "name": "stderr",
     "output_type": "stream",
     "text": [
      "3\n",
      "ic| trans_arc: TransArc(pair_key=(0, 1),\n",
      "                        a_rel=1,\n",
      "                        b_rel=0,\n",
      "                        node_id=0,\n",
      "                        a_dir=<RelDir.TAIL: 1>,\n",
      "                        b_dir=<RelDir.TAIL: 1>)\n",
      "ic| trans_arc: "
     ]
    },
    {
     "name": "stdout",
     "output_type": "stream",
     "text": [
      " (0, 1) Profession.tail Steven_Spielberg Directed.tail\n",
      "\n",
      " (0, 1) Profession.tail Steven_Spielberg Directed.tail\n"
     ]
    },
    {
     "name": "stderr",
     "output_type": "stream",
     "text": [
      "TransArc(pair_key=(0, 1),\n",
      "                        a_rel=1,\n",
      "                        b_rel=0,\n",
      "                        node_id=0,\n",
      "                        a_dir=<RelDir.TAIL: 1>,\n",
      "                        b_dir=<RelDir.TAIL: 1>)\n",
      "ic| trans_arc: TransArc(pair_key=(0, 0),\n",
      "                        a_rel=0,\n",
      "                        b_rel=0,\n",
      "                        node_id=0,\n",
      "                        a_dir=<RelDir.TAIL: 1>,\n",
      "                        b_dir=<RelDir.TAIL: 1>)\n",
      "ic| node_id:"
     ]
    },
    {
     "name": "stdout",
     "output_type": "stream",
     "text": [
      "\n",
      " (0, 0) Directed.tail Steven_Spielberg Directed.tail\n",
      "\n"
     ]
    },
    {
     "name": "stderr",
     "output_type": "stream",
     "text": [
      " 1, len(seeds): 1\n",
      "ic| node_id: 2, len(seeds): 2\n"
     ]
    },
    {
     "name": "stdout",
     "output_type": "stream",
     "text": [
      " (0, 2) Directed.head Catch_Me_If_Can ActedIn.head\n"
     ]
    },
    {
     "name": "stderr",
     "output_type": "stream",
     "text": [
      "ic| trans_arc: TransArc(pair_key=(0, 2),\n",
      "                        a_rel=0,\n",
      "                        b_rel=2,\n",
      "                        node_id=2,\n",
      "                        a_dir=<RelDir.HEAD: 0>,\n",
      "                        b_dir=<RelDir.HEAD: 0>)\n",
      "ic| node_id: 3, len(seeds): 2\n",
      "ic| trans_arc: TransArc(pair_key=(0, 2),\n",
      "                        a_rel=0,\n",
      "                        b_rel=2,\n",
      "                        "
     ]
    },
    {
     "name": "stdout",
     "output_type": "stream",
     "text": [
      "\n",
      " (0, 2) Directed.head Saving_Private_Ryan ActedIn.head\n"
     ]
    },
    {
     "name": "stderr",
     "output_type": "stream",
     "text": [
      "node_id=3,\n",
      "                        a_dir=<RelDir.HEAD: 0>,\n",
      "                        b_dir=<RelDir.HEAD: 0>)\n",
      "ic| node_id: 4, len(seeds): 3\n",
      "ic| trans_arc: TransArc(pair_key=(2, 2),\n",
      "                        a_rel=2,\n",
      "                        b_rel=2,\n",
      "                        node_id=4,\n",
      "                        a_dir=<RelDir.TAIL: 1>,\n",
      "                        b_dir=<RelDir.TAIL: 1>)\n",
      "ic| trans_arc: TransArc(pair_key=(1, 2),\n",
      "                        a_rel=2,\n",
      "                        b_rel=1,\n",
      "                        node_id=4,\n",
      "                        a_dir=<RelDir.TAIL: 1>,\n",
      "                        b_dir=<RelDir.TAIL: 1>)\n",
      "ic| trans_arc: TransArc(pair_key=(1, 2),\n",
      "                        a_rel=2,\n",
      "                        b_rel=1,\n",
      "                        node_id=4,\n",
      "                        a_dir=<RelDir.TAIL: 1>,\n",
      "                        b_dir=<RelDir.TAIL: 1>)\n",
      "ic| node_id: 5, len(seeds): 2\n",
      "ic| trans_arc: TransArc(pair_key=(1, 1),\n",
      "                        a_rel=1,\n",
      "                        b_rel=1,\n",
      "                        node_id=5,\n",
      "                        a_dir=<RelDir.HEAD: 0>,\n"
     ]
    },
    {
     "name": "stdout",
     "output_type": "stream",
     "text": [
      "\n",
      " (2, 2) ActedIn.tail Tom_Hanks ActedIn.tail\n",
      "\n",
      " (1, 2) ActedIn.tail Tom_Hanks Profession.tail\n",
      "\n",
      " (1, 2) ActedIn.tail Tom_Hanks Profession.tail\n",
      "\n",
      " (1, 1) Profession.head Actor Profession.head\n"
     ]
    },
    {
     "name": "stderr",
     "output_type": "stream",
     "text": [
      "                        b_dir=<RelDir.HEAD: 0>)\n",
      "ic| node_id: 6, len(seeds): 3\n",
      "ic|"
     ]
    },
    {
     "name": "stdout",
     "output_type": "stream",
     "text": [
      "\n",
      " (1, 2) Profession.tail Mark_Hamil ActedIn.tail\n"
     ]
    },
    {
     "name": "stderr",
     "output_type": "stream",
     "text": [
      " trans_arc: TransArc(pair_key=(1, 2),\n",
      "                        a_rel=1,\n",
      "                        b_rel=2,\n",
      "                        node_id=6,\n",
      "                        a_dir=<RelDir.TAIL: 1>,\n",
      "                        b_dir=<RelDir.TAIL: 1>)\n",
      "ic| trans_arc: TransArc(pair_key=(1, 4),\n",
      "                        a_rel=1,\n",
      "                        b_rel=4,\n",
      "                        node_id=6,\n",
      "                        a_dir=<RelDir.TAIL: 1>,\n",
      "                        b_dir=<RelDir.TAIL: 1>)\n",
      "ic| trans_arc: TransArc(pair_key=(2, 4),\n",
      "                        a_rel=2,\n",
      "                        b_rel=4,\n",
      "                        node_id=6,\n",
      "                        a_dir=<RelDir.TAIL: 1>,\n",
      "                        b_dir=<RelDir.TAIL: 1>)\n",
      "ic| node_id: 7, len(seeds): 1\n",
      "ic| node_id: 8, len(seeds): 3\n",
      "ic| trans_arc: TransArc(pair_key=(3, 4)"
     ]
    },
    {
     "name": "stdout",
     "output_type": "stream",
     "text": [
      "\n",
      " (1, 4) Profession.tail Mark_Hamil BornIn.tail\n",
      "\n",
      " (2, 4) ActedIn.tail Mark_Hamil BornIn.tail\n",
      "\n",
      " (3, 4) BornIn.head California LivedIn.head\n"
     ]
    },
    {
     "name": "stderr",
     "output_type": "stream",
     "text": [
      ",\n",
      "                        a_rel=4,\n",
      "                        b_rel=3,\n",
      "                        node_id=8,\n",
      "                        a_dir=<RelDir.HEAD: 0>,\n",
      "                        b_dir=<RelDir.HEAD: 0>)\n",
      "ic| trans_arc: TransArc(pair_key=(3, 4),\n",
      "                        a_rel=4,\n",
      "                        b_rel=3,\n",
      "                        node_id=8,\n",
      "                        a_dir=<RelDir.HEAD: 0>,\n",
      "                        b_dir=<RelDir.HEAD: 0>)\n",
      "ic| trans_arc"
     ]
    },
    {
     "name": "stdout",
     "output_type": "stream",
     "text": [
      "\n",
      " (3, 4) BornIn.head California LivedIn.head\n",
      "\n",
      " (3, 3) LivedIn.head California LivedIn.head\n"
     ]
    },
    {
     "name": "stderr",
     "output_type": "stream",
     "text": [
      ": TransArc(pair_key=(3, 3),\n",
      "                        a_rel=3,\n",
      "                        b_rel=3,\n",
      "                        node_id=8,\n",
      "                        a_dir=<RelDir.HEAD: 0>,\n",
      "                        b_dir=<RelDir.HEAD: 0>)\n",
      "ic| node_id: 9, len(seeds): 3\n",
      "ic| trans_arc: TransArc(pair_key=(4, 5),\n",
      "                        a_rel=5,\n",
      "                        b_rel=4,\n",
      "                        node_id=9,\n",
      "                        a_dir=<RelDir.TAIL: 1>,\n",
      "                        b_dir=<RelDir.TAIL: 1>)\n",
      "ic| trans_arc: TransArc(pair_key=(3, 5),\n",
      "                        a_rel=5,\n",
      "                        b_rel=3,\n",
      "                        node_id=9,\n",
      "                        a_dir=<RelDir.TAIL: 1>,\n",
      "                        b_dir=<RelDir.TAIL: 1>)\n",
      "ic| trans_arc: TransArc(pair_key=(3, 4),\n",
      "                        a_rel=4,\n",
      "                        b_rel=3,\n",
      "                        node_id=9,\n",
      "                        a_dir=<RelDir.TAIL: 1>,\n",
      "                        b_dir=<RelDir.TAIL: 1>)\n",
      "ic| node_id: 10, len(seeds): 2\n",
      "ic| trans_arc: TransArc(pair_key=(4, 5),\n",
      "                        a_rel=5,\n",
      "                        b_rel=4,\n",
      "                        node_id=10,\n",
      "                        a_dir=<RelDir.HEAD: 0>,\n",
      "                        b_dir="
     ]
    },
    {
     "name": "stdout",
     "output_type": "stream",
     "text": [
      "\n",
      " (4, 5) Nationality.tail Brad_Pitt BornIn.tail\n",
      "\n",
      " (3, 5) Nationality.tail Brad_Pitt LivedIn.tail\n",
      "\n",
      " (3, 4) BornIn.tail Brad_Pitt LivedIn.tail\n",
      "\n",
      " (4, 5) Nationality.head USA BornIn.head\n"
     ]
    },
    {
     "name": "stderr",
     "output_type": "stream",
     "text": [
      "<RelDir.HEAD: 0>)\n",
      "ic| node_id: 11, len(seeds): 3\n",
      "ic| trans_arc: TransArc(pair_key=(3, 4),\n",
      "                        a_rel=4,\n",
      "                        b_rel=3,\n",
      "                        node_id=11,\n",
      "                        a_dir=<RelDir.TAIL: 1>,\n",
      "                        b_dir=<RelDir.TAIL: 1>)\n",
      "ic| trans_arc: TransArc(pair_key=(3, 4),\n",
      "                        a_rel=4,\n",
      "                        b_rel=3,\n",
      "                        node_id=11,\n",
      "                        a_dir=<RelDir.TAIL: 1>,\n",
      "                        b_dir=<RelDir.TAIL: 1>)\n",
      "ic| trans_arc: TransArc(pair_key=(3, 3),\n",
      "                        a_rel=3,\n",
      "                        b_rel=3,\n",
      "                        node_id=11,\n",
      "                        a_dir=<RelDir.TAIL: 1>,\n",
      "                        b_dir=<RelDir.TAIL: 1>)\n",
      "ic| node_id: 12, len(seeds): 2\n",
      "ic| trans_arc: TransArc(pair_key=(3, 4),\n",
      "                        a_rel=4,\n",
      "                        b_rel=3,\n",
      "                        node_id=12,\n",
      "                        a_dir=<RelDir.HEAD: 0>,\n",
      "                        b_dir=<"
     ]
    },
    {
     "name": "stdout",
     "output_type": "stream",
     "text": [
      "\n",
      " (3, 4) BornIn.tail Clint_Eastwood LivedIn.tail\n",
      "\n",
      " (3, 4) BornIn.tail Clint_Eastwood LivedIn.tail\n",
      "\n",
      " (3, 3) LivedIn.tail Clint_Eastwood LivedIn.tail\n",
      "\n",
      " (3, 4) BornIn.head San_Francisco LivedIn.head\n"
     ]
    },
    {
     "name": "stderr",
     "output_type": "stream",
     "text": [
      "RelDir.HEAD: 0>)\n"
     ]
    },
    {
     "name": "stdout",
     "output_type": "stream",
     "text": [
      "\n"
     ]
    }
   ],
   "source": [
    "graph.construct_gor(\n",
    "\tdebug = True,\n",
    ")"
   ]
  },
  {
   "cell_type": "code",
   "execution_count": 28,
   "id": "d5a06b72-c19b-440c-83c7-332f28aa9586",
   "metadata": {
    "execution": {
     "iopub.execute_input": "2024-01-15T00:39:21.886143Z",
     "iopub.status.busy": "2024-01-15T00:39:21.885915Z",
     "iopub.status.idle": "2024-01-15T00:39:21.893039Z",
     "shell.execute_reply": "2024-01-15T00:39:21.892271Z",
     "shell.execute_reply.started": "2024-01-15T00:39:21.886108Z"
    },
    "scrolled": true
   },
   "outputs": [
    {
     "name": "stdout",
     "output_type": "stream",
     "text": [
      "\n",
      "--- collect shared entity tallies ---\n",
      "0 Directed\n",
      " h: 4 dict_items([(2, 4.0)])\n",
      " t: 6 dict_items([(0, 3.0), (1, 3.0)])\n",
      "1 Profession\n",
      " h: 3 dict_items([(1, 3.0)])\n",
      " t: 10 dict_items([(0, 3.0), (2, 5.0), (4, 2.0)])\n",
      "2 ActedIn\n",
      " h: 4 dict_items([(0, 4.0)])\n",
      " t: 10 dict_items([(1, 5.0), (2, 3.0), (4, 2.0)])\n",
      "3 LivedIn\n",
      " h: 8 dict_items([(3, 3.0), (4, 5.0)])\n",
      " t: 10 dict_items([(3, 3.0), (4, 5.0), (5, 2.0)])\n",
      "4 BornIn\n",
      " h: 7 dict_items([(3, 5.0), (5, 2.0)])\n",
      " t: 11 dict_items([(1, 2.0), (2, 2.0), (3, 5.0), (5, 2.0)])\n",
      "5 Nationality\n",
      " h: 2 dict_items([(4, 2.0)])\n",
      " t: 4 dict_items([(3, 2.0), (4, 2.0)])\n"
     ]
    }
   ],
   "source": [
    "scores: typing.Dict[ tuple, float ] = graph.get_affinity_scores(\n",
    "    debug = True,\n",
    ")"
   ]
  },
  {
   "cell_type": "code",
   "execution_count": 29,
   "id": "a3d2310b-11c1-476d-82ab-1e34bc496cb1",
   "metadata": {
    "execution": {
     "iopub.execute_input": "2024-01-15T00:39:21.895408Z",
     "iopub.status.busy": "2024-01-15T00:39:21.894954Z",
     "iopub.status.idle": "2024-01-15T00:39:22.173881Z",
     "shell.execute_reply": "2024-01-15T00:39:22.172640Z",
     "shell.execute_reply.started": "2024-01-15T00:39:21.895367Z"
    },
    "scrolled": true
   },
   "outputs": [
    {
     "name": "stderr",
     "output_type": "stream",
     "text": [
      "ic| scores: {(0, 0): 0.3,\n",
      "             (0, 1): 0.2653846153846154,\n",
      "             (0, 2): 0.34285714285714286,\n",
      "             (1, 1): 0.23076923076923078,\n",
      "             (1, 2): 0.3708791208791209,\n",
      "             (1, 4): 0.13247863247863248,\n",
      "             (2, 2): 0.21428571428571427,\n",
      "             (2, 4): 0.12698412698412698,\n",
      "             (3, 3): 0.3333333333333333,\n",
      "             (3, 4): 0.5555555555555556,\n",
      "             (3, 5): 0.2222222222222222,\n",
      "             (4, 5): 0.4444444444444444}\n"
     ]
    }
   ],
   "source": [
    "ic(scores);"
   ]
  },
  {
   "cell_type": "markdown",
   "id": "8b71b841-0cf5-4cc6-af4c-c85344b8f6c5",
   "metadata": {},
   "source": [
    "## visualize the transform results"
   ]
  },
  {
   "cell_type": "code",
   "execution_count": 30,
   "id": "5901a49e-3f90-4061-9c3a-e9d1f05b40f3",
   "metadata": {
    "execution": {
     "iopub.execute_input": "2024-01-15T00:39:22.176624Z",
     "iopub.status.busy": "2024-01-15T00:39:22.176085Z",
     "iopub.status.idle": "2024-01-15T00:39:22.644015Z",
     "shell.execute_reply": "2024-01-15T00:39:22.643062Z",
     "shell.execute_reply.started": "2024-01-15T00:39:22.176580Z"
    }
   },
   "outputs": [
    {
     "data": {
      "image/png": "[encoded data removed]",
      "text/plain": [
       "<Figure size 640x480 with 1 Axes>"
      ]
     },
     "metadata": {},
     "output_type": "display_data"
    }
   ],
   "source": [
    "graph.render_gor_plt(scores)\n",
    "plt.show()"
   ]
  },
  {
   "cell_type": "code",
   "execution_count": 31,
   "id": "8fa85274-6d16-48eb-b875-01108a9575b8",
   "metadata": {
    "execution": {
     "iopub.execute_input": "2024-01-15T00:39:22.646569Z",
     "iopub.status.busy": "2024-01-15T00:39:22.646127Z",
     "iopub.status.idle": "2024-01-15T00:39:22.690072Z",
     "shell.execute_reply": "2024-01-15T00:39:22.688959Z",
     "shell.execute_reply.started": "2024-01-15T00:39:22.646518Z"
    }
   },
   "outputs": [
    {
     "name": "stdout",
     "output_type": "stream",
     "text": [
      "tmp.fig01.html\n"
     ]
    },
    {
     "data": {
      "text/html": [
       "\n",
       "        <iframe\n",
       "            width=\"100%\"\n",
       "            height=\"600px\"\n",
       "            src=\"tmp.fig01.html\"\n",
       "            frameborder=\"0\"\n",
       "            allowfullscreen\n",
       "            \n",
       "        ></iframe>\n",
       "        "
      ],
      "text/plain": [
       "<IPython.lib.display.IFrame at 0x15c13e440>"
      ]
     },
     "execution_count": 31,
     "metadata": {},
     "output_type": "execute_result"
    }
   ],
   "source": [
    "pv_graph: pyvis.network.Network = graph.render_gor_pyvis(scores)\n",
    "\n",
    "pv_graph.force_atlas_2based(\n",
    "    gravity = -38,\n",
    "    central_gravity = 0.01,\n",
    "    spring_length = 231,\n",
    "    spring_strength = 0.7,\n",
    "    damping = 0.8,\n",
    "    overlap = 0,\n",
    ")\n",
    "\n",
    "pv_graph.show_buttons(filter_ = [ \"physics\" ])\n",
    "pv_graph.toggle_physics(True)\n",
    "\n",
    "pv_graph.prep_notebook()\n",
    "pv_graph.show(\"tmp.fig01.html\")"
   ]
  },
  {
   "cell_type": "markdown",
   "id": "07cf6fca-af95-4cf0-9e3b-247521bafbff",
   "metadata": {},
   "source": [
    "## analysis"
   ]
  },
  {
   "cell_type": "markdown",
   "id": "97af44dc-4e56-4986-9f54-cbfaff67e3d4",
   "metadata": {},
   "source": [
    "As the results below above illustrate, the computed _affinity scores_ differ from what is published in `lee2023ingram`. After trying several different variations of interpretation for the paper's descriptions, the current approach provides the closest approximation that we have obtained."
   ]
  },
  {
   "cell_type": "code",
   "execution_count": 32,
   "id": "f64462b4-654a-4e2e-bea2-a36bdc5ec967",
   "metadata": {
    "execution": {
     "iopub.execute_input": "2024-01-15T00:39:22.692339Z",
     "iopub.status.busy": "2024-01-15T00:39:22.691777Z",
     "iopub.status.idle": "2024-01-15T00:39:22.717840Z",
     "shell.execute_reply": "2024-01-15T00:39:22.716196Z",
     "shell.execute_reply.started": "2024-01-15T00:39:22.692288Z"
    }
   },
   "outputs": [
    {
     "data": {
      "text/html": [
       "<div>\n",
       "<style scoped>\n",
       "    .dataframe tbody tr th:only-of-type {\n",
       "        vertical-align: middle;\n",
       "    }\n",
       "\n",
       "    .dataframe tbody tr th {\n",
       "        vertical-align: top;\n",
       "    }\n",
       "\n",
       "    .dataframe thead th {\n",
       "        text-align: right;\n",
       "    }\n",
       "</style>\n",
       "<table border=\"1\" class=\"dataframe\">\n",
       "  <thead>\n",
       "    <tr style=\"text-align: right;\">\n",
       "      <th></th>\n",
       "      <th>pair</th>\n",
       "      <th>rel_a</th>\n",
       "      <th>rel_b</th>\n",
       "      <th>affinity</th>\n",
       "      <th>expected</th>\n",
       "    </tr>\n",
       "  </thead>\n",
       "  <tbody>\n",
       "    <tr>\n",
       "      <th>0</th>\n",
       "      <td>(0, 0)</td>\n",
       "      <td>Directed</td>\n",
       "      <td>Directed</td>\n",
       "      <td>0.30</td>\n",
       "      <td>NaN</td>\n",
       "    </tr>\n",
       "    <tr>\n",
       "      <th>1</th>\n",
       "      <td>(0, 1)</td>\n",
       "      <td>Directed</td>\n",
       "      <td>Profession</td>\n",
       "      <td>0.27</td>\n",
       "      <td>0.22</td>\n",
       "    </tr>\n",
       "    <tr>\n",
       "      <th>2</th>\n",
       "      <td>(0, 2)</td>\n",
       "      <td>Directed</td>\n",
       "      <td>ActedIn</td>\n",
       "      <td>0.34</td>\n",
       "      <td>0.50</td>\n",
       "    </tr>\n",
       "    <tr>\n",
       "      <th>3</th>\n",
       "      <td>(1, 1)</td>\n",
       "      <td>Profession</td>\n",
       "      <td>Profession</td>\n",
       "      <td>0.23</td>\n",
       "      <td>NaN</td>\n",
       "    </tr>\n",
       "    <tr>\n",
       "      <th>4</th>\n",
       "      <td>(1, 2)</td>\n",
       "      <td>Profession</td>\n",
       "      <td>ActedIn</td>\n",
       "      <td>0.37</td>\n",
       "      <td>0.33</td>\n",
       "    </tr>\n",
       "    <tr>\n",
       "      <th>5</th>\n",
       "      <td>(1, 4)</td>\n",
       "      <td>Profession</td>\n",
       "      <td>BornIn</td>\n",
       "      <td>0.13</td>\n",
       "      <td>0.11</td>\n",
       "    </tr>\n",
       "    <tr>\n",
       "      <th>6</th>\n",
       "      <td>(2, 2)</td>\n",
       "      <td>ActedIn</td>\n",
       "      <td>ActedIn</td>\n",
       "      <td>0.21</td>\n",
       "      <td>NaN</td>\n",
       "    </tr>\n",
       "    <tr>\n",
       "      <th>7</th>\n",
       "      <td>(2, 4)</td>\n",
       "      <td>ActedIn</td>\n",
       "      <td>BornIn</td>\n",
       "      <td>0.13</td>\n",
       "      <td>0.11</td>\n",
       "    </tr>\n",
       "    <tr>\n",
       "      <th>8</th>\n",
       "      <td>(3, 3)</td>\n",
       "      <td>LivedIn</td>\n",
       "      <td>LivedIn</td>\n",
       "      <td>0.33</td>\n",
       "      <td>NaN</td>\n",
       "    </tr>\n",
       "    <tr>\n",
       "      <th>9</th>\n",
       "      <td>(3, 4)</td>\n",
       "      <td>LivedIn</td>\n",
       "      <td>BornIn</td>\n",
       "      <td>0.56</td>\n",
       "      <td>0.81</td>\n",
       "    </tr>\n",
       "    <tr>\n",
       "      <th>10</th>\n",
       "      <td>(3, 5)</td>\n",
       "      <td>LivedIn</td>\n",
       "      <td>Nationality</td>\n",
       "      <td>0.22</td>\n",
       "      <td>0.11</td>\n",
       "    </tr>\n",
       "    <tr>\n",
       "      <th>11</th>\n",
       "      <td>(4, 5)</td>\n",
       "      <td>BornIn</td>\n",
       "      <td>Nationality</td>\n",
       "      <td>0.44</td>\n",
       "      <td>0.36</td>\n",
       "    </tr>\n",
       "  </tbody>\n",
       "</table>\n",
       "</div>"
      ],
      "text/plain": [
       "      pair       rel_a        rel_b  affinity  expected\n",
       "0   (0, 0)    Directed     Directed      0.30       NaN\n",
       "1   (0, 1)    Directed   Profession      0.27      0.22\n",
       "2   (0, 2)    Directed      ActedIn      0.34      0.50\n",
       "3   (1, 1)  Profession   Profession      0.23       NaN\n",
       "4   (1, 2)  Profession      ActedIn      0.37      0.33\n",
       "5   (1, 4)  Profession       BornIn      0.13      0.11\n",
       "6   (2, 2)     ActedIn      ActedIn      0.21       NaN\n",
       "7   (2, 4)     ActedIn       BornIn      0.13      0.11\n",
       "8   (3, 3)     LivedIn      LivedIn      0.33       NaN\n",
       "9   (3, 4)     LivedIn       BornIn      0.56      0.81\n",
       "10  (3, 5)     LivedIn  Nationality      0.22      0.11\n",
       "11  (4, 5)      BornIn  Nationality      0.44      0.36"
      ]
     },
     "execution_count": 32,
     "metadata": {},
     "output_type": "execute_result"
    }
   ],
   "source": [
    "df: pd.DataFrame = graph.trace_metrics(scores)\n",
    "df"
   ]
  },
  {
   "cell_type": "markdown",
   "id": "ff49fe28-e75f-4590-8b87-0d8962928cba",
   "metadata": {},
   "source": [
    "## statistical stack profile instrumentation"
   ]
  },
  {
   "cell_type": "code",
   "execution_count": 33,
   "id": "af4ecb06-370f-4077-9899-29a1673e4768",
   "metadata": {
    "execution": {
     "iopub.execute_input": "2024-01-15T00:39:22.721210Z",
     "iopub.status.busy": "2024-01-15T00:39:22.720383Z",
     "iopub.status.idle": "2024-01-15T00:39:22.730113Z",
     "shell.execute_reply": "2024-01-15T00:39:22.727207Z",
     "shell.execute_reply.started": "2024-01-15T00:39:22.721071Z"
    }
   },
   "outputs": [
    {
     "data": {
      "text/plain": [
       "<pyinstrument.session.Session at 0x15c30f5b0>"
      ]
     },
     "execution_count": 33,
     "metadata": {},
     "output_type": "execute_result"
    }
   ],
   "source": [
    "profiler.stop()"
   ]
  },
  {
   "cell_type": "code",
   "execution_count": 34,
   "id": "d5ac2ce6-15b1-41ad-8215-8a5f76036cf1",
   "metadata": {
    "execution": {
     "iopub.execute_input": "2024-01-15T00:39:22.733083Z",
     "iopub.status.busy": "2024-01-15T00:39:22.732633Z",
     "iopub.status.idle": "2024-01-15T00:39:23.054508Z",
     "shell.execute_reply": "2024-01-15T00:39:23.053495Z",
     "shell.execute_reply.started": "2024-01-15T00:39:22.733045Z"
    }
   },
   "outputs": [
    {
     "name": "stdout",
     "output_type": "stream",
     "text": [
      "\n",
      "  _     ._   __/__   _ _  _  _ _/_   Recorded: 16:39:19  Samples:  2018\n",
      " /_//_/// /_\\ / //_// / //_'/ //     Duration: 3.201     CPU time: 3.683\n",
      "/   _/                      v4.6.1\n",
      "\n",
      "Program: /Users/paco/src/textgraphs/venv/lib/python3.10/site-packages/ipykernel_launcher.py -f /Users/paco/Library/Jupyter/runtime/kernel-fedffb00-c8ca-4ba8-98f0-a44549b65044.json\n",
      "\n",
      "3.201 IPythonKernel.dispatch_queue  ipykernel/kernelbase.py:525\n",
      "└─ 3.199 IPythonKernel.process_one  ipykernel/kernelbase.py:511\n",
      "      [10 frames hidden]  ipykernel, IPython\n",
      "         3.132 ZMQInteractiveShell.run_ast_nodes  IPython/core/interactiveshell.py:3394\n",
      "         ├─ 2.039 <module>  ../ipykernel_83944/3358887201.py:1\n",
      "         │  └─ 2.039 GraphOfRelations.construct_gor  textgraphs/gor.py:311\n",
      "         │     ├─ 1.820 IceCreamDebugger.__call__  icecream/icecream.py:204\n",
      "         │     │     [25 frames hidden]  icecream, colorama, ipykernel, thread...\n",
      "         │     │        1.032 lock.acquire  <built-in>\n",
      "         │     └─ 0.216 GraphOfRelations._transformed_triples  textgraphs/gor.py:275\n",
      "         │        └─ 0.215 IceCreamDebugger.__call__  icecream/icecream.py:204\n",
      "         │              [11 frames hidden]  icecream, colorama, ipykernel, thread...\n",
      "         ├─ 0.462 <module>  ../ipykernel_83944/559531165.py:1\n",
      "         │  ├─ 0.375 show  matplotlib/pyplot.py:482\n",
      "         │  │     [43 frames hidden]  matplotlib, matplotlib_inline, IPytho...\n",
      "         │  └─ 0.088 GraphOfRelations.render_gor_plt  textgraphs/gor.py:522\n",
      "         │     └─ 0.063 draw_networkx  networkx/drawing/nx_pylab.py:127\n",
      "         │           [2 frames hidden]  networkx\n",
      "         ├─ 0.296 <module>  ../ipykernel_83944/4061275008.py:1\n",
      "         │  └─ 0.296 GraphOfRelations.seeds  textgraphs/gor.py:197\n",
      "         │     └─ 0.295 IceCreamDebugger.__call__  icecream/icecream.py:204\n",
      "         │           [12 frames hidden]  icecream, colorama, ipykernel, thread...\n",
      "         ├─ 0.271 <module>  ../ipykernel_83944/1169542473.py:1\n",
      "         │  └─ 0.271 IceCreamDebugger.__call__  icecream/icecream.py:204\n",
      "         │        [19 frames hidden]  icecream, colorama, ipykernel, thread...\n",
      "         └─ 0.036 <module>  ../ipykernel_83944/920427444.py:1\n",
      "\n",
      "\n"
     ]
    }
   ],
   "source": [
    "profiler.print()"
   ]
  },
  {
   "cell_type": "markdown",
   "id": "c47bcfd2-2bd6-49a5-8f1a-102d90edde39",
   "metadata": {
    "jp-MarkdownHeadingCollapsed": true
   },
   "source": [
    "## outro"
   ]
  },
  {
   "cell_type": "markdown",
   "id": "68bea4f9-aec2-4b28-8f08-a4034851d066",
   "metadata": {},
   "source": [
    "_\\[ more parts are in progress, getting added to this demo \\]_"
   ]
  }
 ],
 "metadata": {
  "kernelspec": {
   "display_name": "Python 3 (ipykernel)",
   "language": "python",
   "name": "python3"
  },
  "language_info": {
   "codemirror_mode": {
    "name": "ipython",
    "version": 3
   },
   "file_extension": ".py",
   "mimetype": "text/x-python",
   "name": "python",
   "nbconvert_exporter": "python",
   "pygments_lexer": "ipython3",
   "version": "3.10.11"
  }
 },
 "nbformat": 4,
 "nbformat_minor": 5
}
