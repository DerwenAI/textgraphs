{
 "cells": [
  {
   "cell_type": "code",
   "execution_count": 1,
   "id": "c32bf0b9-1445-4ede-ae49-7dd63ff3b08e",
   "metadata": {
    "execution": {
     "iopub.execute_input": "2024-01-15T01:34:08.042317Z",
     "iopub.status.busy": "2024-01-15T01:34:08.042068Z",
     "iopub.status.idle": "2024-01-15T01:34:08.056321Z",
     "shell.execute_reply": "2024-01-15T01:34:08.054791Z",
     "shell.execute_reply.started": "2024-01-15T01:34:08.042292Z"
    }
   },
   "outputs": [],
   "source": [
    "# for use in tutorial and development; do not include this `sys.path` change in production:\n",
    "import sys ; sys.path.insert(0, \"../\")"
   ]
  },
  {
   "cell_type": "markdown",
   "id": "c8ff5d81-110c-42ae-8aa7-ed4fffea40c6",
   "metadata": {},
   "source": [
    "# bootstrap the _lemma graph_ with RDF triples"
   ]
  },
  {
   "cell_type": "markdown",
   "id": "1e847d0a-bc6c-470a-9fef-620ebbdbbbc3",
   "metadata": {},
   "source": [
    "Show how to bootstrap definitions in a _lemma graph_ by loading RDF, e.g., for synonyms."
   ]
  },
  {
   "cell_type": "markdown",
   "id": "61d8d39a-23e4-48e7-b8f4-0dd724ccf586",
   "metadata": {},
   "source": [
    "## environment"
   ]
  },
  {
   "cell_type": "code",
   "execution_count": 2,
   "id": "22489527-2ad5-4e3c-be23-f511e6bcf69f",
   "metadata": {
    "execution": {
     "iopub.execute_input": "2024-01-15T01:34:08.061552Z",
     "iopub.status.busy": "2024-01-15T01:34:08.060483Z",
     "iopub.status.idle": "2024-01-15T01:34:16.082786Z",
     "shell.execute_reply": "2024-01-15T01:34:16.081522Z",
     "shell.execute_reply.started": "2024-01-15T01:34:08.061507Z"
    },
    "scrolled": true
   },
   "outputs": [],
   "source": [
    "from icecream import ic\n",
    "from pyinstrument import Profiler\n",
    "import pyvis\n",
    "\n",
    "import textgraphs"
   ]
  },
  {
   "cell_type": "code",
   "execution_count": 3,
   "id": "438f5775-487b-493e-a172-59b652b94955",
   "metadata": {
    "execution": {
     "iopub.execute_input": "2024-01-15T01:34:16.085030Z",
     "iopub.status.busy": "2024-01-15T01:34:16.084619Z",
     "iopub.status.idle": "2024-01-15T01:34:16.105797Z",
     "shell.execute_reply": "2024-01-15T01:34:16.105121Z",
     "shell.execute_reply.started": "2024-01-15T01:34:16.085001Z"
    }
   },
   "outputs": [],
   "source": [
    "%load_ext watermark"
   ]
  },
  {
   "cell_type": "code",
   "execution_count": 4,
   "id": "adc052dd-5cca-4d11-b543-3f0999f4f883",
   "metadata": {
    "execution": {
     "iopub.execute_input": "2024-01-15T01:34:16.107278Z",
     "iopub.status.busy": "2024-01-15T01:34:16.107107Z",
     "iopub.status.idle": "2024-01-15T01:34:16.152605Z",
     "shell.execute_reply": "2024-01-15T01:34:16.150978Z",
     "shell.execute_reply.started": "2024-01-15T01:34:16.107256Z"
    }
   },
   "outputs": [
    {
     "name": "stdout",
     "output_type": "stream",
     "text": [
      "Last updated: 2024-01-14T17:34:16.110051-08:00\n",
      "\n",
      "Python implementation: CPython\n",
      "Python version       : 3.10.11\n",
      "IPython version      : 8.20.0\n",
      "\n",
      "Compiler    : Clang 13.0.0 (clang-1300.0.29.30)\n",
      "OS          : Darwin\n",
      "Release     : 21.6.0\n",
      "Machine     : x86_64\n",
      "Processor   : i386\n",
      "CPU cores   : 8\n",
      "Architecture: 64bit\n",
      "\n"
     ]
    }
   ],
   "source": [
    "%watermark"
   ]
  },
  {
   "cell_type": "code",
   "execution_count": 5,
   "id": "6e4618da-daf9-44c9-adbb-e5781dba5504",
   "metadata": {
    "execution": {
     "iopub.execute_input": "2024-01-15T01:34:16.159924Z",
     "iopub.status.busy": "2024-01-15T01:34:16.158355Z",
     "iopub.status.idle": "2024-01-15T01:34:16.185738Z",
     "shell.execute_reply": "2024-01-15T01:34:16.184893Z",
     "shell.execute_reply.started": "2024-01-15T01:34:16.159853Z"
    }
   },
   "outputs": [
    {
     "name": "stdout",
     "output_type": "stream",
     "text": [
      "sys       : 3.10.11 (v3.10.11:7d4cc5aa85, Apr  4 2023, 19:05:19) [Clang 13.0.0 (clang-1300.0.29.30)]\n",
      "textgraphs: 0.3.2.dev3+gaea63b7.d20240108\n",
      "pyvis     : 0.3.2\n",
      "\n"
     ]
    }
   ],
   "source": [
    "%watermark --iversions"
   ]
  },
  {
   "cell_type": "markdown",
   "id": "23cefb5b-6ee7-4c33-8f82-a526cb9125d8",
   "metadata": {
    "execution": {
     "iopub.execute_input": "2024-01-15T00:46:26.663615Z",
     "iopub.status.busy": "2024-01-15T00:46:26.662220Z",
     "iopub.status.idle": "2024-01-15T00:46:26.673766Z",
     "shell.execute_reply": "2024-01-15T00:46:26.672702Z",
     "shell.execute_reply.started": "2024-01-15T00:46:26.663477Z"
    }
   },
   "source": [
    "## load the bootstrap definitions"
   ]
  },
  {
   "cell_type": "markdown",
   "id": "89da700d-1e7f-4b24-901f-a36db8525add",
   "metadata": {},
   "source": [
    "Define the bootstrap RDF triples in N3/Turtle format: we define an entity `Werner` as a synonym for `Werner Herzog` by using the [`skos:broader`](https://www.w3.org/TR/skos-reference/#semantic-relations) relation. Keep in mind that this entity may also refer to other Werners..."
   ]
  },
  {
   "cell_type": "code",
   "execution_count": 6,
   "id": "e2412f6c-2c60-40d7-95f5-7bd281d522e7",
   "metadata": {
    "execution": {
     "iopub.execute_input": "2024-01-15T01:34:16.188375Z",
     "iopub.status.busy": "2024-01-15T01:34:16.188059Z",
     "iopub.status.idle": "2024-01-15T01:34:16.196374Z",
     "shell.execute_reply": "2024-01-15T01:34:16.194910Z",
     "shell.execute_reply.started": "2024-01-15T01:34:16.188345Z"
    }
   },
   "outputs": [],
   "source": [
    "TTL_STR: str = \"\"\"\n",
    "@base <https://github.com/DerwenAI/textgraphs/ns/> .\n",
    "@prefix dbo: <http://dbpedia.org/ontology/> .\n",
    "@prefix skos: <http://www.w3.org/2004/02/skos/core#> .\n",
    "\n",
    "<entity/werner_PROPN> a dbo:Person ;\n",
    "    skos:prefLabel \"Werner\"@en .\n",
    "\n",
    "<entity/werner_PROPN_herzog_PROPN> a dbo:Person ;\n",
    "    skos:prefLabel \"Werner Herzog\"@en.\n",
    "\n",
    "dbo:Person skos:definition \"People, including fictional\"@en ;\n",
    "    skos:prefLabel \"person\"@en .\n",
    "\n",
    "<entity/werner_PROPN_herzog_PROPN> skos:broader <entity/werner_PROPN> .\n",
    "\"\"\""
   ]
  },
  {
   "cell_type": "markdown",
   "id": "7c567afd-2f44-4391-899a-da6aba3d222e",
   "metadata": {},
   "source": [
    "Provide the source text"
   ]
  },
  {
   "cell_type": "code",
   "execution_count": 7,
   "id": "630430c5-21dc-4897-9a4b-3b01baf3de17",
   "metadata": {
    "execution": {
     "iopub.execute_input": "2024-01-15T01:34:16.207423Z",
     "iopub.status.busy": "2024-01-15T01:34:16.206871Z",
     "iopub.status.idle": "2024-01-15T01:34:16.214150Z",
     "shell.execute_reply": "2024-01-15T01:34:16.212569Z",
     "shell.execute_reply.started": "2024-01-15T01:34:16.207379Z"
    }
   },
   "outputs": [],
   "source": [
    "SRC_TEXT: str = \"\"\"                                                                                                                      \n",
    "Werner Herzog is a remarkable filmmaker and an intellectual originally from Germany, the son of Dietrich Herzog.\n",
    "After the war, Werner fled to America to become famous.\n",
    "\"\"\""
   ]
  },
  {
   "cell_type": "markdown",
   "id": "01152885-f301-49b1-ab61-f5b19d81c036",
   "metadata": {},
   "source": [
    "set up the statistical stack profiling"
   ]
  },
  {
   "cell_type": "code",
   "execution_count": 8,
   "id": "2a289117-301d-4027-ae1b-200201fb5f93",
   "metadata": {
    "execution": {
     "iopub.execute_input": "2024-01-15T01:34:16.216826Z",
     "iopub.status.busy": "2024-01-15T01:34:16.216244Z",
     "iopub.status.idle": "2024-01-15T01:34:16.226775Z",
     "shell.execute_reply": "2024-01-15T01:34:16.224918Z",
     "shell.execute_reply.started": "2024-01-15T01:34:16.216776Z"
    }
   },
   "outputs": [],
   "source": [
    "profiler: Profiler = Profiler()\n",
    "profiler.start()"
   ]
  },
  {
   "cell_type": "markdown",
   "id": "bf9d4f99-b82b-4d11-a9a4-31d0337f4aa8",
   "metadata": {},
   "source": [
    "set up the `TextGraphs` pipeline"
   ]
  },
  {
   "cell_type": "code",
   "execution_count": 9,
   "id": "da6fcb0f-b2ac-4f74-af39-2c129c750cab",
   "metadata": {
    "execution": {
     "iopub.execute_input": "2024-01-15T01:34:16.231850Z",
     "iopub.status.busy": "2024-01-15T01:34:16.230874Z",
     "iopub.status.idle": "2024-01-15T01:34:19.780526Z",
     "shell.execute_reply": "2024-01-15T01:34:19.779674Z",
     "shell.execute_reply.started": "2024-01-15T01:34:16.231734Z"
    }
   },
   "outputs": [],
   "source": [
    "tg: textgraphs.TextGraphs = textgraphs.TextGraphs(\n",
    "    factory = textgraphs.PipelineFactory(\n",
    "        kg = textgraphs.KGWikiMedia(\n",
    "            spotlight_api = textgraphs.DBPEDIA_SPOTLIGHT_API,\n",
    "            dbpedia_search_api = textgraphs.DBPEDIA_SEARCH_API,\n",
    "            dbpedia_sparql_api = textgraphs.DBPEDIA_SPARQL_API,\n",
    "    \t\twikidata_api = textgraphs.WIKIDATA_API,\n",
    "            min_alias = textgraphs.DBPEDIA_MIN_ALIAS,\n",
    "            min_similarity = textgraphs.DBPEDIA_MIN_SIM,\n",
    "        ),\n",
    "    ),\n",
    ")"
   ]
  },
  {
   "cell_type": "markdown",
   "id": "e6f98bbc-6954-4e39-b5d6-f726816bd5c7",
   "metadata": {},
   "source": [
    "load the bootstrap definitions"
   ]
  },
  {
   "cell_type": "code",
   "execution_count": 10,
   "id": "321a9a90-ae80-47d7-b392-020b06bd3066",
   "metadata": {
    "execution": {
     "iopub.execute_input": "2024-01-15T01:34:19.782005Z",
     "iopub.status.busy": "2024-01-15T01:34:19.781765Z",
     "iopub.status.idle": "2024-01-15T01:34:19.799080Z",
     "shell.execute_reply": "2024-01-15T01:34:19.798009Z",
     "shell.execute_reply.started": "2024-01-15T01:34:19.781972Z"
    }
   },
   "outputs": [],
   "source": [
    "tg.load_bootstrap_ttl(\n",
    "    TTL_STR,\n",
    "    debug = False,\n",
    ")"
   ]
  },
  {
   "cell_type": "markdown",
   "id": "1db1fe56-52fe-4a01-9776-82908444dd6c",
   "metadata": {},
   "source": [
    "parse the input text"
   ]
  },
  {
   "cell_type": "code",
   "execution_count": 11,
   "id": "f7f6665e-19da-4a25-a405-adbb5dfb3e88",
   "metadata": {
    "execution": {
     "iopub.execute_input": "2024-01-15T01:34:19.802115Z",
     "iopub.status.busy": "2024-01-15T01:34:19.801579Z",
     "iopub.status.idle": "2024-01-15T01:34:25.590682Z",
     "shell.execute_reply": "2024-01-15T01:34:25.589240Z",
     "shell.execute_reply.started": "2024-01-15T01:34:19.802074Z"
    }
   },
   "outputs": [],
   "source": [
    "pipe: textgraphs.Pipeline = tg.create_pipeline(\n",
    "    SRC_TEXT.strip(),\n",
    ")\n",
    "\n",
    "tg.collect_graph_elements(\n",
    "    pipe,\n",
    "    debug = False,\n",
    ")\n",
    "\n",
    "tg.construct_lemma_graph(\n",
    "    debug = False,\n",
    ")"
   ]
  },
  {
   "cell_type": "markdown",
   "id": "3143955c-446a-4e6c-834c-583ab173f446",
   "metadata": {},
   "source": [
    "## visualize the lemma graph"
   ]
  },
  {
   "cell_type": "code",
   "execution_count": 12,
   "id": "05b409af-14df-4158-9709-ffe2d79e864b",
   "metadata": {
    "execution": {
     "iopub.execute_input": "2024-01-15T01:34:25.594377Z",
     "iopub.status.busy": "2024-01-15T01:34:25.593898Z",
     "iopub.status.idle": "2024-01-15T01:34:25.603491Z",
     "shell.execute_reply": "2024-01-15T01:34:25.602080Z",
     "shell.execute_reply.started": "2024-01-15T01:34:25.594322Z"
    },
    "scrolled": true
   },
   "outputs": [],
   "source": [
    "render: textgraphs.RenderPyVis = tg.create_render()\n",
    "\n",
    "pv_graph: pyvis.network.Network = render.render_lemma_graph(\n",
    "    debug = False,\n",
    ")"
   ]
  },
  {
   "cell_type": "markdown",
   "id": "7b5d3e88-6669-4df1-a20a-587cc6a7db12",
   "metadata": {},
   "source": [
    "initialize the layout parameters"
   ]
  },
  {
   "cell_type": "code",
   "execution_count": 13,
   "id": "b212f5ed-03d6-439f-92ae-f2cbedb18609",
   "metadata": {
    "execution": {
     "iopub.execute_input": "2024-01-15T01:34:25.609951Z",
     "iopub.status.busy": "2024-01-15T01:34:25.606914Z",
     "iopub.status.idle": "2024-01-15T01:34:25.625897Z",
     "shell.execute_reply": "2024-01-15T01:34:25.622815Z",
     "shell.execute_reply.started": "2024-01-15T01:34:25.609814Z"
    }
   },
   "outputs": [],
   "source": [
    "pv_graph.force_atlas_2based(\n",
    "    gravity = -38,\n",
    "    central_gravity = 0.01,\n",
    "    spring_length = 231,\n",
    "    spring_strength = 0.7,\n",
    "    damping = 0.8,\n",
    "    overlap = 0,\n",
    ")\n",
    "\n",
    "pv_graph.show_buttons(filter_ = [ \"physics\" ])\n",
    "pv_graph.toggle_physics(True)"
   ]
  },
  {
   "cell_type": "code",
   "execution_count": 14,
   "id": "2f952a7c-3130-49c9-b659-fb941e9e0bfe",
   "metadata": {
    "execution": {
     "iopub.execute_input": "2024-01-15T01:34:25.632256Z",
     "iopub.status.busy": "2024-01-15T01:34:25.630774Z",
     "iopub.status.idle": "2024-01-15T01:34:25.720882Z",
     "shell.execute_reply": "2024-01-15T01:34:25.719869Z",
     "shell.execute_reply.started": "2024-01-15T01:34:25.632141Z"
    }
   },
   "outputs": [
    {
     "name": "stdout",
     "output_type": "stream",
     "text": [
      "tmp.fig01.html\n"
     ]
    },
    {
     "data": {
      "text/html": [
       "\n",
       "        <iframe\n",
       "            width=\"100%\"\n",
       "            height=\"600px\"\n",
       "            src=\"tmp.fig01.html\"\n",
       "            frameborder=\"0\"\n",
       "            allowfullscreen\n",
       "            \n",
       "        ></iframe>\n",
       "        "
      ],
      "text/plain": [
       "<IPython.lib.display.IFrame at 0x15b34d6f0>"
      ]
     },
     "execution_count": 14,
     "metadata": {},
     "output_type": "execute_result"
    }
   ],
   "source": [
    "pv_graph.prep_notebook()\n",
    "pv_graph.show(\"tmp.fig01.html\")"
   ]
  },
  {
   "cell_type": "markdown",
   "id": "e57d42a8-4414-4f27-9817-b9339e65346f",
   "metadata": {},
   "source": [
    "Notice how the `Werner` and `Werner Herzog` nodes are now linked? This synonym from the bootstrap definitions above provided means to link more portions of the _lemma graph_ than the demo in `ex0_0` with the same input text."
   ]
  },
  {
   "cell_type": "markdown",
   "id": "ff49fe28-e75f-4590-8b87-0d8962928cba",
   "metadata": {},
   "source": [
    "## statistical stack profile instrumentation"
   ]
  },
  {
   "cell_type": "code",
   "execution_count": 15,
   "id": "af4ecb06-370f-4077-9899-29a1673e4768",
   "metadata": {
    "execution": {
     "iopub.execute_input": "2024-01-15T01:34:25.725966Z",
     "iopub.status.busy": "2024-01-15T01:34:25.724606Z",
     "iopub.status.idle": "2024-01-15T01:34:25.733116Z",
     "shell.execute_reply": "2024-01-15T01:34:25.732444Z",
     "shell.execute_reply.started": "2024-01-15T01:34:25.725883Z"
    }
   },
   "outputs": [
    {
     "data": {
      "text/plain": [
       "<pyinstrument.session.Session at 0x15b34dfc0>"
      ]
     },
     "execution_count": 15,
     "metadata": {},
     "output_type": "execute_result"
    }
   ],
   "source": [
    "profiler.stop()"
   ]
  },
  {
   "cell_type": "code",
   "execution_count": 16,
   "id": "d5ac2ce6-15b1-41ad-8215-8a5f76036cf1",
   "metadata": {
    "execution": {
     "iopub.execute_input": "2024-01-15T01:34:25.734703Z",
     "iopub.status.busy": "2024-01-15T01:34:25.734515Z",
     "iopub.status.idle": "2024-01-15T01:34:26.745994Z",
     "shell.execute_reply": "2024-01-15T01:34:26.745420Z",
     "shell.execute_reply.started": "2024-01-15T01:34:25.734679Z"
    }
   },
   "outputs": [
    {
     "name": "stdout",
     "output_type": "stream",
     "text": [
      "\n",
      "  _     ._   __/__   _ _  _  _ _/_   Recorded: 17:34:16  Samples:  3142\n",
      " /_//_/// /_\\ / //_// / //_'/ //     Duration: 9.510     CPU time: 3.591\n",
      "/   _/                      v4.6.1\n",
      "\n",
      "Program: /Users/paco/src/textgraphs/venv/lib/python3.10/site-packages/ipykernel_launcher.py -f /Users/paco/Library/Jupyter/runtime/kernel-a4651af1-5b88-4c9e-ad8d-662f666edfc8.json\n",
      "\n",
      "9.509 IPythonKernel.dispatch_queue  ipykernel/kernelbase.py:525\n",
      "└─ 9.508 IPythonKernel.process_one  ipykernel/kernelbase.py:511\n",
      "      [10 frames hidden]  ipykernel, IPython\n",
      "         9.426 ZMQInteractiveShell.run_ast_nodes  IPython/core/interactiveshell.py:3394\n",
      "         ├─ 5.784 <module>  ../ipykernel_84869/3257668275.py:1\n",
      "         │  └─ 5.778 TextGraphs.create_pipeline  textgraphs/doc.py:98\n",
      "         │     └─ 5.778 PipelineFactory.create_pipeline  textgraphs/pipe.py:508\n",
      "         │        └─ 5.778 Pipeline.__init__  textgraphs/pipe.py:216\n",
      "         │           └─ 5.778 English.__call__  spacy/language.py:1016\n",
      "         │                 [40 frames hidden]  spacy, spacy_dbpedia_spotlight, reque...\n",
      "         │                    3.428 socket.connect  <built-in>\n",
      "         └─ 3.540 <module>  ../ipykernel_84869/1372904243.py:1\n",
      "            └─ 3.538 PipelineFactory.__init__  textgraphs/pipe.py:434\n",
      "               └─ 3.519 load  spacy/__init__.py:27\n",
      "                     [78 frames hidden]  spacy, en_core_web_sm, catalogue, imp...\n",
      "\n",
      "\n"
     ]
    }
   ],
   "source": [
    "profiler.print()"
   ]
  },
  {
   "cell_type": "markdown",
   "id": "c47bcfd2-2bd6-49a5-8f1a-102d90edde39",
   "metadata": {
    "jp-MarkdownHeadingCollapsed": true
   },
   "source": [
    "## outro"
   ]
  },
  {
   "cell_type": "markdown",
   "id": "68bea4f9-aec2-4b28-8f08-a4034851d066",
   "metadata": {},
   "source": [
    "_\\[ more parts are in progress, getting added to this demo \\]_"
   ]
  }
 ],
 "metadata": {
  "kernelspec": {
   "display_name": "Python 3 (ipykernel)",
   "language": "python",
   "name": "python3"
  },
  "language_info": {
   "codemirror_mode": {
    "name": "ipython",
    "version": 3
   },
   "file_extension": ".py",
   "mimetype": "text/x-python",
   "name": "python",
   "nbconvert_exporter": "python",
   "pygments_lexer": "ipython3",
   "version": "3.10.11"
  }
 },
 "nbformat": 4,
 "nbformat_minor": 5
}
